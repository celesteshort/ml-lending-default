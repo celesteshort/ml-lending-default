{
 "cells": [
  {
   "cell_type": "markdown",
   "id": "impressive-density",
   "metadata": {
    "toc": true
   },
   "source": [
    "<h1>Table of Contents<span class=\"tocSkip\"></span></h1>\n",
    "<div class=\"toc\"><ul class=\"toc-item\"><li><span><a href=\"#The-Data-Source\" data-toc-modified-id=\"The-Data-Source-1\"><span class=\"toc-item-num\">1&nbsp;&nbsp;</span>The Data Source</a></span></li><li><span><a href=\"#Problem-Statement\" data-toc-modified-id=\"Problem-Statement-2\"><span class=\"toc-item-num\">2&nbsp;&nbsp;</span>Problem Statement</a></span></li><li><span><a href=\"#Data-Cleaning\" data-toc-modified-id=\"Data-Cleaning-3\"><span class=\"toc-item-num\">3&nbsp;&nbsp;</span>Data Cleaning</a></span></li><li><span><a href=\"#Explanatory-Data-Analysis\" data-toc-modified-id=\"Explanatory-Data-Analysis-4\"><span class=\"toc-item-num\">4&nbsp;&nbsp;</span>Explanatory Data Analysis</a></span><ul class=\"toc-item\"><li><span><a href=\"#Loan-Status\" data-toc-modified-id=\"Loan-Status-4.1\"><span class=\"toc-item-num\">4.1&nbsp;&nbsp;</span>Loan Status</a></span></li><li><span><a href=\"#Annual-Income\" data-toc-modified-id=\"Annual-Income-4.2\"><span class=\"toc-item-num\">4.2&nbsp;&nbsp;</span>Annual Income</a></span></li><li><span><a href=\"#Funded-Amount\" data-toc-modified-id=\"Funded-Amount-4.3\"><span class=\"toc-item-num\">4.3&nbsp;&nbsp;</span>Funded Amount</a></span></li><li><span><a href=\"#Grade\" data-toc-modified-id=\"Grade-4.4\"><span class=\"toc-item-num\">4.4&nbsp;&nbsp;</span>Grade</a></span></li><li><span><a href=\"#Interest-Rate\" data-toc-modified-id=\"Interest-Rate-4.5\"><span class=\"toc-item-num\">4.5&nbsp;&nbsp;</span>Interest Rate</a></span></li><li><span><a href=\"#Employment-History\" data-toc-modified-id=\"Employment-History-4.6\"><span class=\"toc-item-num\">4.6&nbsp;&nbsp;</span>Employment History</a></span></li><li><span><a href=\"#Term\" data-toc-modified-id=\"Term-4.7\"><span class=\"toc-item-num\">4.7&nbsp;&nbsp;</span>Term</a></span></li><li><span><a href=\"#Home-Ownership\" data-toc-modified-id=\"Home-Ownership-4.8\"><span class=\"toc-item-num\">4.8&nbsp;&nbsp;</span>Home Ownership</a></span></li><li><span><a href=\"#Purpose\" data-toc-modified-id=\"Purpose-4.9\"><span class=\"toc-item-num\">4.9&nbsp;&nbsp;</span>Purpose</a></span></li></ul></li><li><span><a href=\"#Models\" data-toc-modified-id=\"Models-5\"><span class=\"toc-item-num\">5&nbsp;&nbsp;</span>Models</a></span><ul class=\"toc-item\"><li><span><a href=\"#Set-up-modeling\" data-toc-modified-id=\"Set-up-modeling-5.1\"><span class=\"toc-item-num\">5.1&nbsp;&nbsp;</span>Set up modeling</a></span></li><li><span><a href=\"#Logistic-Regression\" data-toc-modified-id=\"Logistic-Regression-5.2\"><span class=\"toc-item-num\">5.2&nbsp;&nbsp;</span>Logistic Regression</a></span></li><li><span><a href=\"#KNeighbors\" data-toc-modified-id=\"KNeighbors-5.3\"><span class=\"toc-item-num\">5.3&nbsp;&nbsp;</span>KNeighbors</a></span></li><li><span><a href=\"#Random-Forest-Classifier\" data-toc-modified-id=\"Random-Forest-Classifier-5.4\"><span class=\"toc-item-num\">5.4&nbsp;&nbsp;</span>Random Forest Classifier</a></span></li><li><span><a href=\"#Ada-Boost\" data-toc-modified-id=\"Ada-Boost-5.5\"><span class=\"toc-item-num\">5.5&nbsp;&nbsp;</span>Ada Boost</a></span></li></ul></li><li><span><a href=\"#Imbalance-SMOTE\" data-toc-modified-id=\"Imbalance-SMOTE-6\"><span class=\"toc-item-num\">6&nbsp;&nbsp;</span>Imbalance SMOTE</a></span></li></ul></div>"
   ]
  },
  {
   "cell_type": "markdown",
   "id": "behavioral-daniel",
   "metadata": {},
   "source": [
    "## The Data Source"
   ]
  },
  {
   "cell_type": "markdown",
   "id": "accurate-tours",
   "metadata": {},
   "source": [
    "Source: https://www.lendingclub.com/info/download-data.action"
   ]
  },
  {
   "cell_type": "markdown",
   "id": "intimate-housing",
   "metadata": {},
   "source": [
    "Lending Club is a peer-to-peer lending company with its headquarters in San Francisco, California.  It began by operating as an online consumer-lending platform that enables borrowers to obtain an unsecured loan that's funded by investors.  Investors are able to search and browse the loan listings on Lending Club website and select loans that they want to invest in based on the information supplied about the borrower, amount of loan, loan grade, and loan purpose. Investors make money from the interest on these loans. The loans can only be chosen at the interest rates assigned by Lending Club, but investors could decide how much to fund each borrower, with a minimum investment of $25.  Investors make money from the interest.  Lending Club makes money by charging borrowers an origination fee and investors a service fee.\n",
    "\n",
    "\n",
    "The data from LendingClub is from 2007 to 2018Q4.  It was downloaded and saved to a CSV.  We selected the features to use on this project and created a new CSV. "
   ]
  },
  {
   "cell_type": "markdown",
   "id": "middle-scene",
   "metadata": {},
   "source": [
    "## Problem Statement\n",
    "The goal, using Machine Learning models and some of the features in the data set, is to determine if a borrower will  default on their loan.\n",
    "\n",
    "What is default?  According to dictionary.com, defaulting on a loan happens when a borrower fails \"to pay back a debt according to the initial arrangement with the institution\". At Lending Club, after 120 days, a loan goes into default."
   ]
  },
  {
   "cell_type": "code",
   "execution_count": 1,
   "id": "attended-shipping",
   "metadata": {},
   "outputs": [],
   "source": [
    "#import libraries\n",
    "import numpy as np\n",
    "import pandas as pd\n",
    "from nltk.corpus import stopwords\n",
    "import re\n",
    "from sklearn.preprocessing import StandardScaler\n",
    "import matplotlib.pyplot as plt\n",
    "import seaborn as sns\n",
    "\n",
    "from sklearn.model_selection import train_test_split\n",
    "from sklearn.linear_model import LogisticRegression\n",
    "\n",
    "%matplotlib inline"
   ]
  },
  {
   "cell_type": "code",
   "execution_count": 2,
   "id": "backed-surface",
   "metadata": {},
   "outputs": [],
   "source": [
    "#import the data\n",
    "loan2 = pd.read_csv('./LoanStats/loans_with_date.csv', low_memory=False)"
   ]
  },
  {
   "cell_type": "markdown",
   "id": "organizational-separation",
   "metadata": {},
   "source": [
    "There are 149 features in this data set. We streamlined the features to those important for this analysis and created a new data set.\n",
    "\n",
    "Some of the features we chose for this project are income, employment, home ownership status and interest rate.\n",
    "\n",
    "Many of the features that were eliminated from the data set.  For example, loan description and title are the same as purpose of the loan."
   ]
  },
  {
   "cell_type": "markdown",
   "id": "numerical-preserve",
   "metadata": {},
   "source": [
    "|LoanStat||Description|\n",
    "|:-:||:-:|\n",
    "|annual_inc||Annual income: annual income provided by the borrower during registration|\n",
    "|emp_length||Employment length: in years. All values are between 0 and 10 where 0 means less than one year and 10 means ten or more years|\n",
    "|funded_amnt||Funded amount: The total amount of the loan|\n",
    "|grade||Lending Club uses a system where \"A\" is the best grade and \"G\" the worst.|\n",
    "|home_ownership||The home ownership status provided by the borrower |\n",
    "|installment||Installment: is the monthly payment owed by the borrower|\n",
    "|int_rate||Interest rate on the loan|\n",
    "|loan_amnt||Loan amount: The amount of the loan applied for by the borrower. If the credit department reduces the loan amount, then it will be reflected in this value|\n",
    "|loan_status||Current status of the loan|\n",
    "|purpose||It is  provided by the borrower for the loan request|\n",
    "|term||The number of payments on the loan. Values are in months and can be either 36 or 60|\n",
    "|total_pymnt||Total payments: Payments received to date for total amount funded|"
   ]
  },
  {
   "cell_type": "markdown",
   "id": "billion-patrol",
   "metadata": {},
   "source": [
    "## Data Cleaning"
   ]
  },
  {
   "cell_type": "markdown",
   "id": "convenient-morgan",
   "metadata": {},
   "source": [
    "In this section, we will examine our data and familiarize ourselves with it.  We will identify and remove missing and duplicate values from our large data set. This is an important step because it will impact the score.  "
   ]
  },
  {
   "cell_type": "code",
   "execution_count": 3,
   "id": "continuing-stations",
   "metadata": {},
   "outputs": [
    {
     "name": "stdout",
     "output_type": "stream",
     "text": [
      " The shape of the data is (2260701, 17)\n"
     ]
    },
    {
     "data": {
      "text/html": [
       "<div>\n",
       "<style scoped>\n",
       "    .dataframe tbody tr th:only-of-type {\n",
       "        vertical-align: middle;\n",
       "    }\n",
       "\n",
       "    .dataframe tbody tr th {\n",
       "        vertical-align: top;\n",
       "    }\n",
       "\n",
       "    .dataframe thead th {\n",
       "        text-align: right;\n",
       "    }\n",
       "</style>\n",
       "<table border=\"1\" class=\"dataframe\">\n",
       "  <thead>\n",
       "    <tr style=\"text-align: right;\">\n",
       "      <th></th>\n",
       "      <th>Unnamed: 0</th>\n",
       "      <th>funded_amnt</th>\n",
       "      <th>emp_length</th>\n",
       "      <th>annual_inc</th>\n",
       "      <th>loan_status</th>\n",
       "      <th>loan_amnt</th>\n",
       "      <th>home_ownership</th>\n",
       "      <th>int_rate</th>\n",
       "      <th>addr_state</th>\n",
       "      <th>grade</th>\n",
       "      <th>term</th>\n",
       "      <th>installment</th>\n",
       "      <th>total_pymnt</th>\n",
       "      <th>issue_d</th>\n",
       "      <th>purpose</th>\n",
       "      <th>dti</th>\n",
       "      <th>zip_code</th>\n",
       "    </tr>\n",
       "  </thead>\n",
       "  <tbody>\n",
       "    <tr>\n",
       "      <th>0</th>\n",
       "      <td>0</td>\n",
       "      <td>3600.0</td>\n",
       "      <td>10+ years</td>\n",
       "      <td>55000.0</td>\n",
       "      <td>Fully Paid</td>\n",
       "      <td>3600.0</td>\n",
       "      <td>MORTGAGE</td>\n",
       "      <td>13.99</td>\n",
       "      <td>PA</td>\n",
       "      <td>C</td>\n",
       "      <td>36 months</td>\n",
       "      <td>123.03</td>\n",
       "      <td>4421.723917</td>\n",
       "      <td>Dec-2015</td>\n",
       "      <td>debt_consolidation</td>\n",
       "      <td>5.91</td>\n",
       "      <td>190xx</td>\n",
       "    </tr>\n",
       "    <tr>\n",
       "      <th>1</th>\n",
       "      <td>1</td>\n",
       "      <td>24700.0</td>\n",
       "      <td>10+ years</td>\n",
       "      <td>65000.0</td>\n",
       "      <td>Fully Paid</td>\n",
       "      <td>24700.0</td>\n",
       "      <td>MORTGAGE</td>\n",
       "      <td>11.99</td>\n",
       "      <td>SD</td>\n",
       "      <td>C</td>\n",
       "      <td>36 months</td>\n",
       "      <td>820.28</td>\n",
       "      <td>25679.660000</td>\n",
       "      <td>Dec-2015</td>\n",
       "      <td>small_business</td>\n",
       "      <td>16.06</td>\n",
       "      <td>577xx</td>\n",
       "    </tr>\n",
       "    <tr>\n",
       "      <th>2</th>\n",
       "      <td>2</td>\n",
       "      <td>20000.0</td>\n",
       "      <td>10+ years</td>\n",
       "      <td>63000.0</td>\n",
       "      <td>Fully Paid</td>\n",
       "      <td>20000.0</td>\n",
       "      <td>MORTGAGE</td>\n",
       "      <td>10.78</td>\n",
       "      <td>IL</td>\n",
       "      <td>B</td>\n",
       "      <td>60 months</td>\n",
       "      <td>432.66</td>\n",
       "      <td>22705.924294</td>\n",
       "      <td>Dec-2015</td>\n",
       "      <td>home_improvement</td>\n",
       "      <td>10.78</td>\n",
       "      <td>605xx</td>\n",
       "    </tr>\n",
       "    <tr>\n",
       "      <th>3</th>\n",
       "      <td>3</td>\n",
       "      <td>35000.0</td>\n",
       "      <td>10+ years</td>\n",
       "      <td>110000.0</td>\n",
       "      <td>Current</td>\n",
       "      <td>35000.0</td>\n",
       "      <td>MORTGAGE</td>\n",
       "      <td>14.85</td>\n",
       "      <td>NJ</td>\n",
       "      <td>C</td>\n",
       "      <td>60 months</td>\n",
       "      <td>829.90</td>\n",
       "      <td>31464.010000</td>\n",
       "      <td>Dec-2015</td>\n",
       "      <td>debt_consolidation</td>\n",
       "      <td>17.06</td>\n",
       "      <td>076xx</td>\n",
       "    </tr>\n",
       "    <tr>\n",
       "      <th>4</th>\n",
       "      <td>4</td>\n",
       "      <td>10400.0</td>\n",
       "      <td>3 years</td>\n",
       "      <td>104433.0</td>\n",
       "      <td>Fully Paid</td>\n",
       "      <td>10400.0</td>\n",
       "      <td>MORTGAGE</td>\n",
       "      <td>22.45</td>\n",
       "      <td>PA</td>\n",
       "      <td>F</td>\n",
       "      <td>60 months</td>\n",
       "      <td>289.91</td>\n",
       "      <td>11740.500000</td>\n",
       "      <td>Dec-2015</td>\n",
       "      <td>major_purchase</td>\n",
       "      <td>25.37</td>\n",
       "      <td>174xx</td>\n",
       "    </tr>\n",
       "  </tbody>\n",
       "</table>\n",
       "</div>"
      ],
      "text/plain": [
       "   Unnamed: 0  funded_amnt emp_length  annual_inc loan_status  loan_amnt  \\\n",
       "0           0       3600.0  10+ years     55000.0  Fully Paid     3600.0   \n",
       "1           1      24700.0  10+ years     65000.0  Fully Paid    24700.0   \n",
       "2           2      20000.0  10+ years     63000.0  Fully Paid    20000.0   \n",
       "3           3      35000.0  10+ years    110000.0     Current    35000.0   \n",
       "4           4      10400.0    3 years    104433.0  Fully Paid    10400.0   \n",
       "\n",
       "  home_ownership  int_rate addr_state grade        term  installment  \\\n",
       "0       MORTGAGE     13.99         PA     C   36 months       123.03   \n",
       "1       MORTGAGE     11.99         SD     C   36 months       820.28   \n",
       "2       MORTGAGE     10.78         IL     B   60 months       432.66   \n",
       "3       MORTGAGE     14.85         NJ     C   60 months       829.90   \n",
       "4       MORTGAGE     22.45         PA     F   60 months       289.91   \n",
       "\n",
       "    total_pymnt   issue_d             purpose    dti zip_code  \n",
       "0   4421.723917  Dec-2015  debt_consolidation   5.91    190xx  \n",
       "1  25679.660000  Dec-2015      small_business  16.06    577xx  \n",
       "2  22705.924294  Dec-2015    home_improvement  10.78    605xx  \n",
       "3  31464.010000  Dec-2015  debt_consolidation  17.06    076xx  \n",
       "4  11740.500000  Dec-2015      major_purchase  25.37    174xx  "
      ]
     },
     "execution_count": 3,
     "metadata": {},
     "output_type": "execute_result"
    }
   ],
   "source": [
    "# print the first (5) rows and examine and evaluate them \n",
    "# check if there are enough observations to accurately predict an outcome\n",
    "print(f' The shape of the data is {loan2.shape}')\n",
    "loan2.head()"
   ]
  },
  {
   "cell_type": "code",
   "execution_count": 4,
   "id": "musical-snowboard",
   "metadata": {},
   "outputs": [],
   "source": [
    "# removed the Unnamed Column\n",
    "loan2.drop(columns=['Unnamed: 0'], inplace=True)"
   ]
  },
  {
   "cell_type": "markdown",
   "id": "tested-decline",
   "metadata": {},
   "source": [
    "An 'object' data type stores mixed data types. Throughout our EDA (next section), they will be converted to floating point numbers because some machine learning models cannot work with them."
   ]
  },
  {
   "cell_type": "code",
   "execution_count": 5,
   "id": "shaped-heath",
   "metadata": {},
   "outputs": [
    {
     "data": {
      "text/plain": [
       "funded_amnt       float64\n",
       "emp_length         object\n",
       "annual_inc        float64\n",
       "loan_status        object\n",
       "loan_amnt         float64\n",
       "home_ownership     object\n",
       "int_rate          float64\n",
       "addr_state         object\n",
       "grade              object\n",
       "term               object\n",
       "installment       float64\n",
       "total_pymnt       float64\n",
       "issue_d            object\n",
       "purpose            object\n",
       "dti               float64\n",
       "zip_code           object\n",
       "dtype: object"
      ]
     },
     "execution_count": 5,
     "metadata": {},
     "output_type": "execute_result"
    }
   ],
   "source": [
    "# a list of the features' data types\n",
    "loan2.dtypes"
   ]
  },
  {
   "cell_type": "markdown",
   "id": "legal-orchestra",
   "metadata": {},
   "source": [
    "Next, we will identify and remove missing values and duplicate observations from our large data set."
   ]
  },
  {
   "cell_type": "code",
   "execution_count": 6,
   "id": "subject-certificate",
   "metadata": {},
   "outputs": [
    {
     "data": {
      "text/plain": [
       "funded_amnt           33\n",
       "emp_length        146940\n",
       "annual_inc            37\n",
       "loan_status           33\n",
       "loan_amnt             33\n",
       "home_ownership        33\n",
       "int_rate              33\n",
       "addr_state            33\n",
       "grade                 33\n",
       "term                  33\n",
       "installment           33\n",
       "total_pymnt           33\n",
       "issue_d               33\n",
       "purpose               33\n",
       "dti                 1744\n",
       "zip_code              34\n",
       "dtype: int64"
      ]
     },
     "execution_count": 6,
     "metadata": {},
     "output_type": "execute_result"
    }
   ],
   "source": [
    "# detect the number of missing values in each feature.   \n",
    "loan2.isnull().sum()"
   ]
  },
  {
   "cell_type": "code",
   "execution_count": 7,
   "id": "looking-stanley",
   "metadata": {},
   "outputs": [
    {
     "data": {
      "text/html": [
       "<div>\n",
       "<style scoped>\n",
       "    .dataframe tbody tr th:only-of-type {\n",
       "        vertical-align: middle;\n",
       "    }\n",
       "\n",
       "    .dataframe tbody tr th {\n",
       "        vertical-align: top;\n",
       "    }\n",
       "\n",
       "    .dataframe thead th {\n",
       "        text-align: right;\n",
       "    }\n",
       "</style>\n",
       "<table border=\"1\" class=\"dataframe\">\n",
       "  <thead>\n",
       "    <tr style=\"text-align: right;\">\n",
       "      <th></th>\n",
       "      <th>funded_amnt</th>\n",
       "      <th>emp_length</th>\n",
       "      <th>annual_inc</th>\n",
       "      <th>loan_status</th>\n",
       "      <th>loan_amnt</th>\n",
       "      <th>home_ownership</th>\n",
       "      <th>int_rate</th>\n",
       "      <th>addr_state</th>\n",
       "      <th>grade</th>\n",
       "      <th>term</th>\n",
       "      <th>installment</th>\n",
       "      <th>total_pymnt</th>\n",
       "      <th>issue_d</th>\n",
       "      <th>purpose</th>\n",
       "      <th>dti</th>\n",
       "      <th>zip_code</th>\n",
       "    </tr>\n",
       "  </thead>\n",
       "  <tbody>\n",
       "    <tr>\n",
       "      <th>0</th>\n",
       "      <td>3600.0</td>\n",
       "      <td>10+ years</td>\n",
       "      <td>55000.0</td>\n",
       "      <td>Fully Paid</td>\n",
       "      <td>3600.0</td>\n",
       "      <td>MORTGAGE</td>\n",
       "      <td>13.99</td>\n",
       "      <td>PA</td>\n",
       "      <td>C</td>\n",
       "      <td>36 months</td>\n",
       "      <td>123.03</td>\n",
       "      <td>4421.723917</td>\n",
       "      <td>Dec-2015</td>\n",
       "      <td>debt_consolidation</td>\n",
       "      <td>5.91</td>\n",
       "      <td>190xx</td>\n",
       "    </tr>\n",
       "    <tr>\n",
       "      <th>1</th>\n",
       "      <td>24700.0</td>\n",
       "      <td>10+ years</td>\n",
       "      <td>65000.0</td>\n",
       "      <td>Fully Paid</td>\n",
       "      <td>24700.0</td>\n",
       "      <td>MORTGAGE</td>\n",
       "      <td>11.99</td>\n",
       "      <td>SD</td>\n",
       "      <td>C</td>\n",
       "      <td>36 months</td>\n",
       "      <td>820.28</td>\n",
       "      <td>25679.660000</td>\n",
       "      <td>Dec-2015</td>\n",
       "      <td>small_business</td>\n",
       "      <td>16.06</td>\n",
       "      <td>577xx</td>\n",
       "    </tr>\n",
       "    <tr>\n",
       "      <th>2</th>\n",
       "      <td>20000.0</td>\n",
       "      <td>10+ years</td>\n",
       "      <td>63000.0</td>\n",
       "      <td>Fully Paid</td>\n",
       "      <td>20000.0</td>\n",
       "      <td>MORTGAGE</td>\n",
       "      <td>10.78</td>\n",
       "      <td>IL</td>\n",
       "      <td>B</td>\n",
       "      <td>60 months</td>\n",
       "      <td>432.66</td>\n",
       "      <td>22705.924294</td>\n",
       "      <td>Dec-2015</td>\n",
       "      <td>home_improvement</td>\n",
       "      <td>10.78</td>\n",
       "      <td>605xx</td>\n",
       "    </tr>\n",
       "    <tr>\n",
       "      <th>3</th>\n",
       "      <td>35000.0</td>\n",
       "      <td>10+ years</td>\n",
       "      <td>110000.0</td>\n",
       "      <td>Current</td>\n",
       "      <td>35000.0</td>\n",
       "      <td>MORTGAGE</td>\n",
       "      <td>14.85</td>\n",
       "      <td>NJ</td>\n",
       "      <td>C</td>\n",
       "      <td>60 months</td>\n",
       "      <td>829.90</td>\n",
       "      <td>31464.010000</td>\n",
       "      <td>Dec-2015</td>\n",
       "      <td>debt_consolidation</td>\n",
       "      <td>17.06</td>\n",
       "      <td>076xx</td>\n",
       "    </tr>\n",
       "    <tr>\n",
       "      <th>4</th>\n",
       "      <td>10400.0</td>\n",
       "      <td>3 years</td>\n",
       "      <td>104433.0</td>\n",
       "      <td>Fully Paid</td>\n",
       "      <td>10400.0</td>\n",
       "      <td>MORTGAGE</td>\n",
       "      <td>22.45</td>\n",
       "      <td>PA</td>\n",
       "      <td>F</td>\n",
       "      <td>60 months</td>\n",
       "      <td>289.91</td>\n",
       "      <td>11740.500000</td>\n",
       "      <td>Dec-2015</td>\n",
       "      <td>major_purchase</td>\n",
       "      <td>25.37</td>\n",
       "      <td>174xx</td>\n",
       "    </tr>\n",
       "    <tr>\n",
       "      <th>...</th>\n",
       "      <td>...</td>\n",
       "      <td>...</td>\n",
       "      <td>...</td>\n",
       "      <td>...</td>\n",
       "      <td>...</td>\n",
       "      <td>...</td>\n",
       "      <td>...</td>\n",
       "      <td>...</td>\n",
       "      <td>...</td>\n",
       "      <td>...</td>\n",
       "      <td>...</td>\n",
       "      <td>...</td>\n",
       "      <td>...</td>\n",
       "      <td>...</td>\n",
       "      <td>...</td>\n",
       "      <td>...</td>\n",
       "    </tr>\n",
       "    <tr>\n",
       "      <th>2260694</th>\n",
       "      <td>24000.0</td>\n",
       "      <td>7 years</td>\n",
       "      <td>95000.0</td>\n",
       "      <td>Current</td>\n",
       "      <td>24000.0</td>\n",
       "      <td>MORTGAGE</td>\n",
       "      <td>12.79</td>\n",
       "      <td>AL</td>\n",
       "      <td>C</td>\n",
       "      <td>60 months</td>\n",
       "      <td>543.50</td>\n",
       "      <td>15760.500000</td>\n",
       "      <td>Oct-2016</td>\n",
       "      <td>home_improvement</td>\n",
       "      <td>19.61</td>\n",
       "      <td>356xx</td>\n",
       "    </tr>\n",
       "    <tr>\n",
       "      <th>2260695</th>\n",
       "      <td>24000.0</td>\n",
       "      <td>10+ years</td>\n",
       "      <td>108000.0</td>\n",
       "      <td>Current</td>\n",
       "      <td>24000.0</td>\n",
       "      <td>MORTGAGE</td>\n",
       "      <td>10.49</td>\n",
       "      <td>UT</td>\n",
       "      <td>B</td>\n",
       "      <td>60 months</td>\n",
       "      <td>515.74</td>\n",
       "      <td>15008.530000</td>\n",
       "      <td>Oct-2016</td>\n",
       "      <td>debt_consolidation</td>\n",
       "      <td>34.94</td>\n",
       "      <td>840xx</td>\n",
       "    </tr>\n",
       "    <tr>\n",
       "      <th>2260696</th>\n",
       "      <td>40000.0</td>\n",
       "      <td>9 years</td>\n",
       "      <td>227000.0</td>\n",
       "      <td>Current</td>\n",
       "      <td>40000.0</td>\n",
       "      <td>MORTGAGE</td>\n",
       "      <td>10.49</td>\n",
       "      <td>CA</td>\n",
       "      <td>B</td>\n",
       "      <td>60 months</td>\n",
       "      <td>859.56</td>\n",
       "      <td>24903.930000</td>\n",
       "      <td>Oct-2016</td>\n",
       "      <td>debt_consolidation</td>\n",
       "      <td>12.75</td>\n",
       "      <td>907xx</td>\n",
       "    </tr>\n",
       "    <tr>\n",
       "      <th>2260697</th>\n",
       "      <td>24000.0</td>\n",
       "      <td>6 years</td>\n",
       "      <td>110000.0</td>\n",
       "      <td>Charged Off</td>\n",
       "      <td>24000.0</td>\n",
       "      <td>RENT</td>\n",
       "      <td>14.49</td>\n",
       "      <td>FL</td>\n",
       "      <td>C</td>\n",
       "      <td>60 months</td>\n",
       "      <td>564.56</td>\n",
       "      <td>6755.400000</td>\n",
       "      <td>Oct-2016</td>\n",
       "      <td>debt_consolidation</td>\n",
       "      <td>18.30</td>\n",
       "      <td>334xx</td>\n",
       "    </tr>\n",
       "    <tr>\n",
       "      <th>2260698</th>\n",
       "      <td>14000.0</td>\n",
       "      <td>10+ years</td>\n",
       "      <td>95000.0</td>\n",
       "      <td>Current</td>\n",
       "      <td>14000.0</td>\n",
       "      <td>MORTGAGE</td>\n",
       "      <td>14.49</td>\n",
       "      <td>TX</td>\n",
       "      <td>C</td>\n",
       "      <td>60 months</td>\n",
       "      <td>329.33</td>\n",
       "      <td>9621.250000</td>\n",
       "      <td>Oct-2016</td>\n",
       "      <td>debt_consolidation</td>\n",
       "      <td>23.36</td>\n",
       "      <td>770xx</td>\n",
       "    </tr>\n",
       "  </tbody>\n",
       "</table>\n",
       "<p>2260669 rows × 16 columns</p>\n",
       "</div>"
      ],
      "text/plain": [
       "         funded_amnt emp_length  annual_inc  loan_status  loan_amnt  \\\n",
       "0             3600.0  10+ years     55000.0   Fully Paid     3600.0   \n",
       "1            24700.0  10+ years     65000.0   Fully Paid    24700.0   \n",
       "2            20000.0  10+ years     63000.0   Fully Paid    20000.0   \n",
       "3            35000.0  10+ years    110000.0      Current    35000.0   \n",
       "4            10400.0    3 years    104433.0   Fully Paid    10400.0   \n",
       "...              ...        ...         ...          ...        ...   \n",
       "2260694      24000.0    7 years     95000.0      Current    24000.0   \n",
       "2260695      24000.0  10+ years    108000.0      Current    24000.0   \n",
       "2260696      40000.0    9 years    227000.0      Current    40000.0   \n",
       "2260697      24000.0    6 years    110000.0  Charged Off    24000.0   \n",
       "2260698      14000.0  10+ years     95000.0      Current    14000.0   \n",
       "\n",
       "        home_ownership  int_rate addr_state grade        term  installment  \\\n",
       "0             MORTGAGE     13.99         PA     C   36 months       123.03   \n",
       "1             MORTGAGE     11.99         SD     C   36 months       820.28   \n",
       "2             MORTGAGE     10.78         IL     B   60 months       432.66   \n",
       "3             MORTGAGE     14.85         NJ     C   60 months       829.90   \n",
       "4             MORTGAGE     22.45         PA     F   60 months       289.91   \n",
       "...                ...       ...        ...   ...         ...          ...   \n",
       "2260694       MORTGAGE     12.79         AL     C   60 months       543.50   \n",
       "2260695       MORTGAGE     10.49         UT     B   60 months       515.74   \n",
       "2260696       MORTGAGE     10.49         CA     B   60 months       859.56   \n",
       "2260697           RENT     14.49         FL     C   60 months       564.56   \n",
       "2260698       MORTGAGE     14.49         TX     C   60 months       329.33   \n",
       "\n",
       "          total_pymnt   issue_d             purpose    dti zip_code  \n",
       "0         4421.723917  Dec-2015  debt_consolidation   5.91    190xx  \n",
       "1        25679.660000  Dec-2015      small_business  16.06    577xx  \n",
       "2        22705.924294  Dec-2015    home_improvement  10.78    605xx  \n",
       "3        31464.010000  Dec-2015  debt_consolidation  17.06    076xx  \n",
       "4        11740.500000  Dec-2015      major_purchase  25.37    174xx  \n",
       "...               ...       ...                 ...    ...      ...  \n",
       "2260694  15760.500000  Oct-2016    home_improvement  19.61    356xx  \n",
       "2260695  15008.530000  Oct-2016  debt_consolidation  34.94    840xx  \n",
       "2260696  24903.930000  Oct-2016  debt_consolidation  12.75    907xx  \n",
       "2260697   6755.400000  Oct-2016  debt_consolidation  18.30    334xx  \n",
       "2260698   9621.250000  Oct-2016  debt_consolidation  23.36    770xx  \n",
       "\n",
       "[2260669 rows x 16 columns]"
      ]
     },
     "execution_count": 7,
     "metadata": {},
     "output_type": "execute_result"
    }
   ],
   "source": [
    "# check for duplicate rows.  (32) duplicates were removed.\n",
    "loan2.drop_duplicates()"
   ]
  },
  {
   "cell_type": "code",
   "execution_count": 8,
   "id": "satellite-excitement",
   "metadata": {},
   "outputs": [
    {
     "data": {
      "text/plain": [
       "Index(['funded_amnt', 'emp_length', 'annual_inc', 'loan_status', 'loan_amnt',\n",
       "       'home_ownership', 'int_rate', 'addr_state', 'grade', 'term',\n",
       "       'installment', 'total_pymnt', 'issue_d', 'purpose', 'dti', 'zip_code'],\n",
       "      dtype='object')"
      ]
     },
     "execution_count": 8,
     "metadata": {},
     "output_type": "execute_result"
    }
   ],
   "source": [
    "# examine the features \n",
    "loan2.columns"
   ]
  },
  {
   "cell_type": "code",
   "execution_count": 9,
   "id": "comfortable-assist",
   "metadata": {},
   "outputs": [],
   "source": [
    "# drop rows that contained null values, to avoid inaccurate result.\n",
    "loan2.dropna(inplace=True)"
   ]
  },
  {
   "cell_type": "markdown",
   "id": "precious-organization",
   "metadata": {},
   "source": [
    "## Explanatory Data Analysis"
   ]
  },
  {
   "cell_type": "markdown",
   "id": "cultural-doubt",
   "metadata": {},
   "source": [
    "### Loan Status\n",
    "\n",
    "We will examine how many loans are default status compare to the others.  Loans with default and fully paid status are our target variables.\n",
    "\n",
    "Default, for the purpose of this study, includes borrowers who are in the following categories: In Grace Period, Late(31-120 days), Charged Off and Default.\n",
    "\n",
    "Anyone who is Current doesn't matter for our analysis purposes. Current means that there is no payment due right now because the payment has already been paid.  They are neither fully paid nor default."
   ]
  },
  {
   "cell_type": "code",
   "execution_count": 10,
   "id": "mathematical-publication",
   "metadata": {},
   "outputs": [
    {
     "data": {
      "text/plain": [
       "Fully Paid                                             1019355\n",
       "Current                                                 812752\n",
       "Charged Off                                             247426\n",
       "Late (31-120 days)                                       19616\n",
       "In Grace Period                                           7849\n",
       "Late (16-30 days)                                         3899\n",
       "Does not meet the credit policy. Status:Fully Paid        1965\n",
       "Does not meet the credit policy. Status:Charged Off        746\n",
       "Default                                                     35\n",
       "Name: loan_status, dtype: int64"
      ]
     },
     "execution_count": 10,
     "metadata": {},
     "output_type": "execute_result"
    }
   ],
   "source": [
    "# a look at all the values in loan status\n",
    "loan2.loan_status.value_counts()"
   ]
  },
  {
   "cell_type": "code",
   "execution_count": 11,
   "id": "reserved-collect",
   "metadata": {},
   "outputs": [],
   "source": [
    "loan2.drop(loan2[loan2['loan_status']=='Does not meet the credit policy. Status:Fully Paid'].index, inplace=True)\n",
    "loan2.drop(loan2[loan2['loan_status']=='Does not meet the credit policy. Status:Charged Off'].index, inplace=True)"
   ]
  },
  {
   "cell_type": "markdown",
   "id": "prescription-macintosh",
   "metadata": {},
   "source": [
    "The code in the above cell were dropped because \"they were loans made to borrowers that did not meet Lending Club's current credit policy standards.\"\n",
    "\n",
    "https://www.lendacademy.com/policy-code-2-loans-lending-club/"
   ]
  },
  {
   "cell_type": "code",
   "execution_count": 12,
   "id": "least-niger",
   "metadata": {},
   "outputs": [],
   "source": [
    "# Fully Paid = 1, Current = 2 and the remainders =  0.\n",
    "loan2['loan_status_target'] = loan2['loan_status'].map({\"Current\": 2,\n",
    " \"Fully Paid\": 1, \"In Grace Period\": 0, \"Late (16-30 days)\": 0, \n",
    "\"Late (31-120 days)\": 0, \"Charged Off\" : 0, \"Default\" : 0})"
   ]
  },
  {
   "cell_type": "code",
   "execution_count": 13,
   "id": "moved-actor",
   "metadata": {},
   "outputs": [],
   "source": [
    "# Remove all loans that are Current\n",
    "# We only want to keep Default or Fully Paid\n",
    "loan2 = loan2[loan2['loan_status_target'] != 2]"
   ]
  },
  {
   "cell_type": "code",
   "execution_count": 14,
   "id": "alike-ethernet",
   "metadata": {},
   "outputs": [
    {
     "data": {
      "text/plain": [
       "1    0.785219\n",
       "0    0.214781\n",
       "Name: loan_status_target, dtype: float64"
      ]
     },
     "execution_count": 14,
     "metadata": {},
     "output_type": "execute_result"
    }
   ],
   "source": [
    "# display the imbalance of our target values\n",
    "loan2.loan_status_target.value_counts(normalize=True)"
   ]
  },
  {
   "cell_type": "code",
   "execution_count": 15,
   "id": "signed-council",
   "metadata": {},
   "outputs": [
    {
     "data": {
      "image/png": "[encoded data removed]",
      "text/plain": [
       "<Figure size 432x288 with 1 Axes>"
      ]
     },
     "metadata": {},
     "output_type": "display_data"
    }
   ],
   "source": [
    "# examine the probability distribution of Fully Paid and Default\n",
    "sns.set_style('darkgrid')\n",
    "sns.countplot(data=loan2, x='loan_status_target');\n",
    "          \n",
    "plt.title('The Fully Paid and Default borrowers count in millions');"
   ]
  },
  {
   "cell_type": "markdown",
   "id": "guilty-academy",
   "metadata": {},
   "source": [
    " Establish the target variables: Default - 0, Fully Paid - 1\n"
   ]
  },
  {
   "cell_type": "code",
   "execution_count": 16,
   "id": "final-little",
   "metadata": {},
   "outputs": [
    {
     "data": {
      "text/html": [
       "<div>\n",
       "<style scoped>\n",
       "    .dataframe tbody tr th:only-of-type {\n",
       "        vertical-align: middle;\n",
       "    }\n",
       "\n",
       "    .dataframe tbody tr th {\n",
       "        vertical-align: top;\n",
       "    }\n",
       "\n",
       "    .dataframe thead th {\n",
       "        text-align: right;\n",
       "    }\n",
       "</style>\n",
       "<table border=\"1\" class=\"dataframe\">\n",
       "  <thead>\n",
       "    <tr style=\"text-align: right;\">\n",
       "      <th></th>\n",
       "      <th>funded_amnt</th>\n",
       "      <th>annual_inc</th>\n",
       "      <th>loan_amnt</th>\n",
       "      <th>int_rate</th>\n",
       "      <th>installment</th>\n",
       "      <th>total_pymnt</th>\n",
       "      <th>dti</th>\n",
       "      <th>loan_status_target</th>\n",
       "    </tr>\n",
       "  </thead>\n",
       "  <tbody>\n",
       "    <tr>\n",
       "      <th>count</th>\n",
       "      <td>1.019355e+06</td>\n",
       "      <td>1.019355e+06</td>\n",
       "      <td>1.019355e+06</td>\n",
       "      <td>1.019355e+06</td>\n",
       "      <td>1.019355e+06</td>\n",
       "      <td>1.019355e+06</td>\n",
       "      <td>1.019355e+06</td>\n",
       "      <td>1019355.0</td>\n",
       "    </tr>\n",
       "    <tr>\n",
       "      <th>mean</th>\n",
       "      <td>1.428318e+04</td>\n",
       "      <td>7.922541e+04</td>\n",
       "      <td>1.429203e+04</td>\n",
       "      <td>1.262191e+01</td>\n",
       "      <td>4.355808e+02</td>\n",
       "      <td>1.664209e+04</td>\n",
       "      <td>1.767980e+01</td>\n",
       "      <td>1.0</td>\n",
       "    </tr>\n",
       "    <tr>\n",
       "      <th>std</th>\n",
       "      <td>8.693672e+03</td>\n",
       "      <td>7.207638e+04</td>\n",
       "      <td>8.697699e+03</td>\n",
       "      <td>4.528396e+00</td>\n",
       "      <td>2.616266e+02</td>\n",
       "      <td>1.050457e+04</td>\n",
       "      <td>9.453407e+00</td>\n",
       "      <td>0.0</td>\n",
       "    </tr>\n",
       "    <tr>\n",
       "      <th>min</th>\n",
       "      <td>5.000000e+02</td>\n",
       "      <td>3.300000e+01</td>\n",
       "      <td>5.000000e+02</td>\n",
       "      <td>5.310000e+00</td>\n",
       "      <td>4.930000e+00</td>\n",
       "      <td>5.263322e+02</td>\n",
       "      <td>-1.000000e+00</td>\n",
       "      <td>1.0</td>\n",
       "    </tr>\n",
       "    <tr>\n",
       "      <th>25%</th>\n",
       "      <td>7.675000e+03</td>\n",
       "      <td>4.800000e+04</td>\n",
       "      <td>7.700000e+03</td>\n",
       "      <td>9.170000e+00</td>\n",
       "      <td>2.451600e+02</td>\n",
       "      <td>8.593418e+03</td>\n",
       "      <td>1.140000e+01</td>\n",
       "      <td>1.0</td>\n",
       "    </tr>\n",
       "    <tr>\n",
       "      <th>50%</th>\n",
       "      <td>1.200000e+04</td>\n",
       "      <td>6.700000e+04</td>\n",
       "      <td>1.200000e+04</td>\n",
       "      <td>1.221000e+01</td>\n",
       "      <td>3.724500e+02</td>\n",
       "      <td>1.406990e+04</td>\n",
       "      <td>1.703000e+01</td>\n",
       "      <td>1.0</td>\n",
       "    </tr>\n",
       "    <tr>\n",
       "      <th>75%</th>\n",
       "      <td>2.000000e+04</td>\n",
       "      <td>9.500000e+04</td>\n",
       "      <td>2.000000e+04</td>\n",
       "      <td>1.531000e+01</td>\n",
       "      <td>5.787000e+02</td>\n",
       "      <td>2.264532e+04</td>\n",
       "      <td>2.332000e+01</td>\n",
       "      <td>1.0</td>\n",
       "    </tr>\n",
       "    <tr>\n",
       "      <th>max</th>\n",
       "      <td>4.000000e+04</td>\n",
       "      <td>1.099920e+07</td>\n",
       "      <td>4.000000e+04</td>\n",
       "      <td>3.099000e+01</td>\n",
       "      <td>1.719830e+03</td>\n",
       "      <td>6.329688e+04</td>\n",
       "      <td>9.990000e+02</td>\n",
       "      <td>1.0</td>\n",
       "    </tr>\n",
       "  </tbody>\n",
       "</table>\n",
       "</div>"
      ],
      "text/plain": [
       "        funded_amnt    annual_inc     loan_amnt      int_rate   installment  \\\n",
       "count  1.019355e+06  1.019355e+06  1.019355e+06  1.019355e+06  1.019355e+06   \n",
       "mean   1.428318e+04  7.922541e+04  1.429203e+04  1.262191e+01  4.355808e+02   \n",
       "std    8.693672e+03  7.207638e+04  8.697699e+03  4.528396e+00  2.616266e+02   \n",
       "min    5.000000e+02  3.300000e+01  5.000000e+02  5.310000e+00  4.930000e+00   \n",
       "25%    7.675000e+03  4.800000e+04  7.700000e+03  9.170000e+00  2.451600e+02   \n",
       "50%    1.200000e+04  6.700000e+04  1.200000e+04  1.221000e+01  3.724500e+02   \n",
       "75%    2.000000e+04  9.500000e+04  2.000000e+04  1.531000e+01  5.787000e+02   \n",
       "max    4.000000e+04  1.099920e+07  4.000000e+04  3.099000e+01  1.719830e+03   \n",
       "\n",
       "        total_pymnt           dti  loan_status_target  \n",
       "count  1.019355e+06  1.019355e+06           1019355.0  \n",
       "mean   1.664209e+04  1.767980e+01                 1.0  \n",
       "std    1.050457e+04  9.453407e+00                 0.0  \n",
       "min    5.263322e+02 -1.000000e+00                 1.0  \n",
       "25%    8.593418e+03  1.140000e+01                 1.0  \n",
       "50%    1.406990e+04  1.703000e+01                 1.0  \n",
       "75%    2.264532e+04  2.332000e+01                 1.0  \n",
       "max    6.329688e+04  9.990000e+02                 1.0  "
      ]
     },
     "execution_count": 16,
     "metadata": {},
     "output_type": "execute_result"
    }
   ],
   "source": [
    "# summary statistics of Fully Paid borrowers\n",
    "loan2[loan2['loan_status_target']==1].describe()"
   ]
  },
  {
   "cell_type": "code",
   "execution_count": 17,
   "id": "above-amber",
   "metadata": {},
   "outputs": [
    {
     "data": {
      "text/html": [
       "<div>\n",
       "<style scoped>\n",
       "    .dataframe tbody tr th:only-of-type {\n",
       "        vertical-align: middle;\n",
       "    }\n",
       "\n",
       "    .dataframe tbody tr th {\n",
       "        vertical-align: top;\n",
       "    }\n",
       "\n",
       "    .dataframe thead th {\n",
       "        text-align: right;\n",
       "    }\n",
       "</style>\n",
       "<table border=\"1\" class=\"dataframe\">\n",
       "  <thead>\n",
       "    <tr style=\"text-align: right;\">\n",
       "      <th></th>\n",
       "      <th>funded_amnt</th>\n",
       "      <th>annual_inc</th>\n",
       "      <th>loan_amnt</th>\n",
       "      <th>int_rate</th>\n",
       "      <th>installment</th>\n",
       "      <th>total_pymnt</th>\n",
       "      <th>dti</th>\n",
       "      <th>loan_status_target</th>\n",
       "    </tr>\n",
       "  </thead>\n",
       "  <tbody>\n",
       "    <tr>\n",
       "      <th>count</th>\n",
       "      <td>278825.000000</td>\n",
       "      <td>2.788250e+05</td>\n",
       "      <td>278825.000000</td>\n",
       "      <td>278825.000000</td>\n",
       "      <td>278825.000000</td>\n",
       "      <td>278825.000000</td>\n",
       "      <td>278825.000000</td>\n",
       "      <td>278825.0</td>\n",
       "    </tr>\n",
       "    <tr>\n",
       "      <th>mean</th>\n",
       "      <td>16050.919304</td>\n",
       "      <td>7.341424e+04</td>\n",
       "      <td>16058.430019</td>\n",
       "      <td>15.735223</td>\n",
       "      <td>477.976804</td>\n",
       "      <td>8604.287093</td>\n",
       "      <td>19.944061</td>\n",
       "      <td>0.0</td>\n",
       "    </tr>\n",
       "    <tr>\n",
       "      <th>std</th>\n",
       "      <td>8952.431438</td>\n",
       "      <td>6.886138e+04</td>\n",
       "      <td>8955.358609</td>\n",
       "      <td>4.955191</td>\n",
       "      <td>266.971080</td>\n",
       "      <td>6918.752418</td>\n",
       "      <td>10.278906</td>\n",
       "      <td>0.0</td>\n",
       "    </tr>\n",
       "    <tr>\n",
       "      <th>min</th>\n",
       "      <td>900.000000</td>\n",
       "      <td>3.200000e+01</td>\n",
       "      <td>900.000000</td>\n",
       "      <td>5.310000</td>\n",
       "      <td>7.610000</td>\n",
       "      <td>0.000000</td>\n",
       "      <td>0.000000</td>\n",
       "      <td>0.0</td>\n",
       "    </tr>\n",
       "    <tr>\n",
       "      <th>25%</th>\n",
       "      <td>9600.000000</td>\n",
       "      <td>4.500000e+04</td>\n",
       "      <td>9600.000000</td>\n",
       "      <td>12.290000</td>\n",
       "      <td>283.220000</td>\n",
       "      <td>3646.440000</td>\n",
       "      <td>13.360000</td>\n",
       "      <td>0.0</td>\n",
       "    </tr>\n",
       "    <tr>\n",
       "      <th>50%</th>\n",
       "      <td>15000.000000</td>\n",
       "      <td>6.200000e+04</td>\n",
       "      <td>15000.000000</td>\n",
       "      <td>15.050000</td>\n",
       "      <td>416.280000</td>\n",
       "      <td>6754.230000</td>\n",
       "      <td>19.550000</td>\n",
       "      <td>0.0</td>\n",
       "    </tr>\n",
       "    <tr>\n",
       "      <th>75%</th>\n",
       "      <td>21000.000000</td>\n",
       "      <td>8.700000e+04</td>\n",
       "      <td>21000.000000</td>\n",
       "      <td>18.550000</td>\n",
       "      <td>625.720000</td>\n",
       "      <td>11573.290000</td>\n",
       "      <td>26.090000</td>\n",
       "      <td>0.0</td>\n",
       "    </tr>\n",
       "    <tr>\n",
       "      <th>max</th>\n",
       "      <td>40000.000000</td>\n",
       "      <td>9.573072e+06</td>\n",
       "      <td>40000.000000</td>\n",
       "      <td>30.990000</td>\n",
       "      <td>1717.630000</td>\n",
       "      <td>61947.529797</td>\n",
       "      <td>999.000000</td>\n",
       "      <td>0.0</td>\n",
       "    </tr>\n",
       "  </tbody>\n",
       "</table>\n",
       "</div>"
      ],
      "text/plain": [
       "         funded_amnt    annual_inc      loan_amnt       int_rate  \\\n",
       "count  278825.000000  2.788250e+05  278825.000000  278825.000000   \n",
       "mean    16050.919304  7.341424e+04   16058.430019      15.735223   \n",
       "std      8952.431438  6.886138e+04    8955.358609       4.955191   \n",
       "min       900.000000  3.200000e+01     900.000000       5.310000   \n",
       "25%      9600.000000  4.500000e+04    9600.000000      12.290000   \n",
       "50%     15000.000000  6.200000e+04   15000.000000      15.050000   \n",
       "75%     21000.000000  8.700000e+04   21000.000000      18.550000   \n",
       "max     40000.000000  9.573072e+06   40000.000000      30.990000   \n",
       "\n",
       "         installment    total_pymnt            dti  loan_status_target  \n",
       "count  278825.000000  278825.000000  278825.000000            278825.0  \n",
       "mean      477.976804    8604.287093      19.944061                 0.0  \n",
       "std       266.971080    6918.752418      10.278906                 0.0  \n",
       "min         7.610000       0.000000       0.000000                 0.0  \n",
       "25%       283.220000    3646.440000      13.360000                 0.0  \n",
       "50%       416.280000    6754.230000      19.550000                 0.0  \n",
       "75%       625.720000   11573.290000      26.090000                 0.0  \n",
       "max      1717.630000   61947.529797     999.000000                 0.0  "
      ]
     },
     "execution_count": 17,
     "metadata": {},
     "output_type": "execute_result"
    }
   ],
   "source": [
    "# summary statistics of Default borrowers\n",
    "loan2[loan2['loan_status_target']==0].describe()"
   ]
  },
  {
   "cell_type": "code",
   "execution_count": 18,
   "id": "printable-haven",
   "metadata": {},
   "outputs": [
    {
     "data": {
      "image/png": "[encoded data removed]",
      "text/plain": [
       "<Figure size 432x288 with 1 Axes>"
      ]
     },
     "metadata": {},
     "output_type": "display_data"
    }
   ],
   "source": [
    "# what is the relationship between funded amount and loan status?\n",
    "sns.boxplot(x='loan_status_target', y='funded_amnt', data=loan2);\n",
    "plt.title('The Default (0) and Fully Paid (1) borrowers');"
   ]
  },
  {
   "cell_type": "markdown",
   "id": "amateur-warner",
   "metadata": {},
   "source": [
    "**Descriptive statistics for Fully Paid and Default**"
   ]
  },
  {
   "cell_type": "markdown",
   "id": "packed-contributor",
   "metadata": {},
   "source": [
    "|Description||Fully Paid(1)||Default(0)|\n",
    "|:-:||:-:||:-:|\n",
    "|std||8_693 ||8_952|\n",
    "|min||500||900|\n",
    "|mean||14_283||16_050|\n",
    "|max||40_000||40_000|\n",
    "|75%||20_000||21_000|\n",
    "|50%||12_000||15_000|\n",
    "|25%||7_675||9_600|\n",
    "\n",
    "All the statistical values for Default are higher than Fully Paid. We examine the standard deviation and mean relationship, and noticed most of the loans are centered around the mean. More than 50% of the data is skewed upwards in Default. This could mean that those who obtain a higher loan are unable to repay.\n"
   ]
  },
  {
   "cell_type": "code",
   "execution_count": 19,
   "id": "unauthorized-accent",
   "metadata": {},
   "outputs": [],
   "source": [
    "# remove loan_status was replaced with loan_status_target\n",
    "loan2.drop(columns=['loan_status'], inplace=True)"
   ]
  },
  {
   "cell_type": "markdown",
   "id": "black-september",
   "metadata": {},
   "source": [
    "### Annual Income\n",
    "We will evaluate annual income and remove outliers."
   ]
  },
  {
   "cell_type": "code",
   "execution_count": 20,
   "id": "cross-france",
   "metadata": {},
   "outputs": [
    {
     "data": {
      "text/html": [
       "<div>\n",
       "<style scoped>\n",
       "    .dataframe tbody tr th:only-of-type {\n",
       "        vertical-align: middle;\n",
       "    }\n",
       "\n",
       "    .dataframe tbody tr th {\n",
       "        vertical-align: top;\n",
       "    }\n",
       "\n",
       "    .dataframe thead th {\n",
       "        text-align: right;\n",
       "    }\n",
       "</style>\n",
       "<table border=\"1\" class=\"dataframe\">\n",
       "  <thead>\n",
       "    <tr style=\"text-align: right;\">\n",
       "      <th></th>\n",
       "      <th>annual_inc</th>\n",
       "    </tr>\n",
       "  </thead>\n",
       "  <tbody>\n",
       "    <tr>\n",
       "      <th>count</th>\n",
       "      <td>1.298180e+06</td>\n",
       "    </tr>\n",
       "    <tr>\n",
       "      <th>mean</th>\n",
       "      <td>7.797728e+04</td>\n",
       "    </tr>\n",
       "    <tr>\n",
       "      <th>std</th>\n",
       "      <td>7.143791e+04</td>\n",
       "    </tr>\n",
       "    <tr>\n",
       "      <th>min</th>\n",
       "      <td>3.200000e+01</td>\n",
       "    </tr>\n",
       "    <tr>\n",
       "      <th>25%</th>\n",
       "      <td>4.800000e+04</td>\n",
       "    </tr>\n",
       "    <tr>\n",
       "      <th>50%</th>\n",
       "      <td>6.500000e+04</td>\n",
       "    </tr>\n",
       "    <tr>\n",
       "      <th>75%</th>\n",
       "      <td>9.300000e+04</td>\n",
       "    </tr>\n",
       "    <tr>\n",
       "      <th>max</th>\n",
       "      <td>1.099920e+07</td>\n",
       "    </tr>\n",
       "  </tbody>\n",
       "</table>\n",
       "</div>"
      ],
      "text/plain": [
       "         annual_inc\n",
       "count  1.298180e+06\n",
       "mean   7.797728e+04\n",
       "std    7.143791e+04\n",
       "min    3.200000e+01\n",
       "25%    4.800000e+04\n",
       "50%    6.500000e+04\n",
       "75%    9.300000e+04\n",
       "max    1.099920e+07"
      ]
     },
     "execution_count": 20,
     "metadata": {},
     "output_type": "execute_result"
    }
   ],
   "source": [
    "# evaluate the distribution of annual income\n",
    "loan2[['annual_inc']].describe()"
   ]
  },
  {
   "cell_type": "code",
   "execution_count": 21,
   "id": "received-legislature",
   "metadata": {},
   "outputs": [
    {
     "data": {
      "image/png": "[encoded data removed]",
      "text/plain": [
       "<Figure size 576x360 with 1 Axes>"
      ]
     },
     "metadata": {},
     "output_type": "display_data"
    }
   ],
   "source": [
    "# examine a scatterplot for further understanding of income\n",
    "plt.figure(figsize=(8,5))\n",
    "plt.scatter(loan2['annual_inc'], loan2['funded_amnt'])\n",
    "plt.title(\"Annual Income against Funded Amount\")\n",
    "plt.ylabel('Loan Value')\n",
    "plt.xlabel('Annual Income')\n",
    "plt.show()"
   ]
  },
  {
   "cell_type": "markdown",
   "id": "narrow-librarian",
   "metadata": {},
   "source": [
    "A majority of borrowers earn less than 175_000 annually.  We will compute the upper and lower limits and remove values beyond.  This procedure is done to get a balance distribution and predictions will be more accurate."
   ]
  },
  {
   "cell_type": "code",
   "execution_count": 22,
   "id": "moved-pilot",
   "metadata": {},
   "outputs": [],
   "source": [
    "#calculate IQR\n",
    "Q1 = loan2.annual_inc.quantile(.25)\n",
    "Q3 = loan2.annual_inc.quantile(.75)\n",
    "IQR = Q3 - Q1"
   ]
  },
  {
   "cell_type": "code",
   "execution_count": 23,
   "id": "major-spine",
   "metadata": {},
   "outputs": [
    {
     "data": {
      "text/plain": [
       "(-19500.0, 160500.0)"
      ]
     },
     "execution_count": 23,
     "metadata": {},
     "output_type": "execute_result"
    }
   ],
   "source": [
    "#calculate lower limit and upper limit\n",
    "lower_limit = Q1 - 1.5 * IQR\n",
    "upper_limit = Q3 + 1.5 * IQR\n",
    "lower_limit, upper_limit"
   ]
  },
  {
   "cell_type": "code",
   "execution_count": 24,
   "id": "common-equality",
   "metadata": {},
   "outputs": [],
   "source": [
    "# removed income over 161_000, a total of 60_171 data points\n",
    "loan2.drop(loan2[loan2['annual_inc'] >161000].index, inplace = True)"
   ]
  },
  {
   "cell_type": "markdown",
   "id": "efficient-shoulder",
   "metadata": {},
   "source": [
    "The minimum annual income was 32_000.  Using the lower limit in our calculation returns a negative number and someone cannot earn less than zero.  \n",
    "\n",
    "Borrowers who earn more than over 161_000 annually. We removed the values over the upper limit, 1.2% of the data set- a tiny amount. \n"
   ]
  },
  {
   "cell_type": "markdown",
   "id": "listed-worker",
   "metadata": {},
   "source": [
    "The histogram is not normally distributed. We noticed a lot of the borrowers earn income between 40k and 75k.  With the removal of upper limits, the data is skewed to the right indicating there are many borrowers with lower annual income. This imbalance will produce incorrect results, so we will use an imbalance technique before modeling."
   ]
  },
  {
   "cell_type": "code",
   "execution_count": 25,
   "id": "trained-kinase",
   "metadata": {},
   "outputs": [
    {
     "data": {
      "image/png": "[encoded data removed]",
      "text/plain": [
       "<Figure size 576x360 with 1 Axes>"
      ]
     },
     "metadata": {},
     "output_type": "display_data"
    }
   ],
   "source": [
    "#A distribution of annual income after the outliers were removed.\n",
    "plt.figure(figsize=(8,5))\n",
    "plt.hist(loan2['annual_inc'], bins=25);\n",
    "plt.xlabel('Annual Income');\n",
    "plt.ylabel('The number of borrowers')\n",
    "plt.title(\"The distribution of borrowers' Annual Income after removal\");"
   ]
  },
  {
   "cell_type": "code",
   "execution_count": 26,
   "id": "charitable-subcommittee",
   "metadata": {},
   "outputs": [
    {
     "data": {
      "text/html": [
       "<div>\n",
       "<style scoped>\n",
       "    .dataframe tbody tr th:only-of-type {\n",
       "        vertical-align: middle;\n",
       "    }\n",
       "\n",
       "    .dataframe tbody tr th {\n",
       "        vertical-align: top;\n",
       "    }\n",
       "\n",
       "    .dataframe thead th {\n",
       "        text-align: right;\n",
       "    }\n",
       "</style>\n",
       "<table border=\"1\" class=\"dataframe\">\n",
       "  <thead>\n",
       "    <tr style=\"text-align: right;\">\n",
       "      <th></th>\n",
       "      <th>annual_inc</th>\n",
       "    </tr>\n",
       "  </thead>\n",
       "  <tbody>\n",
       "    <tr>\n",
       "      <th>count</th>\n",
       "      <td>1.238009e+06</td>\n",
       "    </tr>\n",
       "    <tr>\n",
       "      <th>mean</th>\n",
       "      <td>6.978046e+04</td>\n",
       "    </tr>\n",
       "    <tr>\n",
       "      <th>std</th>\n",
       "      <td>3.071922e+04</td>\n",
       "    </tr>\n",
       "    <tr>\n",
       "      <th>min</th>\n",
       "      <td>3.200000e+01</td>\n",
       "    </tr>\n",
       "    <tr>\n",
       "      <th>25%</th>\n",
       "      <td>4.611700e+04</td>\n",
       "    </tr>\n",
       "    <tr>\n",
       "      <th>50%</th>\n",
       "      <td>6.500000e+04</td>\n",
       "    </tr>\n",
       "    <tr>\n",
       "      <th>75%</th>\n",
       "      <td>8.800000e+04</td>\n",
       "    </tr>\n",
       "    <tr>\n",
       "      <th>max</th>\n",
       "      <td>1.610000e+05</td>\n",
       "    </tr>\n",
       "  </tbody>\n",
       "</table>\n",
       "</div>"
      ],
      "text/plain": [
       "         annual_inc\n",
       "count  1.238009e+06\n",
       "mean   6.978046e+04\n",
       "std    3.071922e+04\n",
       "min    3.200000e+01\n",
       "25%    4.611700e+04\n",
       "50%    6.500000e+04\n",
       "75%    8.800000e+04\n",
       "max    1.610000e+05"
      ]
     },
     "execution_count": 26,
     "metadata": {},
     "output_type": "execute_result"
    }
   ],
   "source": [
    "#use the values in the comparison table below\n",
    "loan2[['annual_inc']].describe()"
   ]
  },
  {
   "cell_type": "markdown",
   "id": "included-gateway",
   "metadata": {},
   "source": [
    "**Statistical values of the annual income** "
   ]
  },
  {
   "cell_type": "markdown",
   "id": "consecutive-gabriel",
   "metadata": {},
   "source": [
    "|Description||before removal||after removal|\n",
    "|:-:||:-:||:-:|\n",
    "|min||32||32|\n",
    "|max||10_999_200||161_000|\n",
    "|mean||77_977||69_780|\n",
    "|75%||93_000||88_000|\n",
    "|50%||65_000||65_000|\n",
    "|25%||48_000||4_611|\n"
   ]
  },
  {
   "cell_type": "markdown",
   "id": "thermal-array",
   "metadata": {},
   "source": [
    "Removing the outliers changed the statistical values.  Looking at the table above, all the values decreased as expected.  The 25  percentile decreased by 43_389 stating that borrowers below the mean has a wide spread in income.  The reduction in the mean and 75 percentile is in line to our expectation.\n",
    "Although removing 1000's of data points, the median value remained the same  before and after removal.  This indicates that there are many borrowers who earn 65_000 annually. "
   ]
  },
  {
   "cell_type": "markdown",
   "id": "aggregate-bronze",
   "metadata": {},
   "source": [
    "We were curious whose annual income was almost 11m.  The borrower lived in California (Newbury Park), had a loan of 5_000, with interest rate at 18.06 and employment of (1) year.  It is interesting to note that, of the top five earners, two default on their loans.  "
   ]
  },
  {
   "cell_type": "code",
   "execution_count": 27,
   "id": "invisible-harvey",
   "metadata": {},
   "outputs": [
    {
     "data": {
      "text/html": [
       "<div>\n",
       "<style scoped>\n",
       "    .dataframe tbody tr th:only-of-type {\n",
       "        vertical-align: middle;\n",
       "    }\n",
       "\n",
       "    .dataframe tbody tr th {\n",
       "        vertical-align: top;\n",
       "    }\n",
       "\n",
       "    .dataframe thead th {\n",
       "        text-align: right;\n",
       "    }\n",
       "</style>\n",
       "<table border=\"1\" class=\"dataframe\">\n",
       "  <thead>\n",
       "    <tr style=\"text-align: right;\">\n",
       "      <th></th>\n",
       "      <th>funded_amnt</th>\n",
       "      <th>emp_length</th>\n",
       "      <th>annual_inc</th>\n",
       "      <th>loan_amnt</th>\n",
       "      <th>home_ownership</th>\n",
       "      <th>int_rate</th>\n",
       "      <th>addr_state</th>\n",
       "      <th>grade</th>\n",
       "      <th>term</th>\n",
       "      <th>installment</th>\n",
       "      <th>total_pymnt</th>\n",
       "      <th>issue_d</th>\n",
       "      <th>purpose</th>\n",
       "      <th>dti</th>\n",
       "      <th>zip_code</th>\n",
       "      <th>loan_status_target</th>\n",
       "    </tr>\n",
       "  </thead>\n",
       "  <tbody>\n",
       "  </tbody>\n",
       "</table>\n",
       "</div>"
      ],
      "text/plain": [
       "Empty DataFrame\n",
       "Columns: [funded_amnt, emp_length, annual_inc, loan_amnt, home_ownership, int_rate, addr_state, grade, term, installment, total_pymnt, issue_d, purpose, dti, zip_code, loan_status_target]\n",
       "Index: []"
      ]
     },
     "execution_count": 27,
     "metadata": {},
     "output_type": "execute_result"
    }
   ],
   "source": [
    "df = loan2[loan2.annual_inc > 1000000]\n",
    "df.sort_values(by=['annual_inc','loan_status_target', 'funded_amnt'],\n",
    "               ascending=False)"
   ]
  },
  {
   "cell_type": "markdown",
   "id": "gentle-escape",
   "metadata": {},
   "source": [
    "### Funded Amount"
   ]
  },
  {
   "cell_type": "markdown",
   "id": "modern-favorite",
   "metadata": {},
   "source": [
    "Funded Amount is the value of the loan.  It is the amount that the borrower place on the application."
   ]
  },
  {
   "cell_type": "code",
   "execution_count": 28,
   "id": "becoming-botswana",
   "metadata": {},
   "outputs": [
    {
     "data": {
      "text/html": [
       "<div>\n",
       "<style scoped>\n",
       "    .dataframe tbody tr th:only-of-type {\n",
       "        vertical-align: middle;\n",
       "    }\n",
       "\n",
       "    .dataframe tbody tr th {\n",
       "        vertical-align: top;\n",
       "    }\n",
       "\n",
       "    .dataframe thead th {\n",
       "        text-align: right;\n",
       "    }\n",
       "</style>\n",
       "<table border=\"1\" class=\"dataframe\">\n",
       "  <thead>\n",
       "    <tr style=\"text-align: right;\">\n",
       "      <th></th>\n",
       "      <th>funded_amnt</th>\n",
       "    </tr>\n",
       "  </thead>\n",
       "  <tbody>\n",
       "    <tr>\n",
       "      <th>count</th>\n",
       "      <td>1.238009e+06</td>\n",
       "    </tr>\n",
       "    <tr>\n",
       "      <th>mean</th>\n",
       "      <td>1.421706e+04</td>\n",
       "    </tr>\n",
       "    <tr>\n",
       "      <th>std</th>\n",
       "      <td>8.475573e+03</td>\n",
       "    </tr>\n",
       "    <tr>\n",
       "      <th>min</th>\n",
       "      <td>5.000000e+02</td>\n",
       "    </tr>\n",
       "    <tr>\n",
       "      <th>25%</th>\n",
       "      <td>8.000000e+03</td>\n",
       "    </tr>\n",
       "    <tr>\n",
       "      <th>50%</th>\n",
       "      <td>1.200000e+04</td>\n",
       "    </tr>\n",
       "    <tr>\n",
       "      <th>75%</th>\n",
       "      <td>2.000000e+04</td>\n",
       "    </tr>\n",
       "    <tr>\n",
       "      <th>max</th>\n",
       "      <td>4.000000e+04</td>\n",
       "    </tr>\n",
       "  </tbody>\n",
       "</table>\n",
       "</div>"
      ],
      "text/plain": [
       "        funded_amnt\n",
       "count  1.238009e+06\n",
       "mean   1.421706e+04\n",
       "std    8.475573e+03\n",
       "min    5.000000e+02\n",
       "25%    8.000000e+03\n",
       "50%    1.200000e+04\n",
       "75%    2.000000e+04\n",
       "max    4.000000e+04"
      ]
     },
     "execution_count": 28,
     "metadata": {},
     "output_type": "execute_result"
    }
   ],
   "source": [
    "# examine funded amount distribution\n",
    "loan2[['funded_amnt']].describe()"
   ]
  },
  {
   "cell_type": "code",
   "execution_count": 29,
   "id": "religious-spell",
   "metadata": {},
   "outputs": [
    {
     "data": {
      "image/png": "[encoded data removed]",
      "text/plain": [
       "<Figure size 576x360 with 1 Axes>"
      ]
     },
     "metadata": {},
     "output_type": "display_data"
    }
   ],
   "source": [
    "# loan distribution \n",
    "plt.figure(figsize=(8,5))\n",
    "plt.hist(loan2['funded_amnt']);\n",
    "plt.xlabel('Funded Amount');\n",
    "plt.ylabel('The number of borrowers')\n",
    "plt.title('The Distribution of Loan Amounts');"
   ]
  },
  {
   "cell_type": "code",
   "execution_count": 30,
   "id": "distributed-rendering",
   "metadata": {},
   "outputs": [
    {
     "data": {
      "image/png": "[encoded data removed]",
      "text/plain": [
       "<Figure size 432x288 with 1 Axes>"
      ]
     },
     "metadata": {},
     "output_type": "display_data"
    }
   ],
   "source": [
    "# scatter plot to examine the loan amount and monthly repayment\n",
    "plt.scatter(loan2['funded_amnt'], loan2['installment']);\n",
    "plt.title('The Fully Paid (1) and Default (0) borrowers');\n",
    "plt.xlabel('Funded Amount');\n",
    "plt.ylabel('Monthly installment payment');"
   ]
  },
  {
   "cell_type": "markdown",
   "id": "editorial-manitoba",
   "metadata": {},
   "source": [
    "The histogram shows that loans issued are skewed to the right.  The minimum loan issued was 500, the maximum was 40_000 and the median at 12_000.\n",
    "This means median borrowers' whose annual income were 65_000 were issued loans at 12_000.  Assuming the borrowers have no other debt, the debt--in-income ratio is 18.4% (12000/65000).  No wonder borrowers default on their loans."
   ]
  },
  {
   "cell_type": "markdown",
   "id": "modular-headline",
   "metadata": {},
   "source": [
    "Lending Club uses an amortization formula(see below) which applies to both their borrowers and investors. This formula is the reason there is a line.  \n",
    "A person with a lower loan amount would pay less than one at a higher loan. There are some borrowers with exceptional grade whose installment payment are further below the line. \n",
    "\n",
    "If a borrower for an unsecured loan at 40,000 with high interest rate, month installment of 1750 and debt to income ratio high (as calculated above), can contribute to default loan. \n",
    "\n",
    "- Amortization = (r/n)*P / 1 - (1 + (r/n))^-nt\n",
    "- where r - interest rate, P - principal amount, n - number of months in a year, t - number of years to repay (36,60 months)\n",
    "\n",
    "https://www.youtube.com/watch?v=FJqt8F5NB10"
   ]
  },
  {
   "cell_type": "markdown",
   "id": "mechanical-cooler",
   "metadata": {},
   "source": [
    "### Grade"
   ]
  },
  {
   "cell_type": "markdown",
   "id": "mathematical-visibility",
   "metadata": {},
   "source": [
    "\"Lending Club uses a formula for their loan grade system that takes into account not only credit score, but also a combination of several indicators of credit risk from the credit report application. A rate of \"A\" is the highest with a value of 7 and \"G\" the lowest with a value of 1.\"\n",
    "https://www.lendingclub.com/foliofn/rateDetail.action"
   ]
  },
  {
   "cell_type": "code",
   "execution_count": 31,
   "id": "alien-jamaica",
   "metadata": {},
   "outputs": [
    {
     "data": {
      "text/plain": [
       "B    359666\n",
       "C    355568\n",
       "A    207679\n",
       "D    188225\n",
       "E     87990\n",
       "F     30213\n",
       "G      8668\n",
       "Name: grade, dtype: int64"
      ]
     },
     "execution_count": 31,
     "metadata": {},
     "output_type": "execute_result"
    }
   ],
   "source": [
    "# examine each categories\n",
    "loan2['grade'].value_counts()"
   ]
  },
  {
   "cell_type": "code",
   "execution_count": 32,
   "id": "intellectual-armstrong",
   "metadata": {},
   "outputs": [
    {
     "data": {
      "image/png": "[encoded data removed]",
      "text/plain": [
       "<Figure size 432x288 with 1 Axes>"
      ]
     },
     "metadata": {},
     "output_type": "display_data"
    }
   ],
   "source": [
    "sns.countplot(data=loan2, x='grade', \n",
    "              hue='loan_status_target',\n",
    "             order=['A', 'B', 'C', 'D', 'E', 'F', 'G']);  \n",
    "plt.title('The Target variables against grade');"
   ]
  },
  {
   "cell_type": "markdown",
   "id": "medical-agriculture",
   "metadata": {},
   "source": [
    "Each grade have defaulted loans, with \"C\" being the highest.  It is a no surprise because because \"C\" interest rate maybe 8-11%, and Lending Club add their base rate of 5%.  \n",
    "\n",
    "According to moneycheck.com, Lending Club debt-to-ratio no more than 45% and minimum credit score of 600.  It is as if Lending Club is setting some of their borrowers to default on their loans."
   ]
  },
  {
   "cell_type": "code",
   "execution_count": 33,
   "id": "organizational-bankruptcy",
   "metadata": {},
   "outputs": [],
   "source": [
    "# changing the grade from letters to numbers so we can use it in modeling\n",
    "loan2['grade_clean'] = loan2['grade'].map({\"A\": 7,\n",
    "                                    \"B\": 6, \"C\": 5, \"D\":4,\n",
    "                                    \"E\":3, \"F\":2, \"G\": 1})"
   ]
  },
  {
   "cell_type": "markdown",
   "id": "productive-cedar",
   "metadata": {},
   "source": [
    "### Interest Rate\n",
    "\n",
    "Lending Club interest rates take in its calculation a borrower's credit score and market condition."
   ]
  },
  {
   "cell_type": "code",
   "execution_count": 34,
   "id": "quantitative-blowing",
   "metadata": {},
   "outputs": [
    {
     "data": {
      "text/plain": [
       "count    1.238009e+06\n",
       "mean     1.334691e+01\n",
       "std      4.784614e+00\n",
       "min      5.310000e+00\n",
       "25%      9.910000e+00\n",
       "50%      1.285000e+01\n",
       "75%      1.602000e+01\n",
       "max      3.099000e+01\n",
       "Name: int_rate, dtype: float64"
      ]
     },
     "execution_count": 34,
     "metadata": {},
     "output_type": "execute_result"
    }
   ],
   "source": [
    "# examine interest rate distribution\n",
    "# how high is the interest rate?\n",
    "loan2['int_rate'].describe()"
   ]
  },
  {
   "cell_type": "markdown",
   "id": "atlantic-boundary",
   "metadata": {},
   "source": [
    "The maximum interest rate was 30.9%, the lowest at 5.3% and median at 12.85%.  The lowest and median interest applies to those with good grade while the higher amounts to those with worst grade."
   ]
  },
  {
   "cell_type": "code",
   "execution_count": 35,
   "id": "lovely-association",
   "metadata": {},
   "outputs": [
    {
     "data": {
      "text/plain": [
       "1    0.56329\n",
       "0    0.43671\n",
       "Name: loan_status_target, dtype: float64"
      ]
     },
     "execution_count": 35,
     "metadata": {},
     "output_type": "execute_result"
    }
   ],
   "source": [
    "# where there loans issued for more than 20% interest rate?\n",
    "loan2[loan2['int_rate']>20]['loan_status_target'].value_counts(normalize=True)"
   ]
  },
  {
   "cell_type": "code",
   "execution_count": 36,
   "id": "vanilla-token",
   "metadata": {},
   "outputs": [
    {
     "data": {
      "image/png": "[encoded data removed]",
      "text/plain": [
       "<Figure size 576x360 with 1 Axes>"
      ]
     },
     "metadata": {},
     "output_type": "display_data"
    }
   ],
   "source": [
    "# # a visual of the distribution\n",
    "plt.figure(figsize=(8,5))\n",
    "plt.hist(loan2['int_rate'], bins=20, edgecolor='black');\n",
    "plt.xlabel('Interest Rate');\n",
    "plt.ylabel('The number of borrowers')\n",
    "plt.title(\"The distribution of borrowers' Interest Rate\");"
   ]
  },
  {
   "cell_type": "markdown",
   "id": "irish-dollar",
   "metadata": {},
   "source": [
    "43% of Default borrowers had interest rate at 20% or greater at median income of 65_000 annually and debt-to-income ratio starting at 18.5%, no wonder borrowers default."
   ]
  },
  {
   "cell_type": "code",
   "execution_count": 37,
   "id": "published-economics",
   "metadata": {},
   "outputs": [],
   "source": [
    "#sns.countplot(data=loan2, x='int_rate', hue='loan_status_target');"
   ]
  },
  {
   "cell_type": "code",
   "execution_count": 38,
   "id": "ceramic-distribution",
   "metadata": {},
   "outputs": [
    {
     "data": {
      "image/png": "[encoded data removed]",
      "text/plain": [
       "<Figure size 432x288 with 1 Axes>"
      ]
     },
     "metadata": {},
     "output_type": "display_data"
    }
   ],
   "source": [
    "# is there a relationship between grade and interest rate?\n",
    "interest_by_grade=loan2[['int_rate','grade']].groupby('grade').mean()\n",
    "plt.bar(x=interest_by_grade.index,height=interest_by_grade['int_rate'])\n",
    "plt.title('Interest Rate Vs. Grade');\n",
    "plt.xlabel('Grade');\n",
    "plt.ylabel('Interest Rate');"
   ]
  },
  {
   "cell_type": "markdown",
   "id": "stock-ridge",
   "metadata": {},
   "source": [
    "We have learned so far, a borrower grade determines the interest rate, were were not surprise to a linear connection between grade and interest rate. The riskier the grade, the interest rate is higher."
   ]
  },
  {
   "cell_type": "markdown",
   "id": "preceding-effect",
   "metadata": {},
   "source": [
    "### Employment History"
   ]
  },
  {
   "cell_type": "markdown",
   "id": "bearing-hepatitis",
   "metadata": {},
   "source": [
    "The length of employment feature was an object that contained strings, n/a, <, >, which were removed then it was convert to numeric."
   ]
  },
  {
   "cell_type": "code",
   "execution_count": 39,
   "id": "built-specification",
   "metadata": {},
   "outputs": [],
   "source": [
    "# remove the strings and symbols\n",
    "loan2['emp_length'] = loan2['emp_length'].map({'10+ years': 10, '9 years' : 9,\n",
    "                                               '8 years': 8, \n",
    "                                              '7 years': 7,\n",
    "                                              '6 years': 6,\n",
    "                                              '5 years': 5,\n",
    "                                              '4 years': 4,\n",
    "                                              '3 years': 3,\n",
    "                                              '2 years': 2,\n",
    "                                              '1 year': 1, \n",
    "                                              '< year': 0})"
   ]
  },
  {
   "cell_type": "code",
   "execution_count": 40,
   "id": "passing-scholar",
   "metadata": {},
   "outputs": [],
   "source": [
    "# some algorithm do not accept NaN's\n",
    "loan2['emp_length'] = loan2['emp_length'].fillna(0)"
   ]
  },
  {
   "cell_type": "code",
   "execution_count": 41,
   "id": "mature-exploration",
   "metadata": {},
   "outputs": [
    {
     "data": {
      "text/plain": [
       "10.0    0.347360\n",
       "2.0     0.096297\n",
       "0.0     0.086166\n",
       "3.0     0.085137\n",
       "1.0     0.070364\n",
       "5.0     0.066509\n",
       "4.0     0.063777\n",
       "6.0     0.049518\n",
       "8.0     0.047784\n",
       "7.0     0.046930\n",
       "9.0     0.040159\n",
       "Name: emp_length, dtype: float64"
      ]
     },
     "execution_count": 41,
     "metadata": {},
     "output_type": "execute_result"
    }
   ],
   "source": [
    "# evaluate length of employment\n",
    "loan2.emp_length.value_counts(normalize=True)"
   ]
  },
  {
   "cell_type": "code",
   "execution_count": 42,
   "id": "noble-outreach",
   "metadata": {},
   "outputs": [
    {
     "data": {
      "image/png": "[encoded data removed]",
      "text/plain": [
       "<Figure size 432x288 with 1 Axes>"
      ]
     },
     "metadata": {},
     "output_type": "display_data"
    }
   ],
   "source": [
    "plt.hist(loan2['emp_length']);\n",
    "plt.xticks(rotation=45)\n",
    "plt.xlabel('Years of Employment');\n",
    "plt.ylabel('# of borrowers');\n",
    "plt.title('Length of Employment for Borrowers');"
   ]
  },
  {
   "cell_type": "markdown",
   "id": "balanced-oracle",
   "metadata": {},
   "source": [
    "10 years is large because it includes employment of 10 years and beyond.  There were 8% of the borrowers with 0 years of employment.  How can a person with 0 years employment obtain a loan?"
   ]
  },
  {
   "cell_type": "code",
   "execution_count": 44,
   "id": "together-custom",
   "metadata": {},
   "outputs": [
    {
     "data": {
      "text/plain": [
       "Text(0.5, 1.0, 'Length of Employment and Loan Status')"
      ]
     },
     "execution_count": 44,
     "metadata": {},
     "output_type": "execute_result"
    },
    {
     "data": {
      "image/png": "[encoded data removed]",
      "text/plain": [
       "<Figure size 432x360 with 1 Axes>"
      ]
     },
     "metadata": {},
     "output_type": "display_data"
    }
   ],
   "source": [
    "plt.figure(figsize=(6,5))\n",
    "sns.histplot(data=loan2, x='emp_length',  \n",
    "             hue='loan_status_target');\n",
    "plt.title ('Length of Employment and Loan Status')"
   ]
  },
  {
   "cell_type": "markdown",
   "id": "alike-discount",
   "metadata": {},
   "source": [
    "There does not seem to be a connection between employment length and default rate.  We noticed that employment length of 0 and 1 have high default rates.  Employment length of 10 has the largest default rate because this group consist of those borrowers who have been employed more than 10 years."
   ]
  },
  {
   "cell_type": "code",
   "execution_count": 45,
   "id": "accurate-perth",
   "metadata": {},
   "outputs": [],
   "source": [
    "TenYears = loan2[loan2.emp_length == 10.0].copy()\n",
    "Total = TenYears[\"funded_amnt\"].count()\n",
    "TotalDefaulted = TenYears[\"funded_amnt\"][TenYears.loan_status_target == 0].count()\n",
    "\n"
   ]
  },
  {
   "cell_type": "code",
   "execution_count": 46,
   "id": "swedish-julian",
   "metadata": {},
   "outputs": [
    {
     "name": "stdout",
     "output_type": "stream",
     "text": [
      "0.2096782820003023\n"
     ]
    }
   ],
   "source": [
    "#TenYears.head(20)\n",
    "TotalDefaulted\n",
    "#Total\n",
    "print(TotalDefaulted/Total)"
   ]
  },
  {
   "cell_type": "code",
   "execution_count": 47,
   "id": "institutional-device",
   "metadata": {},
   "outputs": [
    {
     "data": {
      "text/html": [
       "<div>\n",
       "<style scoped>\n",
       "    .dataframe tbody tr th:only-of-type {\n",
       "        vertical-align: middle;\n",
       "    }\n",
       "\n",
       "    .dataframe tbody tr th {\n",
       "        vertical-align: top;\n",
       "    }\n",
       "\n",
       "    .dataframe thead th {\n",
       "        text-align: right;\n",
       "    }\n",
       "</style>\n",
       "<table border=\"1\" class=\"dataframe\">\n",
       "  <thead>\n",
       "    <tr style=\"text-align: right;\">\n",
       "      <th></th>\n",
       "      <th>funded_amnt</th>\n",
       "      <th>emp_length</th>\n",
       "      <th>annual_inc</th>\n",
       "      <th>loan_amnt</th>\n",
       "      <th>home_ownership</th>\n",
       "      <th>int_rate</th>\n",
       "      <th>addr_state</th>\n",
       "      <th>grade</th>\n",
       "      <th>term</th>\n",
       "      <th>installment</th>\n",
       "      <th>total_pymnt</th>\n",
       "      <th>issue_d</th>\n",
       "      <th>purpose</th>\n",
       "      <th>dti</th>\n",
       "      <th>zip_code</th>\n",
       "      <th>loan_status_target</th>\n",
       "      <th>grade_clean</th>\n",
       "    </tr>\n",
       "  </thead>\n",
       "  <tbody>\n",
       "  </tbody>\n",
       "</table>\n",
       "</div>"
      ],
      "text/plain": [
       "Empty DataFrame\n",
       "Columns: [funded_amnt, emp_length, annual_inc, loan_amnt, home_ownership, int_rate, addr_state, grade, term, installment, total_pymnt, issue_d, purpose, dti, zip_code, loan_status_target, grade_clean]\n",
       "Index: []"
      ]
     },
     "execution_count": 47,
     "metadata": {},
     "output_type": "execute_result"
    }
   ],
   "source": [
    "loan2[loan2.annual_inc > 1000000]"
   ]
  },
  {
   "cell_type": "markdown",
   "id": "loose-recording",
   "metadata": {},
   "source": [
    "### Term"
   ]
  },
  {
   "cell_type": "code",
   "execution_count": 48,
   "id": "circular-small",
   "metadata": {},
   "outputs": [
    {
     "data": {
      "text/plain": [
       " 36 months    0.749641\n",
       " 60 months    0.250359\n",
       "Name: term, dtype: float64"
      ]
     },
     "execution_count": 48,
     "metadata": {},
     "output_type": "execute_result"
    }
   ],
   "source": [
    "#distribution of loan by terms, loan status\n",
    "loan2.term.value_counts(normalize=True)"
   ]
  },
  {
   "cell_type": "code",
   "execution_count": 49,
   "id": "cultural-defendant",
   "metadata": {},
   "outputs": [
    {
     "data": {
      "image/png": "[encoded data removed]",
      "text/plain": [
       "<Figure size 432x288 with 1 Axes>"
      ]
     },
     "metadata": {},
     "output_type": "display_data"
    }
   ],
   "source": [
    "sns.countplot(data=loan2, x='term', hue='loan_status_target');"
   ]
  },
  {
   "cell_type": "markdown",
   "id": "blank-capability",
   "metadata": {},
   "source": [
    "### Home Ownership"
   ]
  },
  {
   "cell_type": "code",
   "execution_count": 50,
   "id": "retained-venezuela",
   "metadata": {},
   "outputs": [
    {
     "data": {
      "text/plain": [
       "MORTGAGE    602694\n",
       "RENT        508225\n",
       "OWN         126638\n",
       "ANY            270\n",
       "OTHER          136\n",
       "NONE            46\n",
       "Name: home_ownership, dtype: int64"
      ]
     },
     "execution_count": 50,
     "metadata": {},
     "output_type": "execute_result"
    }
   ],
   "source": [
    "loan2['home_ownership'].value_counts()"
   ]
  },
  {
   "cell_type": "markdown",
   "id": "alike-yesterday",
   "metadata": {},
   "source": [
    "ANY, OTHER, NONE total to less than 1% of the data so we decided to remove them and prevent \"noise\" they may cause in modeling."
   ]
  },
  {
   "cell_type": "code",
   "execution_count": 51,
   "id": "seven-newman",
   "metadata": {},
   "outputs": [],
   "source": [
    "loan2.drop(loan2[loan2['home_ownership']=='ANY'].index, inplace=True)\n",
    "loan2.drop(loan2[loan2['home_ownership']=='OTHER'].index, inplace=True)\n",
    "loan2.drop(loan2[loan2['home_ownership']=='NONE'].index, inplace=True)"
   ]
  },
  {
   "cell_type": "code",
   "execution_count": 52,
   "id": "norman-ghost",
   "metadata": {},
   "outputs": [],
   "source": [
    "loan2['home_ownership_clean'] = loan2['home_ownership'].map({\"MORTGAGE\": 1,\n",
    "                                    \"RENT\": 3, \"OWN\": 2 })"
   ]
  },
  {
   "cell_type": "code",
   "execution_count": 53,
   "id": "homeless-heath",
   "metadata": {},
   "outputs": [
    {
     "data": {
      "image/png": "[encoded data removed]",
      "text/plain": [
       "<Figure size 432x288 with 1 Axes>"
      ]
     },
     "metadata": {},
     "output_type": "display_data"
    }
   ],
   "source": [
    "sns.countplot(x='home_ownership',hue='loan_status_target',\n",
    "              data=loan2);"
   ]
  },
  {
   "cell_type": "markdown",
   "id": "powered-norfolk",
   "metadata": {},
   "source": [
    "### Purpose\n"
   ]
  },
  {
   "cell_type": "code",
   "execution_count": 54,
   "id": "automotive-least",
   "metadata": {},
   "outputs": [
    {
     "data": {
      "text/plain": [
       "debt_consolidation    0.585729\n",
       "credit_card           0.218080\n",
       "home_improvement      0.061277\n",
       "other                 0.057664\n",
       "major_purchase        0.021866\n",
       "medical               0.011314\n",
       "small_business        0.011313\n",
       "car                   0.010948\n",
       "moving                0.007082\n",
       "vacation              0.006697\n",
       "house                 0.005309\n",
       "wedding               0.001778\n",
       "renewable_energy      0.000693\n",
       "educational           0.000249\n",
       "Name: purpose, dtype: float64"
      ]
     },
     "execution_count": 54,
     "metadata": {},
     "output_type": "execute_result"
    }
   ],
   "source": [
    "# What are the most common reasons for requesting a loan?\n",
    "loan2['purpose'].value_counts(normalize=True)"
   ]
  },
  {
   "cell_type": "code",
   "execution_count": 55,
   "id": "oriented-diversity",
   "metadata": {},
   "outputs": [
    {
     "data": {
      "image/png": "[encoded data removed]",
      "text/plain": [
       "<Figure size 792x504 with 1 Axes>"
      ]
     },
     "metadata": {},
     "output_type": "display_data"
    }
   ],
   "source": [
    "plt.figure(figsize=(11,7))\n",
    "sns.countplot(x='purpose',hue='loan_status_target',\n",
    "              data=loan2, palette='Set1');\n",
    "plt.xticks(rotation=70);\n",
    "plt.title('Purpose of the loan with Loan Status');"
   ]
  },
  {
   "cell_type": "code",
   "execution_count": 56,
   "id": "elegant-bidder",
   "metadata": {},
   "outputs": [],
   "source": [
    "# remove grade and home ownership were replaced with grade_clean, home_ownership_clean\n",
    "loan2.drop(columns=['grade', 'home_ownership'], inplace=True)"
   ]
  },
  {
   "cell_type": "code",
   "execution_count": 57,
   "id": "marine-wellington",
   "metadata": {},
   "outputs": [],
   "source": [
    "loan2.to_csv('./LoanStats/loan_model.csv')"
   ]
  },
  {
   "cell_type": "markdown",
   "id": "hundred-gravity",
   "metadata": {},
   "source": [
    "## Models"
   ]
  },
  {
   "cell_type": "code",
   "execution_count": 58,
   "id": "legitimate-percentage",
   "metadata": {},
   "outputs": [],
   "source": [
    "model = pd.read_csv('./LoanStats/loan_model.csv')"
   ]
  },
  {
   "cell_type": "code",
   "execution_count": 59,
   "id": "other-swaziland",
   "metadata": {},
   "outputs": [],
   "source": [
    "# removed the Unnamed Column\n",
    "model.drop(columns=['Unnamed: 0'], inplace=True)"
   ]
  },
  {
   "cell_type": "code",
   "execution_count": 60,
   "id": "scheduled-notice",
   "metadata": {},
   "outputs": [],
   "source": [
    "from sklearn.neighbors import KNeighborsClassifier\n",
    "from sklearn.model_selection import train_test_split, KFold, cross_val_score, cross_val_predict, GridSearchCV\n",
    "from sklearn.linear_model import LogisticRegression\n",
    "from sklearn.ensemble import RandomForestClassifier, ExtraTreesClassifier, AdaBoostClassifier\n",
    "from sklearn.metrics import accuracy_score, confusion_matrix, plot_confusion_matrix, recall_score, classification_report\n",
    "import sklearn.metrics as metrics\n",
    "from sklearn.svm import SVC\n",
    "from sklearn.pipeline import Pipeline\n",
    "from sklearn.tree import DecisionTreeClassifier"
   ]
  },
  {
   "cell_type": "code",
   "execution_count": 61,
   "id": "defensive-premiere",
   "metadata": {},
   "outputs": [],
   "source": [
    "# https://www.programcreek.com/python/example/81623/sklearn.metrics.classification_report\n",
    "def train_evaluate(algo, X_train, X_test, y_train, y_test):\n",
    "    \n",
    "    algo.fit(X_train, y_train)\n",
    "    \n",
    "    print (\"Accuracy on training set:\")\n",
    "    print (algo.score(X_train, y_train))\n",
    "    print (\"Accuracy on testing set:\")\n",
    "    print (algo.score(X_test, y_test))\n",
    "    \n",
    "    y_pred = algo.predict(X_test)\n",
    "    print (\"Classification Report:\")\n",
    "    print (classification_report(y_test, y_pred))\n",
    "    print (\"Confusion Matrix:\")\n",
    "    print (confusion_matrix(y_test, y_pred))\n"
   ]
  },
  {
   "cell_type": "markdown",
   "id": "technological-swedish",
   "metadata": {},
   "source": [
    "### Set up modeling"
   ]
  },
  {
   "cell_type": "code",
   "execution_count": 62,
   "id": "critical-correction",
   "metadata": {},
   "outputs": [],
   "source": [
    "# identify X and y features\n",
    "X = model[['funded_amnt', 'emp_length', 'annual_inc', 'int_rate', \n",
    "            'installment', 'total_pymnt','grade_clean']]\n",
    "y = model['loan_status_target']"
   ]
  },
  {
   "cell_type": "markdown",
   "id": "representative-emission",
   "metadata": {},
   "source": [
    "The baseline values of the target variables."
   ]
  },
  {
   "cell_type": "code",
   "execution_count": 63,
   "id": "specialized-monday",
   "metadata": {},
   "outputs": [
    {
     "data": {
      "text/plain": [
       "1    0.782997\n",
       "0    0.217003\n",
       "Name: loan_status_target, dtype: float64"
      ]
     },
     "execution_count": 63,
     "metadata": {},
     "output_type": "execute_result"
    }
   ],
   "source": [
    "y.value_counts(normalize=True)"
   ]
  },
  {
   "cell_type": "markdown",
   "id": "trying-shannon",
   "metadata": {},
   "source": [
    "The data was split 75% train and 25% testing."
   ]
  },
  {
   "cell_type": "code",
   "execution_count": 64,
   "id": "extended-washer",
   "metadata": {},
   "outputs": [],
   "source": [
    "# split the data to perform training on train and then test for predicition\n",
    "X_train, X_test, y_train, y_test = train_test_split(X, y, test_size=0.25, random_state=42)"
   ]
  },
  {
   "cell_type": "code",
   "execution_count": 65,
   "id": "damaged-pittsburgh",
   "metadata": {},
   "outputs": [],
   "source": [
    "#ss = StandardScaler()\n",
    "#X_train = ss.fit_transform(X_train)\n",
    "#X_test = ss.transform(X_test)"
   ]
  },
  {
   "cell_type": "code",
   "execution_count": 66,
   "id": "african-berry",
   "metadata": {},
   "outputs": [
    {
     "name": "stdout",
     "output_type": "stream",
     "text": [
      "X train:  (928167, 7)\n",
      "y train:  (928167,)\n",
      "\n",
      "X test:  (309390, 7)\n",
      "y test:  (309390,)\n"
     ]
    }
   ],
   "source": [
    "# verify the shape of the data\n",
    "print('X train: ',X_train.shape)\n",
    "print('y train: ',y_train.shape)\n",
    "print()\n",
    "print('X test: ',X_test.shape)\n",
    "print('y test: ',y_test.shape)"
   ]
  },
  {
   "cell_type": "markdown",
   "id": "adult-wildlife",
   "metadata": {},
   "source": [
    "### Logistic Regression"
   ]
  },
  {
   "cell_type": "markdown",
   "id": "laden-premises",
   "metadata": {},
   "source": [
    "Logistic Regression is chosen as one of the models because it is used to predict a single outcome.  Since we are trying to predict if someone will default or not, that makes this is a good algorithm for this problem.\n",
    "\n",
    "In our dataset there is a defined relationship between the features and the outcome.\n",
    "\n",
    "I did not use sag or saga solvers because the features are not of similar scale. I removed the outliers to help improve model performance. My dataset also does not have high correlation between each feature. \n",
    "\n",
    "Parameters:\n",
    "- class_weight: How to handle imbalance across features\n",
    "- solver: tested all of them to see which performs best\n",
    "- max_iter: the maximum number of iterations to get a solution (at max and no match it will stop)\n",
    "- C: Smaller values have more regularization. Inverse of regularization strength. Must be positive value. Search logarithmically: [.1, 1, 10]"
   ]
  },
  {
   "cell_type": "code",
   "execution_count": 74,
   "id": "generous-motivation",
   "metadata": {},
   "outputs": [
    {
     "name": "stderr",
     "output_type": "stream",
     "text": [
      "/Users/celeste/opt/anaconda3/lib/python3.8/site-packages/sklearn/linear_model/_logistic.py:1353: UserWarning: 'n_jobs' > 1 does not have any effect when 'solver' is set to 'liblinear'. Got 'n_jobs' = 8.\n",
      "  warnings.warn(\"'n_jobs' > 1 does not have any effect when\"\n",
      "/Users/celeste/opt/anaconda3/lib/python3.8/site-packages/sklearn/linear_model/_logistic.py:1353: UserWarning: 'n_jobs' > 1 does not have any effect when 'solver' is set to 'liblinear'. Got 'n_jobs' = 8.\n",
      "  warnings.warn(\"'n_jobs' > 1 does not have any effect when\"\n",
      "/Users/celeste/opt/anaconda3/lib/python3.8/site-packages/sklearn/linear_model/_logistic.py:1353: UserWarning: 'n_jobs' > 1 does not have any effect when 'solver' is set to 'liblinear'. Got 'n_jobs' = 8.\n",
      "  warnings.warn(\"'n_jobs' > 1 does not have any effect when\"\n",
      "/Users/celeste/opt/anaconda3/lib/python3.8/site-packages/sklearn/linear_model/_logistic.py:1353: UserWarning: 'n_jobs' > 1 does not have any effect when 'solver' is set to 'liblinear'. Got 'n_jobs' = 8.\n",
      "  warnings.warn(\"'n_jobs' > 1 does not have any effect when\"\n",
      "/Users/celeste/opt/anaconda3/lib/python3.8/site-packages/sklearn/linear_model/_logistic.py:1353: UserWarning: 'n_jobs' > 1 does not have any effect when 'solver' is set to 'liblinear'. Got 'n_jobs' = 8.\n",
      "  warnings.warn(\"'n_jobs' > 1 does not have any effect when\"\n",
      "/Users/celeste/opt/anaconda3/lib/python3.8/site-packages/sklearn/linear_model/_logistic.py:1353: UserWarning: 'n_jobs' > 1 does not have any effect when 'solver' is set to 'liblinear'. Got 'n_jobs' = 8.\n",
      "  warnings.warn(\"'n_jobs' > 1 does not have any effect when\"\n",
      "/Users/celeste/opt/anaconda3/lib/python3.8/site-packages/sklearn/linear_model/_logistic.py:1353: UserWarning: 'n_jobs' > 1 does not have any effect when 'solver' is set to 'liblinear'. Got 'n_jobs' = 8.\n",
      "  warnings.warn(\"'n_jobs' > 1 does not have any effect when\"\n",
      "/Users/celeste/opt/anaconda3/lib/python3.8/site-packages/sklearn/linear_model/_logistic.py:1353: UserWarning: 'n_jobs' > 1 does not have any effect when 'solver' is set to 'liblinear'. Got 'n_jobs' = 8.\n",
      "  warnings.warn(\"'n_jobs' > 1 does not have any effect when\"\n",
      "/Users/celeste/opt/anaconda3/lib/python3.8/site-packages/sklearn/linear_model/_logistic.py:1353: UserWarning: 'n_jobs' > 1 does not have any effect when 'solver' is set to 'liblinear'. Got 'n_jobs' = 8.\n",
      "  warnings.warn(\"'n_jobs' > 1 does not have any effect when\"\n",
      "/Users/celeste/opt/anaconda3/lib/python3.8/site-packages/sklearn/linear_model/_logistic.py:1353: UserWarning: 'n_jobs' > 1 does not have any effect when 'solver' is set to 'liblinear'. Got 'n_jobs' = 8.\n",
      "  warnings.warn(\"'n_jobs' > 1 does not have any effect when\"\n",
      "/Users/celeste/opt/anaconda3/lib/python3.8/site-packages/sklearn/linear_model/_logistic.py:1353: UserWarning: 'n_jobs' > 1 does not have any effect when 'solver' is set to 'liblinear'. Got 'n_jobs' = 8.\n",
      "  warnings.warn(\"'n_jobs' > 1 does not have any effect when\"\n",
      "/Users/celeste/opt/anaconda3/lib/python3.8/site-packages/sklearn/linear_model/_logistic.py:1353: UserWarning: 'n_jobs' > 1 does not have any effect when 'solver' is set to 'liblinear'. Got 'n_jobs' = 8.\n",
      "  warnings.warn(\"'n_jobs' > 1 does not have any effect when\"\n",
      "/Users/celeste/opt/anaconda3/lib/python3.8/site-packages/sklearn/linear_model/_logistic.py:1353: UserWarning: 'n_jobs' > 1 does not have any effect when 'solver' is set to 'liblinear'. Got 'n_jobs' = 8.\n",
      "  warnings.warn(\"'n_jobs' > 1 does not have any effect when\"\n",
      "/Users/celeste/opt/anaconda3/lib/python3.8/site-packages/sklearn/linear_model/_logistic.py:1353: UserWarning: 'n_jobs' > 1 does not have any effect when 'solver' is set to 'liblinear'. Got 'n_jobs' = 8.\n",
      "  warnings.warn(\"'n_jobs' > 1 does not have any effect when\"\n",
      "/Users/celeste/opt/anaconda3/lib/python3.8/site-packages/sklearn/linear_model/_logistic.py:1353: UserWarning: 'n_jobs' > 1 does not have any effect when 'solver' is set to 'liblinear'. Got 'n_jobs' = 8.\n",
      "  warnings.warn(\"'n_jobs' > 1 does not have any effect when\"\n",
      "/Users/celeste/opt/anaconda3/lib/python3.8/site-packages/sklearn/linear_model/_logistic.py:1353: UserWarning: 'n_jobs' > 1 does not have any effect when 'solver' is set to 'liblinear'. Got 'n_jobs' = 8.\n",
      "  warnings.warn(\"'n_jobs' > 1 does not have any effect when\"\n",
      "/Users/celeste/opt/anaconda3/lib/python3.8/site-packages/sklearn/linear_model/_logistic.py:1353: UserWarning: 'n_jobs' > 1 does not have any effect when 'solver' is set to 'liblinear'. Got 'n_jobs' = 8.\n",
      "  warnings.warn(\"'n_jobs' > 1 does not have any effect when\"\n",
      "/Users/celeste/opt/anaconda3/lib/python3.8/site-packages/sklearn/linear_model/_logistic.py:1353: UserWarning: 'n_jobs' > 1 does not have any effect when 'solver' is set to 'liblinear'. Got 'n_jobs' = 8.\n",
      "  warnings.warn(\"'n_jobs' > 1 does not have any effect when\"\n",
      "/Users/celeste/opt/anaconda3/lib/python3.8/site-packages/sklearn/linear_model/_logistic.py:1353: UserWarning: 'n_jobs' > 1 does not have any effect when 'solver' is set to 'liblinear'. Got 'n_jobs' = 8.\n",
      "  warnings.warn(\"'n_jobs' > 1 does not have any effect when\"\n",
      "/Users/celeste/opt/anaconda3/lib/python3.8/site-packages/sklearn/linear_model/_logistic.py:1353: UserWarning: 'n_jobs' > 1 does not have any effect when 'solver' is set to 'liblinear'. Got 'n_jobs' = 8.\n",
      "  warnings.warn(\"'n_jobs' > 1 does not have any effect when\"\n",
      "/Users/celeste/opt/anaconda3/lib/python3.8/site-packages/sklearn/linear_model/_logistic.py:1353: UserWarning: 'n_jobs' > 1 does not have any effect when 'solver' is set to 'liblinear'. Got 'n_jobs' = 8.\n",
      "  warnings.warn(\"'n_jobs' > 1 does not have any effect when\"\n",
      "/Users/celeste/opt/anaconda3/lib/python3.8/site-packages/sklearn/linear_model/_logistic.py:1353: UserWarning: 'n_jobs' > 1 does not have any effect when 'solver' is set to 'liblinear'. Got 'n_jobs' = 8.\n",
      "  warnings.warn(\"'n_jobs' > 1 does not have any effect when\"\n",
      "/Users/celeste/opt/anaconda3/lib/python3.8/site-packages/sklearn/linear_model/_logistic.py:1353: UserWarning: 'n_jobs' > 1 does not have any effect when 'solver' is set to 'liblinear'. Got 'n_jobs' = 8.\n",
      "  warnings.warn(\"'n_jobs' > 1 does not have any effect when\"\n",
      "/Users/celeste/opt/anaconda3/lib/python3.8/site-packages/sklearn/linear_model/_logistic.py:1353: UserWarning: 'n_jobs' > 1 does not have any effect when 'solver' is set to 'liblinear'. Got 'n_jobs' = 8.\n",
      "  warnings.warn(\"'n_jobs' > 1 does not have any effect when\"\n",
      "/Users/celeste/opt/anaconda3/lib/python3.8/site-packages/sklearn/linear_model/_logistic.py:1353: UserWarning: 'n_jobs' > 1 does not have any effect when 'solver' is set to 'liblinear'. Got 'n_jobs' = 8.\n",
      "  warnings.warn(\"'n_jobs' > 1 does not have any effect when\"\n",
      "/Users/celeste/opt/anaconda3/lib/python3.8/site-packages/sklearn/linear_model/_logistic.py:1353: UserWarning: 'n_jobs' > 1 does not have any effect when 'solver' is set to 'liblinear'. Got 'n_jobs' = 8.\n",
      "  warnings.warn(\"'n_jobs' > 1 does not have any effect when\"\n",
      "/Users/celeste/opt/anaconda3/lib/python3.8/site-packages/sklearn/linear_model/_logistic.py:1353: UserWarning: 'n_jobs' > 1 does not have any effect when 'solver' is set to 'liblinear'. Got 'n_jobs' = 8.\n",
      "  warnings.warn(\"'n_jobs' > 1 does not have any effect when\"\n",
      "/Users/celeste/opt/anaconda3/lib/python3.8/site-packages/sklearn/linear_model/_logistic.py:1353: UserWarning: 'n_jobs' > 1 does not have any effect when 'solver' is set to 'liblinear'. Got 'n_jobs' = 8.\n",
      "  warnings.warn(\"'n_jobs' > 1 does not have any effect when\"\n",
      "/Users/celeste/opt/anaconda3/lib/python3.8/site-packages/sklearn/linear_model/_logistic.py:1353: UserWarning: 'n_jobs' > 1 does not have any effect when 'solver' is set to 'liblinear'. Got 'n_jobs' = 8.\n",
      "  warnings.warn(\"'n_jobs' > 1 does not have any effect when\"\n",
      "/Users/celeste/opt/anaconda3/lib/python3.8/site-packages/sklearn/linear_model/_logistic.py:1353: UserWarning: 'n_jobs' > 1 does not have any effect when 'solver' is set to 'liblinear'. Got 'n_jobs' = 8.\n",
      "  warnings.warn(\"'n_jobs' > 1 does not have any effect when\"\n",
      "/Users/celeste/opt/anaconda3/lib/python3.8/site-packages/sklearn/linear_model/_logistic.py:1353: UserWarning: 'n_jobs' > 1 does not have any effect when 'solver' is set to 'liblinear'. Got 'n_jobs' = 8.\n",
      "  warnings.warn(\"'n_jobs' > 1 does not have any effect when\"\n",
      "/Users/celeste/opt/anaconda3/lib/python3.8/site-packages/sklearn/linear_model/_logistic.py:1353: UserWarning: 'n_jobs' > 1 does not have any effect when 'solver' is set to 'liblinear'. Got 'n_jobs' = 8.\n",
      "  warnings.warn(\"'n_jobs' > 1 does not have any effect when\"\n"
     ]
    },
    {
     "name": "stderr",
     "output_type": "stream",
     "text": [
      "/Users/celeste/opt/anaconda3/lib/python3.8/site-packages/sklearn/linear_model/_logistic.py:1353: UserWarning: 'n_jobs' > 1 does not have any effect when 'solver' is set to 'liblinear'. Got 'n_jobs' = 8.\n",
      "  warnings.warn(\"'n_jobs' > 1 does not have any effect when\"\n",
      "/Users/celeste/opt/anaconda3/lib/python3.8/site-packages/sklearn/linear_model/_logistic.py:1353: UserWarning: 'n_jobs' > 1 does not have any effect when 'solver' is set to 'liblinear'. Got 'n_jobs' = 8.\n",
      "  warnings.warn(\"'n_jobs' > 1 does not have any effect when\"\n",
      "/Users/celeste/opt/anaconda3/lib/python3.8/site-packages/sklearn/linear_model/_logistic.py:1353: UserWarning: 'n_jobs' > 1 does not have any effect when 'solver' is set to 'liblinear'. Got 'n_jobs' = 8.\n",
      "  warnings.warn(\"'n_jobs' > 1 does not have any effect when\"\n",
      "/Users/celeste/opt/anaconda3/lib/python3.8/site-packages/sklearn/linear_model/_logistic.py:1353: UserWarning: 'n_jobs' > 1 does not have any effect when 'solver' is set to 'liblinear'. Got 'n_jobs' = 8.\n",
      "  warnings.warn(\"'n_jobs' > 1 does not have any effect when\"\n",
      "/Users/celeste/opt/anaconda3/lib/python3.8/site-packages/sklearn/linear_model/_logistic.py:1353: UserWarning: 'n_jobs' > 1 does not have any effect when 'solver' is set to 'liblinear'. Got 'n_jobs' = 8.\n",
      "  warnings.warn(\"'n_jobs' > 1 does not have any effect when\"\n",
      "/Users/celeste/opt/anaconda3/lib/python3.8/site-packages/sklearn/linear_model/_logistic.py:1353: UserWarning: 'n_jobs' > 1 does not have any effect when 'solver' is set to 'liblinear'. Got 'n_jobs' = 8.\n",
      "  warnings.warn(\"'n_jobs' > 1 does not have any effect when\"\n",
      "/Users/celeste/opt/anaconda3/lib/python3.8/site-packages/sklearn/linear_model/_logistic.py:1353: UserWarning: 'n_jobs' > 1 does not have any effect when 'solver' is set to 'liblinear'. Got 'n_jobs' = 8.\n",
      "  warnings.warn(\"'n_jobs' > 1 does not have any effect when\"\n",
      "/Users/celeste/opt/anaconda3/lib/python3.8/site-packages/sklearn/linear_model/_logistic.py:1353: UserWarning: 'n_jobs' > 1 does not have any effect when 'solver' is set to 'liblinear'. Got 'n_jobs' = 8.\n",
      "  warnings.warn(\"'n_jobs' > 1 does not have any effect when\"\n",
      "/Users/celeste/opt/anaconda3/lib/python3.8/site-packages/sklearn/linear_model/_logistic.py:1353: UserWarning: 'n_jobs' > 1 does not have any effect when 'solver' is set to 'liblinear'. Got 'n_jobs' = 8.\n",
      "  warnings.warn(\"'n_jobs' > 1 does not have any effect when\"\n",
      "/Users/celeste/opt/anaconda3/lib/python3.8/site-packages/sklearn/linear_model/_logistic.py:1353: UserWarning: 'n_jobs' > 1 does not have any effect when 'solver' is set to 'liblinear'. Got 'n_jobs' = 8.\n",
      "  warnings.warn(\"'n_jobs' > 1 does not have any effect when\"\n",
      "/Users/celeste/opt/anaconda3/lib/python3.8/site-packages/sklearn/linear_model/_logistic.py:1353: UserWarning: 'n_jobs' > 1 does not have any effect when 'solver' is set to 'liblinear'. Got 'n_jobs' = 8.\n",
      "  warnings.warn(\"'n_jobs' > 1 does not have any effect when\"\n",
      "/Users/celeste/opt/anaconda3/lib/python3.8/site-packages/sklearn/linear_model/_logistic.py:1353: UserWarning: 'n_jobs' > 1 does not have any effect when 'solver' is set to 'liblinear'. Got 'n_jobs' = 8.\n",
      "  warnings.warn(\"'n_jobs' > 1 does not have any effect when\"\n",
      "/Users/celeste/opt/anaconda3/lib/python3.8/site-packages/sklearn/linear_model/_logistic.py:1353: UserWarning: 'n_jobs' > 1 does not have any effect when 'solver' is set to 'liblinear'. Got 'n_jobs' = 8.\n",
      "  warnings.warn(\"'n_jobs' > 1 does not have any effect when\"\n",
      "/Users/celeste/opt/anaconda3/lib/python3.8/site-packages/sklearn/linear_model/_logistic.py:1353: UserWarning: 'n_jobs' > 1 does not have any effect when 'solver' is set to 'liblinear'. Got 'n_jobs' = 8.\n",
      "  warnings.warn(\"'n_jobs' > 1 does not have any effect when\"\n",
      "/Users/celeste/opt/anaconda3/lib/python3.8/site-packages/sklearn/linear_model/_logistic.py:1353: UserWarning: 'n_jobs' > 1 does not have any effect when 'solver' is set to 'liblinear'. Got 'n_jobs' = 8.\n",
      "  warnings.warn(\"'n_jobs' > 1 does not have any effect when\"\n",
      "/Users/celeste/opt/anaconda3/lib/python3.8/site-packages/sklearn/linear_model/_logistic.py:1353: UserWarning: 'n_jobs' > 1 does not have any effect when 'solver' is set to 'liblinear'. Got 'n_jobs' = 8.\n",
      "  warnings.warn(\"'n_jobs' > 1 does not have any effect when\"\n",
      "/Users/celeste/opt/anaconda3/lib/python3.8/site-packages/sklearn/linear_model/_logistic.py:1353: UserWarning: 'n_jobs' > 1 does not have any effect when 'solver' is set to 'liblinear'. Got 'n_jobs' = 8.\n",
      "  warnings.warn(\"'n_jobs' > 1 does not have any effect when\"\n",
      "/Users/celeste/opt/anaconda3/lib/python3.8/site-packages/sklearn/linear_model/_logistic.py:1353: UserWarning: 'n_jobs' > 1 does not have any effect when 'solver' is set to 'liblinear'. Got 'n_jobs' = 8.\n",
      "  warnings.warn(\"'n_jobs' > 1 does not have any effect when\"\n",
      "/Users/celeste/opt/anaconda3/lib/python3.8/site-packages/sklearn/linear_model/_logistic.py:1353: UserWarning: 'n_jobs' > 1 does not have any effect when 'solver' is set to 'liblinear'. Got 'n_jobs' = 8.\n",
      "  warnings.warn(\"'n_jobs' > 1 does not have any effect when\"\n",
      "/Users/celeste/opt/anaconda3/lib/python3.8/site-packages/sklearn/linear_model/_logistic.py:1353: UserWarning: 'n_jobs' > 1 does not have any effect when 'solver' is set to 'liblinear'. Got 'n_jobs' = 8.\n",
      "  warnings.warn(\"'n_jobs' > 1 does not have any effect when\"\n",
      "/Users/celeste/opt/anaconda3/lib/python3.8/site-packages/sklearn/linear_model/_logistic.py:1353: UserWarning: 'n_jobs' > 1 does not have any effect when 'solver' is set to 'liblinear'. Got 'n_jobs' = 8.\n",
      "  warnings.warn(\"'n_jobs' > 1 does not have any effect when\"\n",
      "/Users/celeste/opt/anaconda3/lib/python3.8/site-packages/sklearn/linear_model/_logistic.py:1353: UserWarning: 'n_jobs' > 1 does not have any effect when 'solver' is set to 'liblinear'. Got 'n_jobs' = 8.\n",
      "  warnings.warn(\"'n_jobs' > 1 does not have any effect when\"\n",
      "/Users/celeste/opt/anaconda3/lib/python3.8/site-packages/sklearn/linear_model/_logistic.py:1353: UserWarning: 'n_jobs' > 1 does not have any effect when 'solver' is set to 'liblinear'. Got 'n_jobs' = 8.\n",
      "  warnings.warn(\"'n_jobs' > 1 does not have any effect when\"\n",
      "/Users/celeste/opt/anaconda3/lib/python3.8/site-packages/sklearn/linear_model/_logistic.py:1353: UserWarning: 'n_jobs' > 1 does not have any effect when 'solver' is set to 'liblinear'. Got 'n_jobs' = 8.\n",
      "  warnings.warn(\"'n_jobs' > 1 does not have any effect when\"\n",
      "/Users/celeste/opt/anaconda3/lib/python3.8/site-packages/sklearn/linear_model/_logistic.py:1353: UserWarning: 'n_jobs' > 1 does not have any effect when 'solver' is set to 'liblinear'. Got 'n_jobs' = 8.\n",
      "  warnings.warn(\"'n_jobs' > 1 does not have any effect when\"\n",
      "/Users/celeste/opt/anaconda3/lib/python3.8/site-packages/sklearn/linear_model/_logistic.py:1353: UserWarning: 'n_jobs' > 1 does not have any effect when 'solver' is set to 'liblinear'. Got 'n_jobs' = 8.\n",
      "  warnings.warn(\"'n_jobs' > 1 does not have any effect when\"\n",
      "/Users/celeste/opt/anaconda3/lib/python3.8/site-packages/sklearn/linear_model/_logistic.py:1353: UserWarning: 'n_jobs' > 1 does not have any effect when 'solver' is set to 'liblinear'. Got 'n_jobs' = 8.\n",
      "  warnings.warn(\"'n_jobs' > 1 does not have any effect when\"\n",
      "/Users/celeste/opt/anaconda3/lib/python3.8/site-packages/sklearn/linear_model/_logistic.py:1353: UserWarning: 'n_jobs' > 1 does not have any effect when 'solver' is set to 'liblinear'. Got 'n_jobs' = 8.\n",
      "  warnings.warn(\"'n_jobs' > 1 does not have any effect when\"\n",
      "/Users/celeste/opt/anaconda3/lib/python3.8/site-packages/sklearn/linear_model/_logistic.py:1353: UserWarning: 'n_jobs' > 1 does not have any effect when 'solver' is set to 'liblinear'. Got 'n_jobs' = 8.\n",
      "  warnings.warn(\"'n_jobs' > 1 does not have any effect when\"\n",
      "/Users/celeste/opt/anaconda3/lib/python3.8/site-packages/sklearn/linear_model/_logistic.py:1353: UserWarning: 'n_jobs' > 1 does not have any effect when 'solver' is set to 'liblinear'. Got 'n_jobs' = 8.\n",
      "  warnings.warn(\"'n_jobs' > 1 does not have any effect when\"\n",
      "/Users/celeste/opt/anaconda3/lib/python3.8/site-packages/sklearn/linear_model/_logistic.py:1353: UserWarning: 'n_jobs' > 1 does not have any effect when 'solver' is set to 'liblinear'. Got 'n_jobs' = 8.\n",
      "  warnings.warn(\"'n_jobs' > 1 does not have any effect when\"\n",
      "/Users/celeste/opt/anaconda3/lib/python3.8/site-packages/sklearn/linear_model/_logistic.py:1353: UserWarning: 'n_jobs' > 1 does not have any effect when 'solver' is set to 'liblinear'. Got 'n_jobs' = 8.\n",
      "  warnings.warn(\"'n_jobs' > 1 does not have any effect when\"\n"
     ]
    },
    {
     "name": "stderr",
     "output_type": "stream",
     "text": [
      "/Users/celeste/opt/anaconda3/lib/python3.8/site-packages/sklearn/linear_model/_logistic.py:1353: UserWarning: 'n_jobs' > 1 does not have any effect when 'solver' is set to 'liblinear'. Got 'n_jobs' = 8.\n",
      "  warnings.warn(\"'n_jobs' > 1 does not have any effect when\"\n",
      "/Users/celeste/opt/anaconda3/lib/python3.8/site-packages/sklearn/linear_model/_logistic.py:1353: UserWarning: 'n_jobs' > 1 does not have any effect when 'solver' is set to 'liblinear'. Got 'n_jobs' = 8.\n",
      "  warnings.warn(\"'n_jobs' > 1 does not have any effect when\"\n",
      "/Users/celeste/opt/anaconda3/lib/python3.8/site-packages/sklearn/linear_model/_logistic.py:1353: UserWarning: 'n_jobs' > 1 does not have any effect when 'solver' is set to 'liblinear'. Got 'n_jobs' = 8.\n",
      "  warnings.warn(\"'n_jobs' > 1 does not have any effect when\"\n",
      "/Users/celeste/opt/anaconda3/lib/python3.8/site-packages/sklearn/linear_model/_logistic.py:1353: UserWarning: 'n_jobs' > 1 does not have any effect when 'solver' is set to 'liblinear'. Got 'n_jobs' = 8.\n",
      "  warnings.warn(\"'n_jobs' > 1 does not have any effect when\"\n",
      "/Users/celeste/opt/anaconda3/lib/python3.8/site-packages/sklearn/linear_model/_logistic.py:1353: UserWarning: 'n_jobs' > 1 does not have any effect when 'solver' is set to 'liblinear'. Got 'n_jobs' = 8.\n",
      "  warnings.warn(\"'n_jobs' > 1 does not have any effect when\"\n",
      "/Users/celeste/opt/anaconda3/lib/python3.8/site-packages/sklearn/linear_model/_logistic.py:1353: UserWarning: 'n_jobs' > 1 does not have any effect when 'solver' is set to 'liblinear'. Got 'n_jobs' = 8.\n",
      "  warnings.warn(\"'n_jobs' > 1 does not have any effect when\"\n",
      "/Users/celeste/opt/anaconda3/lib/python3.8/site-packages/sklearn/linear_model/_logistic.py:1353: UserWarning: 'n_jobs' > 1 does not have any effect when 'solver' is set to 'liblinear'. Got 'n_jobs' = 8.\n",
      "  warnings.warn(\"'n_jobs' > 1 does not have any effect when\"\n",
      "/Users/celeste/opt/anaconda3/lib/python3.8/site-packages/sklearn/linear_model/_logistic.py:1353: UserWarning: 'n_jobs' > 1 does not have any effect when 'solver' is set to 'liblinear'. Got 'n_jobs' = 8.\n",
      "  warnings.warn(\"'n_jobs' > 1 does not have any effect when\"\n",
      "/Users/celeste/opt/anaconda3/lib/python3.8/site-packages/sklearn/linear_model/_logistic.py:1353: UserWarning: 'n_jobs' > 1 does not have any effect when 'solver' is set to 'liblinear'. Got 'n_jobs' = 8.\n",
      "  warnings.warn(\"'n_jobs' > 1 does not have any effect when\"\n",
      "/Users/celeste/opt/anaconda3/lib/python3.8/site-packages/sklearn/linear_model/_logistic.py:1353: UserWarning: 'n_jobs' > 1 does not have any effect when 'solver' is set to 'liblinear'. Got 'n_jobs' = 8.\n",
      "  warnings.warn(\"'n_jobs' > 1 does not have any effect when\"\n",
      "/Users/celeste/opt/anaconda3/lib/python3.8/site-packages/sklearn/linear_model/_logistic.py:1353: UserWarning: 'n_jobs' > 1 does not have any effect when 'solver' is set to 'liblinear'. Got 'n_jobs' = 8.\n",
      "  warnings.warn(\"'n_jobs' > 1 does not have any effect when\"\n",
      "/Users/celeste/opt/anaconda3/lib/python3.8/site-packages/sklearn/linear_model/_logistic.py:1353: UserWarning: 'n_jobs' > 1 does not have any effect when 'solver' is set to 'liblinear'. Got 'n_jobs' = 8.\n",
      "  warnings.warn(\"'n_jobs' > 1 does not have any effect when\"\n",
      "/Users/celeste/opt/anaconda3/lib/python3.8/site-packages/sklearn/linear_model/_logistic.py:1353: UserWarning: 'n_jobs' > 1 does not have any effect when 'solver' is set to 'liblinear'. Got 'n_jobs' = 8.\n",
      "  warnings.warn(\"'n_jobs' > 1 does not have any effect when\"\n",
      "/Users/celeste/opt/anaconda3/lib/python3.8/site-packages/sklearn/linear_model/_logistic.py:1353: UserWarning: 'n_jobs' > 1 does not have any effect when 'solver' is set to 'liblinear'. Got 'n_jobs' = 8.\n",
      "  warnings.warn(\"'n_jobs' > 1 does not have any effect when\"\n",
      "/Users/celeste/opt/anaconda3/lib/python3.8/site-packages/sklearn/linear_model/_logistic.py:1353: UserWarning: 'n_jobs' > 1 does not have any effect when 'solver' is set to 'liblinear'. Got 'n_jobs' = 8.\n",
      "  warnings.warn(\"'n_jobs' > 1 does not have any effect when\"\n",
      "/Users/celeste/opt/anaconda3/lib/python3.8/site-packages/sklearn/linear_model/_logistic.py:1353: UserWarning: 'n_jobs' > 1 does not have any effect when 'solver' is set to 'liblinear'. Got 'n_jobs' = 8.\n",
      "  warnings.warn(\"'n_jobs' > 1 does not have any effect when\"\n",
      "/Users/celeste/opt/anaconda3/lib/python3.8/site-packages/sklearn/linear_model/_logistic.py:1353: UserWarning: 'n_jobs' > 1 does not have any effect when 'solver' is set to 'liblinear'. Got 'n_jobs' = 8.\n",
      "  warnings.warn(\"'n_jobs' > 1 does not have any effect when\"\n",
      "/Users/celeste/opt/anaconda3/lib/python3.8/site-packages/sklearn/linear_model/_logistic.py:1353: UserWarning: 'n_jobs' > 1 does not have any effect when 'solver' is set to 'liblinear'. Got 'n_jobs' = 8.\n",
      "  warnings.warn(\"'n_jobs' > 1 does not have any effect when\"\n",
      "/Users/celeste/opt/anaconda3/lib/python3.8/site-packages/sklearn/linear_model/_logistic.py:1353: UserWarning: 'n_jobs' > 1 does not have any effect when 'solver' is set to 'liblinear'. Got 'n_jobs' = 8.\n",
      "  warnings.warn(\"'n_jobs' > 1 does not have any effect when\"\n",
      "/Users/celeste/opt/anaconda3/lib/python3.8/site-packages/sklearn/linear_model/_logistic.py:1353: UserWarning: 'n_jobs' > 1 does not have any effect when 'solver' is set to 'liblinear'. Got 'n_jobs' = 8.\n",
      "  warnings.warn(\"'n_jobs' > 1 does not have any effect when\"\n",
      "/Users/celeste/opt/anaconda3/lib/python3.8/site-packages/sklearn/linear_model/_logistic.py:1353: UserWarning: 'n_jobs' > 1 does not have any effect when 'solver' is set to 'liblinear'. Got 'n_jobs' = 8.\n",
      "  warnings.warn(\"'n_jobs' > 1 does not have any effect when\"\n",
      "/Users/celeste/opt/anaconda3/lib/python3.8/site-packages/sklearn/linear_model/_logistic.py:1353: UserWarning: 'n_jobs' > 1 does not have any effect when 'solver' is set to 'liblinear'. Got 'n_jobs' = 8.\n",
      "  warnings.warn(\"'n_jobs' > 1 does not have any effect when\"\n",
      "/Users/celeste/opt/anaconda3/lib/python3.8/site-packages/sklearn/linear_model/_logistic.py:1353: UserWarning: 'n_jobs' > 1 does not have any effect when 'solver' is set to 'liblinear'. Got 'n_jobs' = 8.\n",
      "  warnings.warn(\"'n_jobs' > 1 does not have any effect when\"\n",
      "/Users/celeste/opt/anaconda3/lib/python3.8/site-packages/sklearn/linear_model/_logistic.py:1353: UserWarning: 'n_jobs' > 1 does not have any effect when 'solver' is set to 'liblinear'. Got 'n_jobs' = 8.\n",
      "  warnings.warn(\"'n_jobs' > 1 does not have any effect when\"\n",
      "/Users/celeste/opt/anaconda3/lib/python3.8/site-packages/sklearn/linear_model/_logistic.py:1353: UserWarning: 'n_jobs' > 1 does not have any effect when 'solver' is set to 'liblinear'. Got 'n_jobs' = 8.\n",
      "  warnings.warn(\"'n_jobs' > 1 does not have any effect when\"\n",
      "/Users/celeste/opt/anaconda3/lib/python3.8/site-packages/sklearn/linear_model/_logistic.py:1353: UserWarning: 'n_jobs' > 1 does not have any effect when 'solver' is set to 'liblinear'. Got 'n_jobs' = 8.\n",
      "  warnings.warn(\"'n_jobs' > 1 does not have any effect when\"\n",
      "/Users/celeste/opt/anaconda3/lib/python3.8/site-packages/sklearn/linear_model/_logistic.py:1353: UserWarning: 'n_jobs' > 1 does not have any effect when 'solver' is set to 'liblinear'. Got 'n_jobs' = 8.\n",
      "  warnings.warn(\"'n_jobs' > 1 does not have any effect when\"\n"
     ]
    }
   ],
   "source": [
    "# https://towardsdatascience.com/dont-sweat-the-solver-stuff-aea7cddc3451\n",
    "\n",
    "solver_list = ['newton-cg', 'lbfgs', 'sag', 'saga', 'liblinear']\n",
    "\n",
    "gs_params = {\n",
    "    'solver' : solver_list,\n",
    "    'C' : [.1, 1, 10],\n",
    "    'max_iter': [50, 100, 200],\n",
    "    'class_weight' : [None, 'balanced']\n",
    "}\n",
    "\n",
    "log_reg = LogisticRegression(n_jobs=-1, random_state=42)\n",
    "clf = GridSearchCV(log_reg, gs_params, cv=5)\n",
    "clf.fit(X_train, y_train)\n",
    "scores = clf.cv_results_['mean_test_score']\n"
   ]
  },
  {
   "cell_type": "code",
   "execution_count": 76,
   "id": "bigger-shuttle",
   "metadata": {},
   "outputs": [
    {
     "name": "stdout",
     "output_type": "stream",
     "text": [
      "  newton-cg 0.971\n",
      "  lbfgs 0.973\n",
      "  sag 0.974\n",
      "  saga 0.974\n",
      "  liblinear 0.974\n",
      "0.9742632516712296\n",
      "{'C': 0.1, 'class_weight': None, 'max_iter': 50, 'solver': 'liblinear'}\n"
     ]
    }
   ],
   "source": [
    "for score, solver in zip(scores, solver_list):\n",
    "    print(f\"  {solver} {score:.3f}\" )\n",
    "\n",
    "print(clf.best_score_)\n",
    "print(clf.best_params_)"
   ]
  },
  {
   "cell_type": "code",
   "execution_count": 77,
   "id": "pleasant-throw",
   "metadata": {},
   "outputs": [],
   "source": [
    "# instantiate the model\n",
    "logreg = LogisticRegression(**clf.best_params_)\n"
   ]
  },
  {
   "cell_type": "code",
   "execution_count": 78,
   "id": "spatial-diary",
   "metadata": {},
   "outputs": [
    {
     "name": "stdout",
     "output_type": "stream",
     "text": [
      "Accuracy on training set:\n",
      "0.9742535556640131\n",
      "Accuracy on testing set:\n",
      "0.9739228805068038\n",
      "Classification Report:\n",
      "              precision    recall  f1-score   support\n",
      "\n",
      "           0       1.00      0.88      0.94     67276\n",
      "           1       0.97      1.00      0.98    242114\n",
      "\n",
      "    accuracy                           0.97    309390\n",
      "   macro avg       0.98      0.94      0.96    309390\n",
      "weighted avg       0.97      0.97      0.97    309390\n",
      "\n",
      "Confusion Matrix:\n",
      "[[ 59383   7893]\n",
      " [   175 241939]]\n"
     ]
    }
   ],
   "source": [
    "train_evaluate(logreg, X_train, X_test, y_train, y_test)"
   ]
  },
  {
   "cell_type": "markdown",
   "id": "black-anatomy",
   "metadata": {},
   "source": [
    "Result: \n",
    "- The results of the train and test data have accuracy score of .96.  Precision score for both variables predict an average of .98 correctly a borrower will default.    \n",
    "- There does appear to be an overfitting in the recall score because Fully Paid is perfect and Default is .87. \n",
    "- the False Negative result from the Confusion Matrix is concerning because it states 8415 borrowers will default when they may been a Fully Paid one.  "
   ]
  },
  {
   "cell_type": "markdown",
   "id": "clinical-twist",
   "metadata": {},
   "source": [
    "### KNeighbors"
   ]
  },
  {
   "cell_type": "markdown",
   "id": "resistant-glossary",
   "metadata": {},
   "source": [
    "KNeighbors is one of the simplest and a very popular algorithm.  It calculates the distance neighbors(data points),K. The higher the K, the better the accuracy score. \n",
    "The metric use is accuracy.  \n",
    "\n",
    "The dataset is large, we decided to use n_neighbors=7.  It is best to use an odd number for n_neighbors. kd_tree is a combination of Decision Tree and KNN. It splits the regions at the mean value of the observations calculating X and Y coordinates, then continue to do until there is one region.   The leaf size increased because the data is imbalanced."
   ]
  },
  {
   "cell_type": "code",
   "execution_count": null,
   "id": "unusual-tumor",
   "metadata": {},
   "outputs": [],
   "source": [
    "# # instantiate the model\n",
    "knn = KNeighborsClassifier(n_neighbors=7, weights='distance',\n",
    "                          n_jobs=-1, algorithm='kd_tree',\n",
    "                          leaf_size=500)"
   ]
  },
  {
   "cell_type": "code",
   "execution_count": null,
   "id": "affected-texture",
   "metadata": {},
   "outputs": [],
   "source": [
    "train_evaluate(knn, X_train, X_test, y_train, y_test)"
   ]
  },
  {
   "cell_type": "markdown",
   "id": "political-photograph",
   "metadata": {},
   "source": [
    "Result: \n",
    "- The accuracy score for the train and test data shows that there is overfitting.  We increased the leaf_size from 400 to 500 to correct the overfit and it improved a great deal.\n",
    "- The model was able to identify Fully Paid borrowers 98%  while it had a difficult time with Default.  \n",
    "- The misclassification values for KNN are much lower than that of Logistic Regression."
   ]
  },
  {
   "cell_type": "markdown",
   "id": "iraqi-formation",
   "metadata": {},
   "source": [
    "### Random Forest Classifier"
   ]
  },
  {
   "cell_type": "markdown",
   "id": "afraid-burke",
   "metadata": {},
   "source": [
    "Random Forest does not have any assumptions like Logistic Regression.  It is a forest of individual trees, trained on different subset of the train data, with its own predictions and the predictions that is the majority becomes the model's prediction - usually a high accuracy score. \n",
    "Since we have a large data, we will use the following hyperparameters:\n",
    "- n_estimators to increase the number of trees and prevent underfitting.  \n",
    "- max_depth to increase the depth of the tree\n",
    "- min_samples_leaf increase teh number of splits at each node\n",
    "- max_features will take a random subset of the square root of the features to find the best split.\n",
    "- max_samples helps to choose the maximum number of samples from the trainingg set to train each individual sample.  "
   ]
  },
  {
   "cell_type": "code",
   "execution_count": null,
   "id": "national-samuel",
   "metadata": {},
   "outputs": [],
   "source": []
  },
  {
   "cell_type": "code",
   "execution_count": null,
   "id": "relevant-certificate",
   "metadata": {},
   "outputs": [],
   "source": []
  },
  {
   "cell_type": "code",
   "execution_count": null,
   "id": "southwest-notion",
   "metadata": {},
   "outputs": [],
   "source": []
  },
  {
   "cell_type": "code",
   "execution_count": null,
   "id": "formed-banks",
   "metadata": {},
   "outputs": [],
   "source": []
  },
  {
   "cell_type": "code",
   "execution_count": null,
   "id": "material-channels",
   "metadata": {},
   "outputs": [],
   "source": []
  },
  {
   "cell_type": "code",
   "execution_count": null,
   "id": "hispanic-acting",
   "metadata": {},
   "outputs": [],
   "source": []
  },
  {
   "cell_type": "code",
   "execution_count": null,
   "id": "proof-czech",
   "metadata": {},
   "outputs": [],
   "source": []
  },
  {
   "cell_type": "code",
   "execution_count": null,
   "id": "fifteen-mistress",
   "metadata": {},
   "outputs": [],
   "source": []
  },
  {
   "cell_type": "code",
   "execution_count": null,
   "id": "legislative-liquid",
   "metadata": {},
   "outputs": [],
   "source": []
  },
  {
   "cell_type": "markdown",
   "id": "organizational-concentration",
   "metadata": {},
   "source": [
    "### Ada Boost"
   ]
  },
  {
   "cell_type": "code",
   "execution_count": null,
   "id": "western-salvation",
   "metadata": {},
   "outputs": [],
   "source": [
    "ada = AdaBoostClassifier()\n",
    "\n",
    "ada_params = {\n",
    "    'n_estimators': [50,100],\n",
    "    'learning_rate': [.6, 1.0]}\n",
    "\n",
    "gs_ada = GridSearchCV(ada, param_grid=ada_params, n_jobs=-1, cv=3)\n",
    "gs_ada.fit(X_train, y_train)"
   ]
  },
  {
   "cell_type": "code",
   "execution_count": null,
   "id": "proud-omega",
   "metadata": {},
   "outputs": [],
   "source": [
    "result_train=cross_val_score(ada,X_train,y_train,cv=10,scoring='accuracy')\n",
    "result_test=cross_val_score(ada,X_test,y_test,cv=10,scoring='accuracy')\n",
    "\n",
    "#printing the scores\n",
    "print('The training score for cross validation for AdaBoost is:',result_train.max())\n",
    "print('The cross validated score for cross validation for AdaBoost is:',result_test.max())"
   ]
  },
  {
   "cell_type": "code",
   "execution_count": null,
   "id": "abstract-ivory",
   "metadata": {},
   "outputs": [],
   "source": [
    "plt.figure(figsize=(12, 9));\n",
    "\n",
    "plot_confusion_matrix(gs_ada, X_test, y_test, \n",
    "                      cmap='Blues');\n",
    "plt.title('Confusion matrix Using AdaBoost');"
   ]
  },
  {
   "cell_type": "code",
   "execution_count": null,
   "id": "occupational-saver",
   "metadata": {},
   "outputs": [],
   "source": [
    "target_names = ['class 1', 'class 0']\n",
    "print(classification_report(y_test, y_pred, target_names=target_names))"
   ]
  },
  {
   "cell_type": "markdown",
   "id": "native-spouse",
   "metadata": {},
   "source": [
    "## Imbalance SMOTE"
   ]
  },
  {
   "cell_type": "code",
   "execution_count": null,
   "id": "built-sending",
   "metadata": {},
   "outputs": [],
   "source": [
    "# normal the data because the scale of the values are different\n",
    "ss = StandardScaler()\n",
    "X_train = ss.fit_transform(X_train)\n",
    "X_test = ss.fit(X_test)"
   ]
  },
  {
   "cell_type": "code",
   "execution_count": null,
   "id": "stuck-plaintiff",
   "metadata": {},
   "outputs": [],
   "source": [
    "from imblearn.over_sampling import SMOTE, RandomOverSampler"
   ]
  },
  {
   "cell_type": "code",
   "execution_count": null,
   "id": "incident-aurora",
   "metadata": {},
   "outputs": [],
   "source": [
    "print(\"Before OverSampling, counts of label '0': {}\".format(sum(y_train==0)))\n",
    "print(\"Before OverSampling, counts of label '1': {}\".format(sum(y_train==1)))\n",
    "\n",
    "sm = SMOTE(random_state=42)\n",
    "X_train_res, y_train_res = sm.fit_resample(X_train, y_train.ravel())\n",
    "\n",
    "print('After OverSampling, the shape of train_X: {}'.format(X_train_res.shape))\n",
    "print('After OverSampling, the shape of train_y: {} \\n'.format(y_train_res.shape))\n",
    "\n",
    "print(\"After OverSampling, counts of label '0': {}\".format(sum(y_train_res==0)))\n",
    "print(\"After OverSampling, counts of label '1': {}\".format(sum(y_train_res==1)))"
   ]
  },
  {
   "cell_type": "code",
   "execution_count": null,
   "id": "solid-zambia",
   "metadata": {},
   "outputs": [],
   "source": [
    "#SMOTE\n",
    "ada.fit(X_train_res, y_train_res.ravel())\n",
    "y_pred=ada.predict(X_test)\n",
    "accuracy_score(y_test, y_pred)"
   ]
  },
  {
   "cell_type": "code",
   "execution_count": null,
   "id": "arbitrary-instrumentation",
   "metadata": {},
   "outputs": [],
   "source": []
  }
 ],
 "metadata": {
  "kernelspec": {
   "display_name": "Python 3",
   "language": "python",
   "name": "python3"
  },
  "language_info": {
   "codemirror_mode": {
    "name": "ipython",
    "version": 3
   },
   "file_extension": ".py",
   "mimetype": "text/x-python",
   "name": "python",
   "nbconvert_exporter": "python",
   "pygments_lexer": "ipython3",
   "version": "3.8.5"
  },
  "toc": {
   "base_numbering": 1,
   "nav_menu": {},
   "number_sections": true,
   "sideBar": true,
   "skip_h1_title": false,
   "title_cell": "Table of Contents",
   "title_sidebar": "Contents",
   "toc_cell": true,
   "toc_position": {},
   "toc_section_display": true,
   "toc_window_display": false
  }
 },
 "nbformat": 4,
 "nbformat_minor": 5
}
