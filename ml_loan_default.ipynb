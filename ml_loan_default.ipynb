{
 "cells": [
  {
   "cell_type": "markdown",
   "id": "impressive-density",
   "metadata": {
    "toc": true
   },
   "source": [
    "<h1>Table of Contents<span class=\"tocSkip\"></span></h1>\n",
    "<div class=\"toc\"><ul class=\"toc-item\"><li><span><a href=\"#The-Data-Source\" data-toc-modified-id=\"The-Data-Source-1\"><span class=\"toc-item-num\">1&nbsp;&nbsp;</span>The Data Source</a></span></li><li><span><a href=\"#Problem-Statement\" data-toc-modified-id=\"Problem-Statement-2\"><span class=\"toc-item-num\">2&nbsp;&nbsp;</span>Problem Statement</a></span></li><li><span><a href=\"#Data-Cleaning\" data-toc-modified-id=\"Data-Cleaning-3\"><span class=\"toc-item-num\">3&nbsp;&nbsp;</span>Data Cleaning</a></span></li><li><span><a href=\"#Explanatory-Data-Analysis\" data-toc-modified-id=\"Explanatory-Data-Analysis-4\"><span class=\"toc-item-num\">4&nbsp;&nbsp;</span>Explanatory Data Analysis</a></span><ul class=\"toc-item\"><li><span><a href=\"#Loan-Status\" data-toc-modified-id=\"Loan-Status-4.1\"><span class=\"toc-item-num\">4.1&nbsp;&nbsp;</span>Loan Status</a></span></li><li><span><a href=\"#Annual-Income\" data-toc-modified-id=\"Annual-Income-4.2\"><span class=\"toc-item-num\">4.2&nbsp;&nbsp;</span>Annual Income</a></span></li><li><span><a href=\"#Funded-Amount\" data-toc-modified-id=\"Funded-Amount-4.3\"><span class=\"toc-item-num\">4.3&nbsp;&nbsp;</span>Funded Amount</a></span></li><li><span><a href=\"#Grade\" data-toc-modified-id=\"Grade-4.4\"><span class=\"toc-item-num\">4.4&nbsp;&nbsp;</span>Grade</a></span></li><li><span><a href=\"#Interest-Rate\" data-toc-modified-id=\"Interest-Rate-4.5\"><span class=\"toc-item-num\">4.5&nbsp;&nbsp;</span>Interest Rate</a></span></li><li><span><a href=\"#Employment-History\" data-toc-modified-id=\"Employment-History-4.6\"><span class=\"toc-item-num\">4.6&nbsp;&nbsp;</span>Employment History</a></span></li><li><span><a href=\"#Term\" data-toc-modified-id=\"Term-4.7\"><span class=\"toc-item-num\">4.7&nbsp;&nbsp;</span>Term</a></span></li><li><span><a href=\"#Home-Ownership\" data-toc-modified-id=\"Home-Ownership-4.8\"><span class=\"toc-item-num\">4.8&nbsp;&nbsp;</span>Home Ownership</a></span></li><li><span><a href=\"#Purpose\" data-toc-modified-id=\"Purpose-4.9\"><span class=\"toc-item-num\">4.9&nbsp;&nbsp;</span>Purpose</a></span></li></ul></li><li><span><a href=\"#Models\" data-toc-modified-id=\"Models-5\"><span class=\"toc-item-num\">5&nbsp;&nbsp;</span>Models</a></span><ul class=\"toc-item\"><li><span><a href=\"#Set-up-modeling\" data-toc-modified-id=\"Set-up-modeling-5.1\"><span class=\"toc-item-num\">5.1&nbsp;&nbsp;</span>Set up modeling</a></span></li><li><span><a href=\"#Logistic-Regression\" data-toc-modified-id=\"Logistic-Regression-5.2\"><span class=\"toc-item-num\">5.2&nbsp;&nbsp;</span>Logistic Regression</a></span></li><li><span><a href=\"#KNeighbors\" data-toc-modified-id=\"KNeighbors-5.3\"><span class=\"toc-item-num\">5.3&nbsp;&nbsp;</span>KNeighbors</a></span></li><li><span><a href=\"#Random-Forest-Classifier\" data-toc-modified-id=\"Random-Forest-Classifier-5.4\"><span class=\"toc-item-num\">5.4&nbsp;&nbsp;</span>Random Forest Classifier</a></span></li><li><span><a href=\"#Ada-Boost\" data-toc-modified-id=\"Ada-Boost-5.5\"><span class=\"toc-item-num\">5.5&nbsp;&nbsp;</span>Ada Boost</a></span></li></ul></li></ul></div>"
   ]
  },
  {
   "cell_type": "markdown",
   "id": "behavioral-daniel",
   "metadata": {},
   "source": [
    "## The Data Source"
   ]
  },
  {
   "cell_type": "markdown",
   "id": "accurate-tours",
   "metadata": {},
   "source": [
    "Source: https://www.lendingclub.com/info/download-data.action"
   ]
  },
  {
   "cell_type": "markdown",
   "id": "intimate-housing",
   "metadata": {},
   "source": [
    "Lending Club is a peer-to-peer lending company with its headquarters in San Francisco, California.  It began by operating as an online consumer-lending platform that enables borrowers to obtain an unsecured loan that's funded by investors.  Investors are able to search and browse the loan listings on Lending Club website and select loans that they want to invest in based on the information supplied about the borrower, amount of loan, loan grade, and loan purpose. Investors make money from the interest on these loans. The loans can only be chosen at the interest rates assigned by Lending Club, but investors could decide how much to fund each borrower, with a minimum investment of $25.  Investors make money from the interest.  Lending Club makes money by charging borrowers an origination fee and investors a service fee.\n",
    "\n",
    "\n",
    "The data from LendingClub is from 2007 to 2018Q4.  It was downloaded and saved to a CSV.  We selected the features to use on this project and created a new CSV. "
   ]
  },
  {
   "cell_type": "markdown",
   "id": "middle-scene",
   "metadata": {},
   "source": [
    "## Problem Statement\n",
    "The goal, using Machine Learning models and some of the features in the data set, is to determine if a borrower will  default on their loan.\n",
    "\n",
    "What is default?  According to dictionary.com, defaulting on a loan happens when a borrower fails \"to pay back a debt according to the initial arrangement with the institution\". At Lending Club, after 120 days, a loan goes into default."
   ]
  },
  {
   "cell_type": "code",
   "execution_count": null,
   "id": "attended-shipping",
   "metadata": {},
   "outputs": [],
   "source": [
    "#import libraries\n",
    "import numpy as np\n",
    "import pandas as pd\n",
    "from nltk.corpus import stopwords\n",
    "import re\n",
    "from sklearn.preprocessing import StandardScaler\n",
    "import matplotlib.pyplot as plt\n",
    "import seaborn as sns\n",
    "\n",
    "from sklearn.model_selection import train_test_split\n",
    "from sklearn.linear_model import LogisticRegression\n",
    "\n",
    "%matplotlib inline"
   ]
  },
  {
   "cell_type": "code",
   "execution_count": null,
   "id": "experimental-executive",
   "metadata": {},
   "outputs": [],
   "source": [
    "import warnings\n",
    "warnings.simplefilter(\"ignore\", UserWarning)"
   ]
  },
  {
   "cell_type": "code",
   "execution_count": null,
   "id": "backed-surface",
   "metadata": {},
   "outputs": [],
   "source": [
    "#import the data\n",
    "loan2 = pd.read_csv('./LoanStats/loans_with_date.csv', low_memory=False)"
   ]
  },
  {
   "cell_type": "markdown",
   "id": "organizational-separation",
   "metadata": {},
   "source": [
    "There are 149 features in this data set. We streamlined the features to those important for this analysis and created a new data set.\n",
    "\n",
    "Some of the features we chose for this project are income, employment, home ownership status and interest rate.\n",
    "\n",
    "Many of the features that were eliminated from the data set.  For example, loan description and title are the same as purpose of the loan."
   ]
  },
  {
   "cell_type": "markdown",
   "id": "numerical-preserve",
   "metadata": {},
   "source": [
    "|LoanStat||Description|\n",
    "|:-:||:-:|\n",
    "|annual_inc||Annual income: annual income provided by the borrower during registration|\n",
    "|emp_length||Employment length: in years. All values are between 0 and 10 where 0 means less than one year and 10 means ten or more years|\n",
    "|funded_amnt||Funded amount: The total amount of the loan|\n",
    "|grade||Lending Club uses a system where \"A\" is the best grade and \"G\" the worst.|\n",
    "|home_ownership||The home ownership status provided by the borrower |\n",
    "|installment||Installment: is the monthly payment owed by the borrower|\n",
    "|int_rate||Interest rate on the loan|\n",
    "|loan_amnt||Loan amount: The amount of the loan applied for by the borrower. If the credit department reduces the loan amount, then it will be reflected in this value|\n",
    "|loan_status||Current status of the loan|\n",
    "|purpose||It is  provided by the borrower for the loan request|\n",
    "|term||The number of payments on the loan. Values are in months and can be either 36 or 60|\n",
    "|total_pymnt||Total payments: Payments received to date for total amount funded|"
   ]
  },
  {
   "cell_type": "markdown",
   "id": "billion-patrol",
   "metadata": {},
   "source": [
    "## Data Cleaning"
   ]
  },
  {
   "cell_type": "markdown",
   "id": "convenient-morgan",
   "metadata": {},
   "source": [
    "In this section, we will examine our data and familiarize ourselves with it.  We will identify and remove missing and duplicate values from our large data set. This is an important step because it will impact the score.  "
   ]
  },
  {
   "cell_type": "code",
   "execution_count": null,
   "id": "continuing-stations",
   "metadata": {},
   "outputs": [],
   "source": [
    "# print the first (5) rows and examine and evaluate them \n",
    "# check if there are enough observations to accurately predict an outcome\n",
    "print(f' The shape of the data is {loan2.shape}')\n",
    "loan2.head()"
   ]
  },
  {
   "cell_type": "code",
   "execution_count": null,
   "id": "musical-snowboard",
   "metadata": {},
   "outputs": [],
   "source": [
    "# removed the Unnamed Column\n",
    "loan2.drop(columns=['Unnamed: 0'], inplace=True)"
   ]
  },
  {
   "cell_type": "markdown",
   "id": "tested-decline",
   "metadata": {},
   "source": [
    "An 'object' data type stores mixed data types. Throughout our EDA (next section), they will be converted to floating point numbers because some machine learning models cannot work with them."
   ]
  },
  {
   "cell_type": "code",
   "execution_count": null,
   "id": "shaped-heath",
   "metadata": {},
   "outputs": [],
   "source": [
    "# a list of the features' data types\n",
    "loan2.dtypes"
   ]
  },
  {
   "cell_type": "markdown",
   "id": "legal-orchestra",
   "metadata": {},
   "source": [
    "Next, we will identify and remove missing values and duplicate observations from our large data set."
   ]
  },
  {
   "cell_type": "code",
   "execution_count": null,
   "id": "subject-certificate",
   "metadata": {},
   "outputs": [],
   "source": [
    "# detect the number of missing values in each feature.   \n",
    "loan2.isnull().sum()"
   ]
  },
  {
   "cell_type": "code",
   "execution_count": null,
   "id": "looking-stanley",
   "metadata": {},
   "outputs": [],
   "source": [
    "# check for duplicate rows.  (32) duplicates were removed.\n",
    "loan2.drop_duplicates()"
   ]
  },
  {
   "cell_type": "code",
   "execution_count": null,
   "id": "satellite-excitement",
   "metadata": {},
   "outputs": [],
   "source": [
    "# examine the features \n",
    "loan2.columns"
   ]
  },
  {
   "cell_type": "code",
   "execution_count": null,
   "id": "comfortable-assist",
   "metadata": {},
   "outputs": [],
   "source": [
    "# drop rows that contained null values, to avoid inaccurate result.\n",
    "loan2.dropna(inplace=True)"
   ]
  },
  {
   "cell_type": "markdown",
   "id": "precious-organization",
   "metadata": {},
   "source": [
    "## Explanatory Data Analysis"
   ]
  },
  {
   "cell_type": "markdown",
   "id": "cultural-doubt",
   "metadata": {},
   "source": [
    "### Loan Status\n",
    "\n",
    "We will examine how many loans are default status compare to the others.  Loans with default and fully paid status are our target variables.\n",
    "\n",
    "Default, for the purpose of this study, includes borrowers who are in the following categories: In Grace Period, Late(31-120 days), Charged Off and Default.\n",
    "\n",
    "Anyone who is Current doesn't matter for our analysis purposes. Current means that there is no payment due right now because the payment has already been paid.  They are neither fully paid nor default."
   ]
  },
  {
   "cell_type": "code",
   "execution_count": null,
   "id": "mathematical-publication",
   "metadata": {},
   "outputs": [],
   "source": [
    "# a look at all the values in loan status\n",
    "loan2.loan_status.value_counts()"
   ]
  },
  {
   "cell_type": "code",
   "execution_count": null,
   "id": "reserved-collect",
   "metadata": {},
   "outputs": [],
   "source": [
    "loan2.drop(loan2[loan2['loan_status']=='Does not meet the credit policy. Status:Fully Paid'].index, inplace=True)\n",
    "loan2.drop(loan2[loan2['loan_status']=='Does not meet the credit policy. Status:Charged Off'].index, inplace=True)"
   ]
  },
  {
   "cell_type": "markdown",
   "id": "prescription-macintosh",
   "metadata": {},
   "source": [
    "The code in the above cell were dropped because \"they were loans made to borrowers that did not meet Lending Club's current credit policy standards.\"\n",
    "\n",
    "https://www.lendacademy.com/policy-code-2-loans-lending-club/"
   ]
  },
  {
   "cell_type": "code",
   "execution_count": null,
   "id": "least-niger",
   "metadata": {},
   "outputs": [],
   "source": [
    "# Fully Paid = 1, Current = 2 and the remainders =  0.\n",
    "loan2['loan_status_target'] = loan2['loan_status'].map({\"Current\": 2,\n",
    " \"Fully Paid\": 1, \"In Grace Period\": 0, \"Late (16-30 days)\": 0, \n",
    "\"Late (31-120 days)\": 0, \"Charged Off\" : 0, \"Default\" : 0})"
   ]
  },
  {
   "cell_type": "code",
   "execution_count": null,
   "id": "moved-actor",
   "metadata": {},
   "outputs": [],
   "source": [
    "# Remove all loans that are Current\n",
    "# We only want to keep Default or Fully Paid\n",
    "loan2 = loan2[loan2['loan_status_target'] != 2]"
   ]
  },
  {
   "cell_type": "code",
   "execution_count": null,
   "id": "alike-ethernet",
   "metadata": {},
   "outputs": [],
   "source": [
    "# display the imbalance of our target values\n",
    "loan2.loan_status_target.value_counts(normalize=True)"
   ]
  },
  {
   "cell_type": "code",
   "execution_count": null,
   "id": "signed-council",
   "metadata": {},
   "outputs": [],
   "source": [
    "# examine the probability distribution of Fully Paid and Default\n",
    "sns.set_style('darkgrid')\n",
    "sns.countplot(data=loan2, x='loan_status_target');\n",
    "          \n",
    "plt.title('The Fully Paid and Default borrowers count in millions');"
   ]
  },
  {
   "cell_type": "markdown",
   "id": "guilty-academy",
   "metadata": {},
   "source": [
    " Establish the target variables: Default - 0, Fully Paid - 1\n"
   ]
  },
  {
   "cell_type": "code",
   "execution_count": null,
   "id": "final-little",
   "metadata": {},
   "outputs": [],
   "source": [
    "# summary statistics of Fully Paid borrowers\n",
    "loan2[loan2['loan_status_target']==1].describe()"
   ]
  },
  {
   "cell_type": "code",
   "execution_count": null,
   "id": "above-amber",
   "metadata": {},
   "outputs": [],
   "source": [
    "# summary statistics of Default borrowers\n",
    "loan2[loan2['loan_status_target']==0].describe()"
   ]
  },
  {
   "cell_type": "code",
   "execution_count": null,
   "id": "printable-haven",
   "metadata": {},
   "outputs": [],
   "source": [
    "# what is the relationship between funded amount and loan status?\n",
    "sns.boxplot(x='loan_status_target', y='funded_amnt', data=loan2);\n",
    "plt.title('The Default (0) and Fully Paid (1) borrowers');"
   ]
  },
  {
   "cell_type": "markdown",
   "id": "amateur-warner",
   "metadata": {},
   "source": [
    "**Descriptive statistics for Fully Paid and Default**"
   ]
  },
  {
   "cell_type": "markdown",
   "id": "packed-contributor",
   "metadata": {},
   "source": [
    "|Description||Fully Paid(1)||Default(0)|\n",
    "|:-:||:-:||:-:|\n",
    "|std||8_693 ||8_952|\n",
    "|min||500||900|\n",
    "|mean||14_283||16_050|\n",
    "|max||40_000||40_000|\n",
    "|75%||20_000||21_000|\n",
    "|50%||12_000||15_000|\n",
    "|25%||7_675||9_600|\n",
    "\n",
    "All the statistical values for Default are higher than Fully Paid. We examine the standard deviation and mean relationship, and noticed most of the loans are centered around the mean. More than 50% of the data is skewed upwards in Default. This could mean that those who obtain a higher loan are unable to repay.\n"
   ]
  },
  {
   "cell_type": "code",
   "execution_count": null,
   "id": "unauthorized-accent",
   "metadata": {},
   "outputs": [],
   "source": [
    "# remove loan_status was replaced with loan_status_target\n",
    "loan2.drop(columns=['loan_status'], inplace=True)"
   ]
  },
  {
   "cell_type": "markdown",
   "id": "black-september",
   "metadata": {},
   "source": [
    "### Annual Income\n",
    "We will evaluate annual income and remove outliers."
   ]
  },
  {
   "cell_type": "code",
   "execution_count": null,
   "id": "cross-france",
   "metadata": {},
   "outputs": [],
   "source": [
    "# evaluate the distribution of annual income\n",
    "loan2[['annual_inc']].describe()"
   ]
  },
  {
   "cell_type": "code",
   "execution_count": null,
   "id": "received-legislature",
   "metadata": {},
   "outputs": [],
   "source": [
    "# examine a scatterplot for further understanding of income\n",
    "plt.figure(figsize=(8,5))\n",
    "plt.scatter(loan2['annual_inc'], loan2['funded_amnt'])\n",
    "plt.title(\"Annual Income against Funded Amount\")\n",
    "plt.ylabel('Loan Value')\n",
    "plt.xlabel('Annual Income')\n",
    "plt.show()"
   ]
  },
  {
   "cell_type": "markdown",
   "id": "narrow-librarian",
   "metadata": {},
   "source": [
    "A majority of borrowers earn less than 175_000 annually.  We will compute the upper and lower limits and remove values beyond.  This procedure is done to get a balance distribution and predictions will be more accurate."
   ]
  },
  {
   "cell_type": "code",
   "execution_count": null,
   "id": "moved-pilot",
   "metadata": {},
   "outputs": [],
   "source": [
    "#calculate IQR\n",
    "Q1 = loan2.annual_inc.quantile(.25)\n",
    "Q3 = loan2.annual_inc.quantile(.75)\n",
    "IQR = Q3 - Q1"
   ]
  },
  {
   "cell_type": "code",
   "execution_count": null,
   "id": "major-spine",
   "metadata": {},
   "outputs": [],
   "source": [
    "#calculate lower limit and upper limit\n",
    "lower_limit = Q1 - 1.5 * IQR\n",
    "upper_limit = Q3 + 1.5 * IQR\n",
    "lower_limit, upper_limit"
   ]
  },
  {
   "cell_type": "code",
   "execution_count": null,
   "id": "common-equality",
   "metadata": {},
   "outputs": [],
   "source": [
    "# removed income over 161_000, a total of 60_171 data points\n",
    "loan2.drop(loan2[loan2['annual_inc'] >161000].index, inplace = True)"
   ]
  },
  {
   "cell_type": "markdown",
   "id": "efficient-shoulder",
   "metadata": {},
   "source": [
    "The minimum annual income was 32_000.  Using the lower limit in our calculation returns a negative number and someone cannot earn less than zero.  \n",
    "\n",
    "Borrowers who earn more than over 161_000 annually. We removed the values over the upper limit, 1.2% of the data set- a tiny amount. \n"
   ]
  },
  {
   "cell_type": "markdown",
   "id": "listed-worker",
   "metadata": {},
   "source": [
    "The histogram is not normally distributed. We noticed a lot of the borrowers earn income between 40k and 75k.  With the removal of upper limits, the data is skewed to the right indicating there are many borrowers with lower annual income. This imbalance will produce incorrect results, so we will use an imbalance technique before modeling."
   ]
  },
  {
   "cell_type": "code",
   "execution_count": null,
   "id": "trained-kinase",
   "metadata": {},
   "outputs": [],
   "source": [
    "#A distribution of annual income after the outliers were removed.\n",
    "plt.figure(figsize=(8,5))\n",
    "plt.hist(loan2['annual_inc'], bins=25);\n",
    "plt.xlabel('Annual Income');\n",
    "plt.ylabel('The number of borrowers')\n",
    "plt.title(\"The distribution of borrowers' Annual Income after removal\");"
   ]
  },
  {
   "cell_type": "code",
   "execution_count": null,
   "id": "charitable-subcommittee",
   "metadata": {},
   "outputs": [],
   "source": [
    "#use the values in the comparison table below\n",
    "loan2[['annual_inc']].describe()"
   ]
  },
  {
   "cell_type": "markdown",
   "id": "included-gateway",
   "metadata": {},
   "source": [
    "**Statistical values of the annual income** "
   ]
  },
  {
   "cell_type": "markdown",
   "id": "consecutive-gabriel",
   "metadata": {},
   "source": [
    "|Description||before removal||after removal|\n",
    "|:-:||:-:||:-:|\n",
    "|min||32||32|\n",
    "|max||10_999_200||161_000|\n",
    "|mean||77_977||69_780|\n",
    "|75%||93_000||88_000|\n",
    "|50%||65_000||65_000|\n",
    "|25%||48_000||4_611|\n"
   ]
  },
  {
   "cell_type": "markdown",
   "id": "thermal-array",
   "metadata": {},
   "source": [
    "Removing the outliers changed the statistical values.  Looking at the table above, all the values decreased as expected.  The 25  percentile decreased by 43_389 stating that borrowers below the mean has a wide spread in income.  The reduction in the mean and 75 percentile is in line to our expectation.\n",
    "Although removing 1000's of data points, the median value remained the same  before and after removal.  This indicates that there are many borrowers who earn 65_000 annually. "
   ]
  },
  {
   "cell_type": "markdown",
   "id": "aggregate-bronze",
   "metadata": {},
   "source": [
    "We were curious whose annual income was almost 11m.  The borrower lived in California (Newbury Park), had a loan of 5_000, with interest rate at 18.06 and employment of (1) year.  It is interesting to note that, of the top five earners, two default on their loans.  "
   ]
  },
  {
   "cell_type": "code",
   "execution_count": null,
   "id": "invisible-harvey",
   "metadata": {},
   "outputs": [],
   "source": [
    "df = loan2[loan2.annual_inc > 1000000]\n",
    "df.sort_values(by=['annual_inc','loan_status_target', 'funded_amnt'],\n",
    "               ascending=False)"
   ]
  },
  {
   "cell_type": "markdown",
   "id": "gentle-escape",
   "metadata": {},
   "source": [
    "### Funded Amount"
   ]
  },
  {
   "cell_type": "markdown",
   "id": "modern-favorite",
   "metadata": {},
   "source": [
    "Funded Amount is the value of the loan.  It is the amount that the borrower place on the application."
   ]
  },
  {
   "cell_type": "code",
   "execution_count": null,
   "id": "becoming-botswana",
   "metadata": {},
   "outputs": [],
   "source": [
    "# examine funded amount distribution\n",
    "loan2[['funded_amnt']].describe()"
   ]
  },
  {
   "cell_type": "code",
   "execution_count": null,
   "id": "religious-spell",
   "metadata": {},
   "outputs": [],
   "source": [
    "# loan distribution \n",
    "plt.figure(figsize=(8,5))\n",
    "plt.hist(loan2['funded_amnt']);\n",
    "plt.xlabel('Funded Amount');\n",
    "plt.ylabel('The number of borrowers')\n",
    "plt.title('The Distribution of Loan Amounts');"
   ]
  },
  {
   "cell_type": "code",
   "execution_count": null,
   "id": "distributed-rendering",
   "metadata": {},
   "outputs": [],
   "source": [
    "# scatter plot to examine the loan amount and monthly repayment\n",
    "plt.scatter(loan2['funded_amnt'], loan2['installment']);\n",
    "plt.title('The Fully Paid (1) and Default (0) borrowers');\n",
    "plt.xlabel('Funded Amount');\n",
    "plt.ylabel('Monthly installment payment');"
   ]
  },
  {
   "cell_type": "markdown",
   "id": "editorial-manitoba",
   "metadata": {},
   "source": [
    "The histogram shows that loans issued are skewed to the right.  The minimum loan issued was 500, the maximum was 40_000 and the median at 12_000.\n",
    "This means median borrowers' whose annual income were 65_000 were issued loans at 12_000.  Assuming the borrowers have no other debt, the debt--in-income ratio is 18.4% (12000/65000).  No wonder borrowers default on their loans."
   ]
  },
  {
   "cell_type": "markdown",
   "id": "modular-headline",
   "metadata": {},
   "source": [
    "Lending Club uses an amortization formula(see below) which applies to both their borrowers and investors. This formula is the reason there is a line.  \n",
    "A person with a lower loan amount would pay less than one at a higher loan. There are some borrowers with exceptional grade whose installment payment are further below the line. \n",
    "\n",
    "If a borrower for an unsecured loan at 40,000 with high interest rate, month installment of 1750 and debt to income ratio high (as calculated above), can contribute to default loan. \n",
    "\n",
    "- Amortization = (r/n)*P / 1 - (1 + (r/n))^-nt\n",
    "- where r - interest rate, P - principal amount, n - number of months in a year, t - number of years to repay (36,60 months)\n",
    "\n",
    "https://www.youtube.com/watch?v=FJqt8F5NB10"
   ]
  },
  {
   "cell_type": "markdown",
   "id": "mechanical-cooler",
   "metadata": {},
   "source": [
    "### Grade"
   ]
  },
  {
   "cell_type": "markdown",
   "id": "mathematical-visibility",
   "metadata": {},
   "source": [
    "\"Lending Club uses a formula for their loan grade system that takes into account not only credit score, but also a combination of several indicators of credit risk from the credit report application. A rate of \"A\" is the highest with a value of 7 and \"G\" the lowest with a value of 1.\"\n",
    "https://www.lendingclub.com/foliofn/rateDetail.action"
   ]
  },
  {
   "cell_type": "code",
   "execution_count": null,
   "id": "alien-jamaica",
   "metadata": {},
   "outputs": [],
   "source": [
    "# examine each categories\n",
    "loan2['grade'].value_counts()"
   ]
  },
  {
   "cell_type": "code",
   "execution_count": null,
   "id": "intellectual-armstrong",
   "metadata": {},
   "outputs": [],
   "source": [
    "sns.countplot(data=loan2, x='grade', \n",
    "              hue='loan_status_target',\n",
    "             order=['A', 'B', 'C', 'D', 'E', 'F', 'G']);  \n",
    "plt.title('The Target variables against grade');"
   ]
  },
  {
   "cell_type": "markdown",
   "id": "medical-agriculture",
   "metadata": {},
   "source": [
    "Each grade have defaulted loans, with \"C\" being the highest.  It is a no surprise because because \"C\" interest rate maybe 8-11%, and Lending Club add their base rate of 5%.  \n",
    "\n",
    "According to moneycheck.com, Lending Club debt-to-ratio no more than 45% and minimum credit score of 600.  It is as if Lending Club is setting some of their borrowers to default on their loans."
   ]
  },
  {
   "cell_type": "code",
   "execution_count": null,
   "id": "organizational-bankruptcy",
   "metadata": {},
   "outputs": [],
   "source": [
    "# changing the grade from letters to numbers so we can use it in modeling\n",
    "loan2['grade_clean'] = loan2['grade'].map({\"A\": 7,\n",
    "                                    \"B\": 6, \"C\": 5, \"D\":4,\n",
    "                                    \"E\":3, \"F\":2, \"G\": 1})"
   ]
  },
  {
   "cell_type": "markdown",
   "id": "productive-cedar",
   "metadata": {},
   "source": [
    "### Interest Rate\n",
    "\n",
    "Lending Club interest rates take in its calculation a borrower's credit score and market condition."
   ]
  },
  {
   "cell_type": "code",
   "execution_count": null,
   "id": "quantitative-blowing",
   "metadata": {},
   "outputs": [],
   "source": [
    "# examine interest rate distribution\n",
    "# how high is the interest rate?\n",
    "loan2['int_rate'].describe()"
   ]
  },
  {
   "cell_type": "markdown",
   "id": "atlantic-boundary",
   "metadata": {},
   "source": [
    "The maximum interest rate was 30.9%, the lowest at 5.3% and median at 12.85%.  The lowest and median interest applies to those with good grade while the higher amounts to those with worst grade."
   ]
  },
  {
   "cell_type": "code",
   "execution_count": null,
   "id": "lovely-association",
   "metadata": {},
   "outputs": [],
   "source": [
    "# where there loans issued for more than 20% interest rate?\n",
    "loan2[loan2['int_rate']>20]['loan_status_target'].value_counts(normalize=True)"
   ]
  },
  {
   "cell_type": "code",
   "execution_count": null,
   "id": "vanilla-token",
   "metadata": {},
   "outputs": [],
   "source": [
    "# # a visual of the distribution\n",
    "plt.figure(figsize=(8,5))\n",
    "plt.hist(loan2['int_rate'], bins=20, edgecolor='black');\n",
    "plt.xlabel('Interest Rate');\n",
    "plt.ylabel('The number of borrowers')\n",
    "plt.title(\"The distribution of borrowers' Interest Rate\");"
   ]
  },
  {
   "cell_type": "markdown",
   "id": "irish-dollar",
   "metadata": {},
   "source": [
    "43% of Default borrowers had interest rate at 20% or greater at median income of 65_000 annually and debt-to-income ratio starting at 18.5%, no wonder borrowers default."
   ]
  },
  {
   "cell_type": "code",
   "execution_count": null,
   "id": "published-economics",
   "metadata": {},
   "outputs": [],
   "source": [
    "#sns.countplot(data=loan2, x='int_rate', hue='loan_status_target');"
   ]
  },
  {
   "cell_type": "code",
   "execution_count": null,
   "id": "ceramic-distribution",
   "metadata": {},
   "outputs": [],
   "source": [
    "# is there a relationship between grade and interest rate?\n",
    "interest_by_grade=loan2[['int_rate','grade']].groupby('grade').mean()\n",
    "plt.bar(x=interest_by_grade.index,height=interest_by_grade['int_rate'])\n",
    "plt.title('Interest Rate Vs. Grade');\n",
    "plt.xlabel('Grade');\n",
    "plt.ylabel('Interest Rate');"
   ]
  },
  {
   "cell_type": "markdown",
   "id": "stock-ridge",
   "metadata": {},
   "source": [
    "We have learned so far, a borrower grade determines the interest rate, were were not surprise to a linear connection between grade and interest rate. The riskier the grade, the interest rate is higher."
   ]
  },
  {
   "cell_type": "markdown",
   "id": "preceding-effect",
   "metadata": {},
   "source": [
    "### Employment History"
   ]
  },
  {
   "cell_type": "markdown",
   "id": "bearing-hepatitis",
   "metadata": {},
   "source": [
    "The length of employment feature was an object that contained strings, n/a, <, >, which were removed then it was convert to numeric."
   ]
  },
  {
   "cell_type": "code",
   "execution_count": null,
   "id": "built-specification",
   "metadata": {},
   "outputs": [],
   "source": [
    "# remove the strings and symbols\n",
    "loan2['emp_length'] = loan2['emp_length'].map({'10+ years': 10, '9 years' : 9,\n",
    "                                               '8 years': 8, \n",
    "                                              '7 years': 7,\n",
    "                                              '6 years': 6,\n",
    "                                              '5 years': 5,\n",
    "                                              '4 years': 4,\n",
    "                                              '3 years': 3,\n",
    "                                              '2 years': 2,\n",
    "                                              '1 year': 1, \n",
    "                                              '< year': 0})"
   ]
  },
  {
   "cell_type": "code",
   "execution_count": null,
   "id": "passing-scholar",
   "metadata": {},
   "outputs": [],
   "source": [
    "# some algorithm do not accept NaN's\n",
    "loan2['emp_length'] = loan2['emp_length'].fillna(0)"
   ]
  },
  {
   "cell_type": "code",
   "execution_count": null,
   "id": "mature-exploration",
   "metadata": {},
   "outputs": [],
   "source": [
    "# evaluate length of employment\n",
    "loan2.emp_length.value_counts(normalize=True)"
   ]
  },
  {
   "cell_type": "code",
   "execution_count": null,
   "id": "noble-outreach",
   "metadata": {},
   "outputs": [],
   "source": [
    "plt.hist(loan2['emp_length']);\n",
    "plt.xticks(rotation=45)\n",
    "plt.xlabel('Years of Employment');\n",
    "plt.ylabel('# of borrowers');\n",
    "plt.title('Length of Employment for Borrowers');"
   ]
  },
  {
   "cell_type": "markdown",
   "id": "balanced-oracle",
   "metadata": {},
   "source": [
    "10 years is large because it includes employment of 10 years and beyond.  There were 8% of the borrowers with 0 years of employment.  How can a person with 0 years employment obtain a loan?"
   ]
  },
  {
   "cell_type": "code",
   "execution_count": null,
   "id": "together-custom",
   "metadata": {},
   "outputs": [],
   "source": [
    "plt.figure(figsize=(6,5))\n",
    "sns.histplot(data=loan2, x='emp_length',  \n",
    "             hue='loan_status_target');\n",
    "plt.title ('Length of Employment and Loan Status')"
   ]
  },
  {
   "cell_type": "markdown",
   "id": "alike-discount",
   "metadata": {},
   "source": [
    "There does not seem to be a connection between employment length and default rate.  We noticed that employment length of 0 and 1 have high default rates.  Employment length of 10 has the largest default rate because this group consist of those borrowers who have been employed more than 10 years."
   ]
  },
  {
   "cell_type": "code",
   "execution_count": null,
   "id": "accurate-perth",
   "metadata": {},
   "outputs": [],
   "source": [
    "TenYears = loan2[loan2.emp_length == 10.0].copy()\n",
    "Total = TenYears[\"funded_amnt\"].count()\n",
    "TotalDefaulted = TenYears[\"funded_amnt\"][TenYears.loan_status_target == 0].count()\n",
    "\n"
   ]
  },
  {
   "cell_type": "code",
   "execution_count": null,
   "id": "swedish-julian",
   "metadata": {},
   "outputs": [],
   "source": [
    "#TenYears.head(20)\n",
    "TotalDefaulted\n",
    "#Total\n",
    "print(TotalDefaulted/Total)"
   ]
  },
  {
   "cell_type": "code",
   "execution_count": null,
   "id": "institutional-device",
   "metadata": {},
   "outputs": [],
   "source": [
    "loan2[loan2.annual_inc > 1000000]"
   ]
  },
  {
   "cell_type": "markdown",
   "id": "loose-recording",
   "metadata": {},
   "source": [
    "### Term"
   ]
  },
  {
   "cell_type": "code",
   "execution_count": null,
   "id": "circular-small",
   "metadata": {},
   "outputs": [],
   "source": [
    "#distribution of loan by terms, loan status\n",
    "loan2.term.value_counts(normalize=True)"
   ]
  },
  {
   "cell_type": "code",
   "execution_count": null,
   "id": "cultural-defendant",
   "metadata": {},
   "outputs": [],
   "source": [
    "sns.countplot(data=loan2, x='term', hue='loan_status_target');"
   ]
  },
  {
   "cell_type": "markdown",
   "id": "blank-capability",
   "metadata": {},
   "source": [
    "### Home Ownership"
   ]
  },
  {
   "cell_type": "code",
   "execution_count": null,
   "id": "retained-venezuela",
   "metadata": {},
   "outputs": [],
   "source": [
    "loan2['home_ownership'].value_counts()"
   ]
  },
  {
   "cell_type": "markdown",
   "id": "alike-yesterday",
   "metadata": {},
   "source": [
    "ANY, OTHER, NONE total to less than 1% of the data so we decided to remove them and prevent \"noise\" they may cause in modeling."
   ]
  },
  {
   "cell_type": "code",
   "execution_count": null,
   "id": "seven-newman",
   "metadata": {},
   "outputs": [],
   "source": [
    "loan2.drop(loan2[loan2['home_ownership']=='ANY'].index, inplace=True)\n",
    "loan2.drop(loan2[loan2['home_ownership']=='OTHER'].index, inplace=True)\n",
    "loan2.drop(loan2[loan2['home_ownership']=='NONE'].index, inplace=True)"
   ]
  },
  {
   "cell_type": "code",
   "execution_count": null,
   "id": "norman-ghost",
   "metadata": {},
   "outputs": [],
   "source": [
    "loan2['home_ownership_clean'] = loan2['home_ownership'].map({\"MORTGAGE\": 1,\n",
    "                                    \"RENT\": 3, \"OWN\": 2 })"
   ]
  },
  {
   "cell_type": "code",
   "execution_count": null,
   "id": "homeless-heath",
   "metadata": {},
   "outputs": [],
   "source": [
    "sns.countplot(x='home_ownership',hue='loan_status_target',\n",
    "              data=loan2);"
   ]
  },
  {
   "cell_type": "markdown",
   "id": "powered-norfolk",
   "metadata": {},
   "source": [
    "### Purpose\n"
   ]
  },
  {
   "cell_type": "code",
   "execution_count": null,
   "id": "automotive-least",
   "metadata": {},
   "outputs": [],
   "source": [
    "# What are the most common reasons for requesting a loan?\n",
    "loan2['purpose'].value_counts(normalize=True)"
   ]
  },
  {
   "cell_type": "code",
   "execution_count": null,
   "id": "oriented-diversity",
   "metadata": {},
   "outputs": [],
   "source": [
    "plt.figure(figsize=(11,7))\n",
    "sns.countplot(x='purpose',hue='loan_status_target',\n",
    "              data=loan2, palette='Set1');\n",
    "plt.xticks(rotation=70);\n",
    "plt.title('Purpose of the loan with Loan Status');"
   ]
  },
  {
   "cell_type": "code",
   "execution_count": null,
   "id": "elegant-bidder",
   "metadata": {},
   "outputs": [],
   "source": [
    "# remove grade and home ownership were replaced with grade_clean, home_ownership_clean\n",
    "loan2.drop(columns=['grade', 'home_ownership'], inplace=True)"
   ]
  },
  {
   "cell_type": "code",
   "execution_count": null,
   "id": "marine-wellington",
   "metadata": {},
   "outputs": [],
   "source": [
    "loan2.to_csv('./LoanStats/loan_model.csv')"
   ]
  },
  {
   "cell_type": "markdown",
   "id": "hundred-gravity",
   "metadata": {},
   "source": [
    "## Models"
   ]
  },
  {
   "cell_type": "code",
   "execution_count": null,
   "id": "legitimate-percentage",
   "metadata": {},
   "outputs": [],
   "source": [
    "model = pd.read_csv('./LoanStats/loan_model.csv')"
   ]
  },
  {
   "cell_type": "code",
   "execution_count": null,
   "id": "other-swaziland",
   "metadata": {},
   "outputs": [],
   "source": [
    "# removed the Unnamed Column\n",
    "model.drop(columns=['Unnamed: 0'], inplace=True)"
   ]
  },
  {
   "cell_type": "code",
   "execution_count": null,
   "id": "scheduled-notice",
   "metadata": {},
   "outputs": [],
   "source": [
    "from sklearn.neighbors import KNeighborsClassifier\n",
    "from sklearn.model_selection import train_test_split, KFold, cross_val_score, cross_val_predict, GridSearchCV\n",
    "from sklearn.linear_model import LogisticRegression\n",
    "from sklearn.ensemble import RandomForestClassifier, ExtraTreesClassifier, AdaBoostClassifier\n",
    "from sklearn.metrics import accuracy_score, confusion_matrix, plot_confusion_matrix, recall_score, classification_report\n",
    "import sklearn.metrics as metrics\n",
    "from sklearn.svm import SVC\n",
    "from sklearn.pipeline import Pipeline\n",
    "from sklearn.tree import DecisionTreeClassifier"
   ]
  },
  {
   "cell_type": "code",
   "execution_count": null,
   "id": "defensive-premiere",
   "metadata": {},
   "outputs": [],
   "source": [
    "# https://www.programcreek.com/python/example/81623/sklearn.metrics.classification_report\n",
    "def train_evaluate(algo, X_train, X_test, y_train, y_test):\n",
    "    \n",
    "    algo.fit(X_train, y_train)\n",
    "    \n",
    "    print (\"Accuracy on training set:\")\n",
    "    print (algo.score(X_train, y_train))\n",
    "    print (\"Accuracy on testing set:\")\n",
    "    print (algo.score(X_test, y_test))\n",
    "    \n",
    "    y_pred = algo.predict(X_test)\n",
    "    print (\"Classification Report:\")\n",
    "    print (classification_report(y_test, y_pred))\n",
    "    print (\"Confusion Matrix:\")\n",
    "    print (confusion_matrix(y_test, y_pred))\n",
    "\n",
    "    plt.figure(figsize=(12, 9));\n",
    "\n",
    "    plot_confusion_matrix(algo, X_test, y_test, \n",
    "                          cmap='Blues');\n",
    "    plt.title(f'Confusion matrix using {algo.__class__.__name__}');\n",
    "    "
   ]
  },
  {
   "cell_type": "markdown",
   "id": "technological-swedish",
   "metadata": {},
   "source": [
    "### Set up modeling"
   ]
  },
  {
   "cell_type": "code",
   "execution_count": null,
   "id": "critical-correction",
   "metadata": {},
   "outputs": [],
   "source": [
    "# identify X and y features\n",
    "X = model[['funded_amnt', 'emp_length', 'annual_inc', 'int_rate', \n",
    "            'installment', 'total_pymnt','grade_clean']]\n",
    "y = model['loan_status_target']"
   ]
  },
  {
   "cell_type": "markdown",
   "id": "moved-tulsa",
   "metadata": {},
   "source": [
    "The baseline values of the target variables."
   ]
  },
  {
   "cell_type": "code",
   "execution_count": null,
   "id": "specialized-monday",
   "metadata": {},
   "outputs": [],
   "source": [
    "y.value_counts(normalize=True)"
   ]
  },
  {
   "cell_type": "markdown",
   "id": "recent-office",
   "metadata": {},
   "source": [
    "The data was split 75% train and 25% testing."
   ]
  },
  {
   "cell_type": "code",
   "execution_count": null,
   "id": "extended-washer",
   "metadata": {},
   "outputs": [],
   "source": [
    "# split the data to perform training on train and then test for predicition\n",
    "X_train, X_test, y_train, y_test = train_test_split(X, y, test_size=0.25, random_state=42)"
   ]
  },
  {
   "cell_type": "code",
   "execution_count": null,
   "id": "damaged-pittsburgh",
   "metadata": {},
   "outputs": [],
   "source": [
    "#ss = StandardScaler()\n",
    "#X_train = ss.fit_transform(X_train)\n",
    "#X_test = ss.transform(X_test)"
   ]
  },
  {
   "cell_type": "code",
   "execution_count": null,
   "id": "african-berry",
   "metadata": {},
   "outputs": [],
   "source": [
    "# verify the shape of the data\n",
    "print('X train: ',X_train.shape)\n",
    "print('y train: ',y_train.shape)\n",
    "print()\n",
    "print('X test: ',X_test.shape)\n",
    "print('y test: ',y_test.shape)"
   ]
  },
  {
   "cell_type": "markdown",
   "id": "adult-wildlife",
   "metadata": {},
   "source": [
    "### Logistic Regression"
   ]
  },
  {
   "cell_type": "markdown",
   "id": "laden-premises",
   "metadata": {},
   "source": [
    "Logistic Regression is chosen as one of the models because it is used to predict a single outcome.  Since we are trying to predict if someone will default or not, that makes this is a good algorithm for this problem.\n",
    "\n",
    "In our dataset there is a defined relationship between the features and the outcome.\n",
    "\n",
    "I did not use sag or saga solvers because the features are not of similar scale. I removed the outliers to help improve model performance. My dataset also does not have high correlation between each feature. \n",
    "\n",
    "Parameters:\n",
    "- class_weight: How to handle imbalance across features\n",
    "- solver: tested all of them to see which performs best\n",
    "- max_iter: the maximum number of iterations to get a solution (at max and no match it will stop)\n",
    "- C: Smaller values have more regularization. Inverse of regularization strength. Must be positive value. Search logarithmically: [.1, 1, 10]"
   ]
  },
  {
   "cell_type": "code",
   "execution_count": null,
   "id": "packed-error",
   "metadata": {},
   "outputs": [],
   "source": [
    "# https://towardsdatascience.com/dont-sweat-the-solver-stuff-aea7cddc3451\n",
    "\n",
    "solver_list = ['newton-cg', 'saga', 'liblinear']\n",
    "\n",
    "gs_params = {\n",
    "    'solver' : solver_list,\n",
    "    'C' : [.1, 1, 10],\n",
    "    'max_iter': [50, 100, 150],\n",
    "    'class_weight' : [None, 'balanced']\n",
    "}\n",
    "\n",
    "log_reg = LogisticRegression(n_jobs=-1, random_state=42)\n",
    "clf = GridSearchCV(log_reg, gs_params, cv=5)\n",
    "clf.fit(X_train, y_train)\n",
    "scores = clf.cv_results_['mean_test_score']\n"
   ]
  },
  {
   "cell_type": "code",
   "execution_count": null,
   "id": "lesser-ethiopia",
   "metadata": {},
   "outputs": [],
   "source": [
    "for score, solver in zip(scores, solver_list):\n",
    "    print(f\"  {solver} {score:.3f}\" )\n",
    "\n",
    "print(clf.best_score_)\n",
    "print(clf.best_params_)"
   ]
  },
  {
   "cell_type": "code",
   "execution_count": null,
   "id": "pleasant-throw",
   "metadata": {},
   "outputs": [],
   "source": [
    "# instantiate the model\n",
    "logreg = LogisticRegression(**clf.best_params_)\n"
   ]
  },
  {
   "cell_type": "code",
   "execution_count": null,
   "id": "spatial-diary",
   "metadata": {},
   "outputs": [],
   "source": [
    "train_evaluate(logreg, X_train, X_test, y_train, y_test)"
   ]
  },
  {
   "cell_type": "markdown",
   "id": "black-anatomy",
   "metadata": {},
   "source": [
    "Result: \n",
    "- The results of the train and test data have accuracy score of .96.  Precision score for both variables predict an average of .98 correctly a borrower will default.    \n",
    "- There does appear to be an overfitting in the recall score because Fully Paid is perfect and Default is .87. \n",
    "- the False Negative result from the Confusion Matrix is concerning because it states 8415 borrowers will default when they may been a Fully Paid one.  "
   ]
  },
  {
   "cell_type": "markdown",
   "id": "clinical-twist",
   "metadata": {},
   "source": [
    "### KNeighbors"
   ]
  },
  {
   "cell_type": "markdown",
   "id": "resistant-glossary",
   "metadata": {},
   "source": [
    "KNeighbors is one of the simplest and a very popular algorithm.  It calculates the distance neighbors(data points),K. The higher the K, the better the accuracy score. \n",
    "The metric use is accuracy.  \n",
    "\n",
    "The dataset is large, we decided to use n_neighbors=7.  It is best to use an odd number for n_neighbors. kd_tree is a combination of Decision Tree and KNN. It splits the regions at the mean value of the observations calculating X and Y coordinates, then continue to do until there is one region.   The leaf size increased because the data is imbalanced."
   ]
  },
  {
   "cell_type": "code",
   "execution_count": null,
   "id": "unusual-tumor",
   "metadata": {},
   "outputs": [],
   "source": [
    "# # instantiate the model\n",
    "knn = KNeighborsClassifier(n_neighbors=7, weights='distance',\n",
    "                          n_jobs=-1, algorithm='kd_tree',\n",
    "                          leaf_size=500)"
   ]
  },
  {
   "cell_type": "code",
   "execution_count": null,
   "id": "affected-texture",
   "metadata": {},
   "outputs": [],
   "source": [
    "train_evaluate(knn, X_train, X_test, y_train, y_test)"
   ]
  },
  {
   "cell_type": "markdown",
   "id": "intellectual-charter",
   "metadata": {},
   "source": [
    "Result: \n",
    "- The accuracy score for the train and test data shows that there is overfitting.  We increased the leaf_size from 400 to 500 to correct the overfit and it improved a great deal.\n",
    "- The model was able to identify Fully Paid borrowers 98%  while it had a difficult time with Default.  \n",
    "- The misclassification values for KNN are much lower than that of Logistic Regression."
   ]
  },
  {
   "cell_type": "markdown",
   "id": "quarterly-supplement",
   "metadata": {},
   "source": [
    "### Random Forest Classifier"
   ]
  },
  {
   "cell_type": "markdown",
   "id": "animal-complex",
   "metadata": {},
   "source": [
    "Random Forest does not have any assumptions like Logistic Regression.  It is a forest of individual trees, trained on different subset of the train data, with its own predictions and the predictions that is the majority becomes the model's prediction - usually a high accuracy score. \n",
    "Since we have a large data, we will use the following hyperparameters:\n",
    "\n",
    "- min_samples_split since we have 16 features we will try sqrt(features), 1/3 features, and 1/2 features\n",
    "- max_depth ranges were chosen based upon the number of features.  I did not have time to determine better ranges for effective max_depth.  I relied on the GridSearch to work through all of them.\n",
    "- n_estimators to increase the number of estimators up to 200.  Normally performance increases with more, but we want to validate that assumption.\n",
    "- max_features will take a random subset of the square root of the features to find the best split, we also try log2 of feature set\n",
    "- max_samples helps to choose the maximum number of samples from the training set to train each individual sample.  \n",
    "\n",
    "[How to fine tune Random Forest](https://towardsdatascience.com/random-forest-hyperparameters-and-how-to-fine-tune-them-17aee785ee0d)\n",
    "\n",
    "[Hyperparamter Tuning Random Forest](https://www.analyticsvidhya.com/blog/2020/03/beginners-guide-random-forest-hyperparameter-tuning/)"
   ]
  },
  {
   "cell_type": "code",
   "execution_count": null,
   "id": "operational-steps",
   "metadata": {},
   "outputs": [],
   "source": [
    "gs_params = {\n",
    "    'n_estimators' : (50, 100, 200),\n",
    "    'criterion' : ('gini', 'entropy') ,\n",
    "    'max_features' : ( 'auto', 'log2'),\n",
    "    'max_depth' : (16,32,64,None),\n",
    "    'min_samples_split' : (4, 5, 8),\n",
    "}\n",
    "\n",
    "rfc = RandomForestClassifier(n_jobs=-1)\n",
    "clf = GridSearchCV(rfc, gs_params, cv=5)\n",
    "clf.fit(X_train, y_train)\n",
    "scores = clf.cv_results_['mean_test_score']\n"
   ]
  },
  {
   "cell_type": "code",
   "execution_count": null,
   "id": "outer-korean",
   "metadata": {},
   "outputs": [],
   "source": [
    "print(clf.best_score_)\n",
    "print(clf.best_params_)\n"
   ]
  },
  {
   "cell_type": "code",
   "execution_count": null,
   "id": "blessed-camcorder",
   "metadata": {},
   "outputs": [],
   "source": [
    "# instantiate the model using best params from search above\n",
    "rfc = RandomForestClassifier(**clf.best_params_)\n"
   ]
  },
  {
   "cell_type": "code",
   "execution_count": null,
   "id": "fluid-welding",
   "metadata": {},
   "outputs": [],
   "source": [
    "# Output our findings using function above\n",
    "train_evaluate(rfc, X_train, X_test, y_train, y_test)\n"
   ]
  },
  {
   "cell_type": "markdown",
   "id": "organizational-concentration",
   "metadata": {},
   "source": [
    "### Ada Boost"
   ]
  },
  {
   "cell_type": "code",
   "execution_count": null,
   "id": "western-salvation",
   "metadata": {},
   "outputs": [],
   "source": [
    "ada = AdaBoostClassifier()\n",
    "\n",
    "ada_params = {\n",
    "    'n_estimators': [50,100],\n",
    "    'learning_rate': [.6, 1.0] \n",
    "}\n",
    "\n",
    "gs_ada = GridSearchCV(ada, param_grid=ada_params, n_jobs=-1, cv=3)\n",
    "gs_ada.fit(X_train, y_train)\n",
    "scores = gs_ada.cv_results_['mean_test_score']\n",
    "print(gs_ada.best_score_)\n",
    "print(gs_ada.best_params_)"
   ]
  },
  {
   "cell_type": "code",
   "execution_count": null,
   "id": "young-tuesday",
   "metadata": {},
   "outputs": [],
   "source": [
    "ada = AdaBoostClassifier(**gs_ada.best_params_)"
   ]
  },
  {
   "cell_type": "code",
   "execution_count": null,
   "id": "median-niagara",
   "metadata": {},
   "outputs": [],
   "source": [
    "train_evaluate(ada, X_train, X_test, y_train, y_test)"
   ]
  },
  {
   "cell_type": "code",
   "execution_count": null,
   "id": "proud-omega",
   "metadata": {},
   "outputs": [],
   "source": [
    "result_train=cross_val_score(ada,X_train,y_train,cv=10,scoring='accuracy')\n",
    "result_test=cross_val_score(ada,X_test,y_test,cv=10,scoring='accuracy')\n",
    "\n",
    "#printing the scores\n",
    "print('The training score for cross validation for AdaBoost is:',result_train.max())\n",
    "print('The cross validated score for cross validation for AdaBoost is:',result_test.max())"
   ]
  }
 ],
 "metadata": {
  "kernelspec": {
   "display_name": "Python 3",
   "language": "python",
   "name": "python3"
  },
  "language_info": {
   "codemirror_mode": {
    "name": "ipython",
    "version": 3
   },
   "file_extension": ".py",
   "mimetype": "text/x-python",
   "name": "python",
   "nbconvert_exporter": "python",
   "pygments_lexer": "ipython3",
   "version": "3.8.5"
  },
  "toc": {
   "base_numbering": 1,
   "nav_menu": {},
   "number_sections": true,
   "sideBar": true,
   "skip_h1_title": false,
   "title_cell": "Table of Contents",
   "title_sidebar": "Contents",
   "toc_cell": true,
   "toc_position": {},
   "toc_section_display": true,
   "toc_window_display": false
  }
 },
 "nbformat": 4,
 "nbformat_minor": 5
}
