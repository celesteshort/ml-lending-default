{
 "cells": [
  {
   "cell_type": "markdown",
   "id": "biological-mailing",
   "metadata": {
    "toc": true
   },
   "source": [
    "<h1>Table of Contents<span class=\"tocSkip\"></span></h1>\n",
    "<div class=\"toc\"><ul class=\"toc-item\"></ul></div>"
   ]
  },
  {
   "cell_type": "code",
   "execution_count": null,
   "id": "excessive-pavilion",
   "metadata": {},
   "outputs": [],
   "source": []
  },
  {
   "cell_type": "code",
   "execution_count": null,
   "id": "postal-property",
   "metadata": {},
   "outputs": [],
   "source": []
  },
  {
   "cell_type": "code",
   "execution_count": null,
   "id": "digital-approval",
   "metadata": {},
   "outputs": [],
   "source": []
  },
  {
   "cell_type": "code",
   "execution_count": null,
   "id": "norman-crime",
   "metadata": {},
   "outputs": [],
   "source": []
  },
  {
   "cell_type": "code",
   "execution_count": null,
   "id": "increased-municipality",
   "metadata": {},
   "outputs": [],
   "source": []
  },
  {
   "cell_type": "code",
   "execution_count": null,
   "id": "amazing-importance",
   "metadata": {},
   "outputs": [],
   "source": []
  },
  {
   "cell_type": "markdown",
   "id": "manual-insulin",
   "metadata": {},
   "source": []
  },
  {
   "cell_type": "markdown",
   "id": "nonprofit-charter",
   "metadata": {},
   "source": [
    "Quartiles divides the data set into four groups with 25% of the values in each group. Throughout this notebook, we will mention statistical values. They are:\n",
    "mean: is measured by taking add all the data values and divide by the total number of data values\n",
    "median: is the value that is in the middle of the data set\n",
    "min: the lowest value\n",
    "max: the highest value\n",
    "std: its measures how far a data point is from the mean\n",
    "25%: the sorted values of the bottom 25%\n",
    "75%: the sorted values of the top 25%"
   ]
  },
  {
   "cell_type": "markdown",
   "id": "experimental-protest",
   "metadata": {},
   "source": []
  },
  {
   "cell_type": "code",
   "execution_count": null,
   "id": "compound-stadium",
   "metadata": {},
   "outputs": [],
   "source": []
  },
  {
   "cell_type": "code",
   "execution_count": null,
   "id": "ideal-restriction",
   "metadata": {},
   "outputs": [],
   "source": []
  },
  {
   "cell_type": "code",
   "execution_count": null,
   "id": "aggregate-province",
   "metadata": {},
   "outputs": [],
   "source": []
  },
  {
   "cell_type": "markdown",
   "id": "imperial-filter",
   "metadata": {},
   "source": [
    "removed below from notebook:"
   ]
  },
  {
   "cell_type": "markdown",
   "id": "restricted-keyboard",
   "metadata": {},
   "source": []
  },
  {
   "cell_type": "markdown",
   "id": "micro-honduras",
   "metadata": {},
   "source": [
    "While working through this feature loan_status_1 was created,which houses the Fully Paid and Default values from loan_status.  Since it is no longer needed in evaluation, it was removed from the dataset."
   ]
  },
  {
   "cell_type": "markdown",
   "id": "threaded-johnson",
   "metadata": {},
   "source": [
    "In the modeling stage, we will correct the imbalance of the target variables by using balancing SMOTE."
   ]
  },
  {
   "cell_type": "code",
   "execution_count": null,
   "id": "completed-refrigerator",
   "metadata": {},
   "outputs": [],
   "source": [
    "#### Return on Investment (ROI)\n",
    "ROI = total_pymnt (amount returned by the borrower)/funded_amnt"
   ]
  },
  {
   "cell_type": "code",
   "execution_count": null,
   "id": "plastic-wholesale",
   "metadata": {},
   "outputs": [],
   "source": [
    "roi=loan2[['total_pymnt','funded_amnt','loan_status_1','grade']]\n",
    "roi1=(roi['total_pymnt'].sum()/roi['funded_amnt'].sum()-1)*100\n",
    "print(\"ROI:\",round(roi1,2))"
   ]
  },
  {
   "cell_type": "code",
   "execution_count": null,
   "id": "indian-gateway",
   "metadata": {},
   "outputs": [],
   "source": [
    "roi2=roi.groupby('grade').sum()\n",
    "ROI_by_grade=roi2['total_pymnt']/roi2['funded_amnt'] -1\n",
    "ROI_by_grade"
   ]
  },
  {
   "cell_type": "code",
   "execution_count": null,
   "id": "billion-savage",
   "metadata": {},
   "outputs": [],
   "source": [
    "roi=loan2[loan2['loan_status_1']==1][['total_pymnt','funded_amnt','loan_status','grade']]\n",
    "roi1=(roi['total_pymnt'].sum()/roi['funded_amnt'].sum()-1)*100\n",
    "print(\"ROI for fully paid loans:\",round(roi1,2))"
   ]
  },
  {
   "cell_type": "code",
   "execution_count": null,
   "id": "younger-cache",
   "metadata": {},
   "outputs": [],
   "source": [
    "roi2=roi.groupby('grade').sum()\n",
    "fully_paid_ROI_by_grade=roi2['total_pymnt']/roi2['funded_amnt'] -1\n",
    "fully_paid_ROI_by_grade"
   ]
  },
  {
   "cell_type": "markdown",
   "id": "native-percentage",
   "metadata": {},
   "source": [
    "4.5.2  Notes:\n",
    "Total ROI is in negative as we are considering defaulted records also. As defaulted records generally have higher loan amounts, it moves overall ROI to negative side. For riskier grades, overall ROI (incl. defaulted loans) decreases. If we consider fully paid loans, then ROI is more for riskier grades."
   ]
  }
 ],
 "metadata": {
  "kernelspec": {
   "display_name": "Python 3",
   "language": "python",
   "name": "python3"
  },
  "language_info": {
   "codemirror_mode": {
    "name": "ipython",
    "version": 3
   },
   "file_extension": ".py",
   "mimetype": "text/x-python",
   "name": "python",
   "nbconvert_exporter": "python",
   "pygments_lexer": "ipython3",
   "version": "3.8.5"
  },
  "toc": {
   "base_numbering": 1,
   "nav_menu": {},
   "number_sections": true,
   "sideBar": true,
   "skip_h1_title": false,
   "title_cell": "Table of Contents",
   "title_sidebar": "Contents",
   "toc_cell": true,
   "toc_position": {},
   "toc_section_display": true,
   "toc_window_display": false
  }
 },
 "nbformat": 4,
 "nbformat_minor": 5
}
