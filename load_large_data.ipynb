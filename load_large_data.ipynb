{
 "cells": [
  {
   "cell_type": "markdown",
   "id": "embedded-triumph",
   "metadata": {
    "toc": true
   },
   "source": [
    "<h1>Table of Contents<span class=\"tocSkip\"></span></h1>\n",
    "<div class=\"toc\"><ul class=\"toc-item\"></ul></div>"
   ]
  },
  {
   "cell_type": "markdown",
   "id": "universal-class",
   "metadata": {},
   "source": [
    "Source of the data:\n",
    "https://data.world/lpetrocelli/lendingclub-loan-data-2017-q-1/workspace/project-summary?agentid=lpetrocelli&datasetid=lendingclub-loan-data-2017-q-1\n",
    "\n",
    "Source:\n",
    "https://www.lendingclub.com/info/download-data.action"
   ]
  },
  {
   "cell_type": "markdown",
   "id": "plastic-grave",
   "metadata": {},
   "source": [
    "[README for this project](https://github.com/celesteshort/ml-lending-default) for information about this project and the findings"
   ]
  },
  {
   "cell_type": "markdown",
   "id": "considered-wisdom",
   "metadata": {},
   "source": [
    "This file is used to load the initial large dataset from Lending Club.  We then clean some of the data, and remove columns we will not be using to train our models. This clean dataset is then saved for use in the [main notebook](https://github.com/celesteshort/ml-lending-default/blob/main/ml_loan_default.ipynb)"
   ]
  },
  {
   "cell_type": "code",
   "execution_count": 1,
   "id": "surprising-tactics",
   "metadata": {},
   "outputs": [],
   "source": [
    "import numpy as np\n",
    "import pandas as pd\n",
    "from nltk.corpus import stopwords\n",
    "import re\n",
    "import matplotlib.pyplot as plt\n",
    "import seaborn as sns\n",
    "\n",
    "%matplotlib inline"
   ]
  },
  {
   "cell_type": "code",
   "execution_count": 2,
   "id": "civilian-income",
   "metadata": {},
   "outputs": [],
   "source": [
    "loan = pd.read_csv('./LoanStats/accepted_2007_to_2018Q4.csv', low_memory=False)\n"
   ]
  },
  {
   "cell_type": "code",
   "execution_count": 3,
   "id": "revised-recommendation",
   "metadata": {},
   "outputs": [],
   "source": [
    "x = loan[['funded_amnt', 'emp_length', 'annual_inc', 'loan_status', \n",
    "         'loan_amnt', 'home_ownership', 'int_rate','addr_state', 'grade', \n",
    "          'term', 'installment', 'total_pymnt','issue_d', \n",
    "          'purpose', 'dti', 'zip_code']]\n",
    "loan2 = x.copy()"
   ]
  },
  {
   "cell_type": "code",
   "execution_count": 4,
   "id": "agreed-variable",
   "metadata": {},
   "outputs": [],
   "source": [
    "# Release the memory of loan since we don't need it anymore\n",
    "del loan"
   ]
  },
  {
   "cell_type": "code",
   "execution_count": 18,
   "id": "thick-hampton",
   "metadata": {},
   "outputs": [
    {
     "name": "stdout",
     "output_type": "stream",
     "text": [
      "<class 'pandas.core.frame.DataFrame'>\n",
      "RangeIndex: 2260701 entries, 0 to 2260700\n",
      "Data columns (total 18 columns):\n",
      " #   Column           Dtype  \n",
      "---  ------           -----  \n",
      " 0   funded_amnt      float64\n",
      " 1   emp_length       object \n",
      " 2   annual_inc       float64\n",
      " 3   loan_status      object \n",
      " 4   loan_amnt        float64\n",
      " 5   home_ownership   object \n",
      " 6   int_rate         float64\n",
      " 7   addr_state       object \n",
      " 8   grade            object \n",
      " 9   term             object \n",
      " 10  installment      float64\n",
      " 11  sub_grade        object \n",
      " 12  total_pymnt      float64\n",
      " 13  issue_d          object \n",
      " 14  funded_amnt_inv  float64\n",
      " 15  purpose          object \n",
      " 16  dti              float64\n",
      " 17  zip_code         object \n",
      "dtypes: float64(8), object(10)\n",
      "memory usage: 310.5+ MB\n"
     ]
    }
   ],
   "source": [
    "loan2.info()"
   ]
  },
  {
   "cell_type": "code",
   "execution_count": 5,
   "id": "heated-nothing",
   "metadata": {},
   "outputs": [],
   "source": [
    "loan2.to_csv('./LoanStats/loans_with_date.csv')"
   ]
  },
  {
   "cell_type": "code",
   "execution_count": 6,
   "id": "unique-glenn",
   "metadata": {},
   "outputs": [
    {
     "data": {
      "text/plain": [
       "(2260701, 16)"
      ]
     },
     "execution_count": 6,
     "metadata": {},
     "output_type": "execute_result"
    }
   ],
   "source": [
    "loan2.shape"
   ]
  }
 ],
 "metadata": {
  "kernelspec": {
   "display_name": "Python 3",
   "language": "python",
   "name": "python3"
  },
  "language_info": {
   "codemirror_mode": {
    "name": "ipython",
    "version": 3
   },
   "file_extension": ".py",
   "mimetype": "text/x-python",
   "name": "python",
   "nbconvert_exporter": "python",
   "pygments_lexer": "ipython3",
   "version": "3.8.5"
  },
  "toc": {
   "base_numbering": 1,
   "nav_menu": {},
   "number_sections": true,
   "sideBar": true,
   "skip_h1_title": false,
   "title_cell": "Table of Contents",
   "title_sidebar": "Contents",
   "toc_cell": true,
   "toc_position": {},
   "toc_section_display": true,
   "toc_window_display": false
  }
 },
 "nbformat": 4,
 "nbformat_minor": 5
}
